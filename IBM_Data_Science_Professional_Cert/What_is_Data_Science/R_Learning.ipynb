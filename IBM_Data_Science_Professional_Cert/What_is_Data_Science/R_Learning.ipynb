{
 "cells": [
  {
   "cell_type": "markdown",
   "id": "472c4170-377b-4b69-bdb4-15a7c4ca1fd7",
   "metadata": {},
   "source": [
    "#Finally got it set up in Anacoda Navigator\n",
    "-Had some kind of a problem with vs code running jupyterlab with R"
   ]
  },
  {
   "cell_type": "markdown",
   "id": "0af05bef-42ab-4b9f-909d-3f84f4dfe355",
   "metadata": {},
   "source": [
    "# Variables and Data Types"
   ]
  },
  {
   "cell_type": "code",
   "execution_count": 1,
   "id": "7fda5f46-fad6-46e7-ad59-292a45dccc2d",
   "metadata": {
    "tags": []
   },
   "outputs": [
    {
     "name": "stdout",
     "output_type": "stream",
     "text": [
      "[1] 10\n"
     ]
    },
    {
     "data": {
      "text/html": [
       "'numeric'"
      ],
      "text/latex": [
       "'numeric'"
      ],
      "text/markdown": [
       "'numeric'"
      ],
      "text/plain": [
       "[1] \"numeric\""
      ]
     },
     "metadata": {},
     "output_type": "display_data"
    },
    {
     "data": {
      "text/html": [
       "'character'"
      ],
      "text/latex": [
       "'character'"
      ],
      "text/markdown": [
       "'character'"
      ],
      "text/plain": [
       "[1] \"character\""
      ]
     },
     "metadata": {},
     "output_type": "display_data"
    },
    {
     "data": {
      "text/html": [
       "'logical'"
      ],
      "text/latex": [
       "'logical'"
      ],
      "text/markdown": [
       "'logical'"
      ],
      "text/plain": [
       "[1] \"logical\""
      ]
     },
     "metadata": {},
     "output_type": "display_data"
    }
   ],
   "source": [
    "# Assigning a value to a variable\n",
    "x <- 10\n",
    "\n",
    "# Printing the value of a variable\n",
    "print(x)\n",
    "\n",
    "# Data types\n",
    "a <- 5           # Numeric\n",
    "b <- \"Hello\"     # Character\n",
    "c <- TRUE        # Logical (Boolean)\n",
    "\n",
    "# Checking data types\n",
    "class(a)         # Numeric\n",
    "class(b)         # Character\n",
    "class(c)         # Logical"
   ]
  },
  {
   "cell_type": "markdown",
   "id": "eacedba0-188d-402f-af7a-b4fcef9fa332",
   "metadata": {
    "tags": []
   },
   "source": [
    "# Basic Arithmetic"
   ]
  },
  {
   "cell_type": "code",
   "execution_count": 3,
   "id": "08f0645a-f49e-4ec5-a59f-0e36d9f059d5",
   "metadata": {
    "tags": []
   },
   "outputs": [
    {
     "name": "stdout",
     "output_type": "stream",
     "text": [
      "[1] 15\n",
      "[1] 5\n",
      "[1] 50\n",
      "[1] 2\n",
      "[1] 100\n",
      "[1] 0\n"
     ]
    }
   ],
   "source": [
    "# Addition, subtraction, multiplication, division\n",
    "a <- 10\n",
    "b <- 5\n",
    "addition_result <- a + b\n",
    "subtraction_result <- a - b\n",
    "multiplication_result <- a * b\n",
    "division_result <- a / b\n",
    "\n",
    "# Exponentiation\n",
    "exponent_result <- a ^ 2  # a raised to the power of 2\n",
    "\n",
    "# Modulus (remainder after division)\n",
    "modulus_result <- a %% b\n",
    "\n",
    "# Printing results\n",
    "print(addition_result)\n",
    "print(subtraction_result)\n",
    "print(multiplication_result)\n",
    "print(division_result)\n",
    "print(exponent_result)\n",
    "print(modulus_result)"
   ]
  },
  {
   "cell_type": "markdown",
   "id": "a1ef1132-cbca-4667-8854-713d8c0ef7e2",
   "metadata": {},
   "source": [
    "# Vectors"
   ]
  },
  {
   "cell_type": "code",
   "execution_count": 4,
   "id": "66c5b37e-8ac3-4746-8268-241fe19c4fdd",
   "metadata": {
    "tags": []
   },
   "outputs": [],
   "source": [
    "# Creating a numeric vector\n",
    "numbers <- c(1, 2, 3, 4, 5)\n",
    "\n",
    "# Creating a character vector\n",
    "fruits <- c(\"apple\", \"banana\", \"cherry\")\n",
    "\n",
    "# Accessing elements of a vector\n",
    "first_number <- numbers[1]\n",
    "second_fruit <- fruits[2]\n",
    "\n",
    "# Vector operations\n",
    "double_numbers <- numbers * 2"
   ]
  },
  {
   "cell_type": "markdown",
   "id": "bbde36c6-18bb-4f1b-a31f-081a3242b85b",
   "metadata": {},
   "source": [
    "# Data Frames"
   ]
  },
  {
   "cell_type": "code",
   "execution_count": 5,
   "id": "41700c29-66b1-49e1-bb56-e54cfbcc1d87",
   "metadata": {
    "tags": []
   },
   "outputs": [
    {
     "name": "stdout",
     "output_type": "stream",
     "text": [
      "     Name Age        City\n",
      "1   Alice  25    New York\n",
      "2     Bob  30 Los Angeles\n",
      "3 Charlie  22     Chicago\n"
     ]
    }
   ],
   "source": [
    "# Creating a data frame\n",
    "data <- data.frame(Name = c(\"Alice\", \"Bob\", \"Charlie\"),\n",
    "                   Age = c(25, 30, 22))\n",
    "\n",
    "# Accessing data frame columns\n",
    "names_column <- data$Name\n",
    "ages_column <- data$Age\n",
    "\n",
    "# Adding a new column\n",
    "data$City <- c(\"New York\", \"Los Angeles\", \"Chicago\")\n",
    "\n",
    "# Printing the data frame\n",
    "print(data)"
   ]
  },
  {
   "cell_type": "markdown",
   "id": "84843f14-6b66-4b29-bcac-e7567e4b75ea",
   "metadata": {},
   "source": [
    "# Conditional Statements"
   ]
  },
  {
   "cell_type": "code",
   "execution_count": 6,
   "id": "16ed804b-06b0-47ee-b21e-df1bedd29453",
   "metadata": {
    "tags": []
   },
   "outputs": [
    {
     "name": "stdout",
     "output_type": "stream",
     "text": [
      "[1] \"You are an adult.\"\n",
      "[1] \"Iteration 1\"\n",
      "[1] \"Iteration 2\"\n",
      "[1] \"Iteration 3\"\n",
      "[1] \"Iteration 4\"\n",
      "[1] \"Iteration 5\"\n",
      "[1] \"Count: 1\"\n",
      "[1] \"Count: 2\"\n",
      "[1] \"Count: 3\"\n",
      "[1] \"Count: 4\"\n",
      "[1] \"Count: 5\"\n"
     ]
    }
   ],
   "source": [
    "# if-else statement\n",
    "age <- 20\n",
    "if (age >= 18) {\n",
    "  print(\"You are an adult.\")\n",
    "} else {\n",
    "  print(\"You are not an adult.\")\n",
    "}\n",
    "\n",
    "# for loop\n",
    "for (i in 1:5) {\n",
    "  print(paste(\"Iteration\", i))\n",
    "}\n",
    "\n",
    "# while loop\n",
    "count <- 1\n",
    "while (count <= 5) {\n",
    "  print(paste(\"Count:\", count))\n",
    "  count <- count + 1\n",
    "}"
   ]
  },
  {
   "cell_type": "code",
   "execution_count": 9,
   "id": "1a0c9235-60e9-4901-a038-a28cf29ba7c7",
   "metadata": {
    "tags": []
   },
   "outputs": [],
   "source": [
    "# import library datasets\n",
    "library(datasets)\n",
    "\n",
    "# load data\n",
    "data(mtcars)"
   ]
  },
  {
   "cell_type": "code",
   "execution_count": 10,
   "id": "696caddc-cb49-426d-aaca-a886b0b41632",
   "metadata": {
    "tags": []
   },
   "outputs": [
    {
     "data": {
      "text/html": [
       "<table>\n",
       "<thead><tr><th></th><th scope=col>mpg</th><th scope=col>cyl</th><th scope=col>disp</th><th scope=col>hp</th><th scope=col>drat</th><th scope=col>wt</th><th scope=col>qsec</th><th scope=col>vs</th><th scope=col>am</th><th scope=col>gear</th><th scope=col>carb</th></tr></thead>\n",
       "<tbody>\n",
       "\t<tr><th scope=row>Mazda RX4</th><td>21.0 </td><td>6    </td><td>160  </td><td>110  </td><td>3.90 </td><td>2.620</td><td>16.46</td><td>0    </td><td>1    </td><td>4    </td><td>4    </td></tr>\n",
       "\t<tr><th scope=row>Mazda RX4 Wag</th><td>21.0 </td><td>6    </td><td>160  </td><td>110  </td><td>3.90 </td><td>2.875</td><td>17.02</td><td>0    </td><td>1    </td><td>4    </td><td>4    </td></tr>\n",
       "\t<tr><th scope=row>Datsun 710</th><td>22.8 </td><td>4    </td><td>108  </td><td> 93  </td><td>3.85 </td><td>2.320</td><td>18.61</td><td>1    </td><td>1    </td><td>4    </td><td>1    </td></tr>\n",
       "\t<tr><th scope=row>Hornet 4 Drive</th><td>21.4 </td><td>6    </td><td>258  </td><td>110  </td><td>3.08 </td><td>3.215</td><td>19.44</td><td>1    </td><td>0    </td><td>3    </td><td>1    </td></tr>\n",
       "\t<tr><th scope=row>Hornet Sportabout</th><td>18.7 </td><td>8    </td><td>360  </td><td>175  </td><td>3.15 </td><td>3.440</td><td>17.02</td><td>0    </td><td>0    </td><td>3    </td><td>2    </td></tr>\n",
       "</tbody>\n",
       "</table>\n"
      ],
      "text/latex": [
       "\\begin{tabular}{r|lllllllllll}\n",
       "  & mpg & cyl & disp & hp & drat & wt & qsec & vs & am & gear & carb\\\\\n",
       "\\hline\n",
       "\tMazda RX4 & 21.0  & 6     & 160   & 110   & 3.90  & 2.620 & 16.46 & 0     & 1     & 4     & 4    \\\\\n",
       "\tMazda RX4 Wag & 21.0  & 6     & 160   & 110   & 3.90  & 2.875 & 17.02 & 0     & 1     & 4     & 4    \\\\\n",
       "\tDatsun 710 & 22.8  & 4     & 108   &  93   & 3.85  & 2.320 & 18.61 & 1     & 1     & 4     & 1    \\\\\n",
       "\tHornet 4 Drive & 21.4  & 6     & 258   & 110   & 3.08  & 3.215 & 19.44 & 1     & 0     & 3     & 1    \\\\\n",
       "\tHornet Sportabout & 18.7  & 8     & 360   & 175   & 3.15  & 3.440 & 17.02 & 0     & 0     & 3     & 2    \\\\\n",
       "\\end{tabular}\n"
      ],
      "text/markdown": [
       "\n",
       "| <!--/--> | mpg | cyl | disp | hp | drat | wt | qsec | vs | am | gear | carb |\n",
       "|---|---|---|---|---|---|---|---|---|---|---|---|\n",
       "| Mazda RX4 | 21.0  | 6     | 160   | 110   | 3.90  | 2.620 | 16.46 | 0     | 1     | 4     | 4     |\n",
       "| Mazda RX4 Wag | 21.0  | 6     | 160   | 110   | 3.90  | 2.875 | 17.02 | 0     | 1     | 4     | 4     |\n",
       "| Datsun 710 | 22.8  | 4     | 108   |  93   | 3.85  | 2.320 | 18.61 | 1     | 1     | 4     | 1     |\n",
       "| Hornet 4 Drive | 21.4  | 6     | 258   | 110   | 3.08  | 3.215 | 19.44 | 1     | 0     | 3     | 1     |\n",
       "| Hornet Sportabout | 18.7  | 8     | 360   | 175   | 3.15  | 3.440 | 17.02 | 0     | 0     | 3     | 2     |\n",
       "\n"
      ],
      "text/plain": [
       "                  mpg  cyl disp hp  drat wt    qsec  vs am gear carb\n",
       "Mazda RX4         21.0 6   160  110 3.90 2.620 16.46 0  1  4    4   \n",
       "Mazda RX4 Wag     21.0 6   160  110 3.90 2.875 17.02 0  1  4    4   \n",
       "Datsun 710        22.8 4   108   93 3.85 2.320 18.61 1  1  4    1   \n",
       "Hornet 4 Drive    21.4 6   258  110 3.08 3.215 19.44 1  0  3    1   \n",
       "Hornet Sportabout 18.7 8   360  175 3.15 3.440 17.02 0  0  3    2   "
      ]
     },
     "metadata": {},
     "output_type": "display_data"
    }
   ],
   "source": [
    "# view first 5 rows \n",
    "head(mtcars, 5)"
   ]
  },
  {
   "cell_type": "code",
   "execution_count": 11,
   "id": "517d20c7-289c-4bda-a89d-ac30ea37c069",
   "metadata": {
    "tags": []
   },
   "outputs": [
    {
     "name": "stderr",
     "output_type": "stream",
     "text": [
      "Registered S3 methods overwritten by 'ggplot2':\n",
      "  method         from \n",
      "  [.quosures     rlang\n",
      "  c.quosures     rlang\n",
      "  print.quosures rlang\n"
     ]
    },
    {
     "data": {
      "image/png": "[encoded data removed]",
      "text/plain": [
       "plot without title"
      ]
     },
     "metadata": {},
     "output_type": "display_data"
    }
   ],
   "source": [
    "# load ggplot library\n",
    "library(ggplot2)\n",
    "\n",
    "#create a scatterplot of displacement (disp) and miles per gallon(mpg)\n",
    "ggplot(aes(x=disp, y=mpg,), data=mtcars)+geom_point()+ggtitle(\"displacement vs miles per gallon\")"
   ]
  },
  {
   "cell_type": "code",
   "execution_count": 16,
   "id": "3439cd52-4096-4228-8558-cf9a86da2c7c",
   "metadata": {
    "tags": []
   },
   "outputs": [
    {
     "data": {
      "image/png": "[encoded data removed]",
      "text/plain": [
       "plot without title"
      ]
     },
     "metadata": {},
     "output_type": "display_data"
    }
   ],
   "source": [
    "# Add Title\n",
    "ggplot(aes(x-disp, \n",
    "           y=mpg),\n",
    "       data = mtcars,) + geom_point()"
   ]
  },
  {
   "cell_type": "code",
   "execution_count": 22,
   "id": "a956d972-3e68-465e-8755-6abd372d8c39",
   "metadata": {
    "tags": []
   },
   "outputs": [
    {
     "data": {
      "image/png": "[encoded data removed]",
      "text/plain": [
       "plot without title"
      ]
     },
     "metadata": {},
     "output_type": "display_data"
    }
   ],
   "source": [
    "#make vs a factor\n",
    "mtcars$vs <- as.factor(mtcars$vs)\n",
    "\n",
    "#create boxplot of the distribution for v-shaped and straight Engine\n",
    "ggplot(aes(x=vs, y=mpg), \n",
    "       data = mtcars) + \n",
    "        geom_boxplot()"
   ]
  },
  {
   "cell_type": "code",
   "execution_count": 23,
   "id": "2624ba08-1f8f-46eb-ab43-5523af83d3d2",
   "metadata": {
    "tags": []
   },
   "outputs": [
    {
     "data": {
      "image/png": "[encoded data removed]",
      "text/plain": [
       "plot without title"
      ]
     },
     "metadata": {},
     "output_type": "display_data"
    }
   ],
   "source": [
    "# Add color to the boxplots to help differentiate\n",
    "ggplot(aes(x=vs, y=mpg, fill = vs), \n",
    "       data = mtcars) + \n",
    "      geom_boxplot(alpha=0.3) +\n",
    "      theme(legend.position=\"none\")"
   ]
  },
  {
   "cell_type": "code",
   "execution_count": 24,
   "id": "228c9d63-35a2-46b8-9adc-582c36304a16",
   "metadata": {
    "tags": []
   },
   "outputs": [
    {
     "data": {
      "image/png": "[encoded data removed]",
      "text/plain": [
       "plot without title"
      ]
     },
     "metadata": {},
     "output_type": "display_data"
    }
   ],
   "source": [
    "# Create histogram of weight\n",
    "ggplot(aes(x=wt),\n",
    "       data=mtcars) + \n",
    "        geom_histogram(binwidth=0.5)"
   ]
  },
  {
   "cell_type": "markdown",
   "id": "6cb3ce35-1e83-463b-9439-868cfbe2ba88",
   "metadata": {},
   "source": [
    "# Plotting with RStudio \n",
    "#with out RStudio lol"
   ]
  },
  {
   "cell_type": "code",
   "execution_count": 26,
   "id": "56b6fcbd-4207-4211-8a73-c603c47fb1ab",
   "metadata": {
    "tags": []
   },
   "outputs": [],
   "source": [
    "data(iris)"
   ]
  },
  {
   "cell_type": "code",
   "execution_count": 27,
   "id": "44ba2077-b57c-4814-b95c-aa5f22b870d5",
   "metadata": {
    "tags": []
   },
   "outputs": [
    {
     "ename": "ERROR",
     "evalue": "Error in library(GGally): there is no package called 'GGally'\n",
     "output_type": "error",
     "traceback": [
      "Error in library(GGally): there is no package called 'GGally'\nTraceback:\n",
      "1. library(GGally)"
     ]
    }
   ],
   "source": [
    "library(GGally)\n",
    "ggpairs(iris, mapping=ggplot2::aes(colour = Species))"
   ]
  },
  {
   "cell_type": "markdown",
   "id": "f6428f1c-23a8-44b2-a591-4fd151c6ea3a",
   "metadata": {},
   "source": [
    "This gives you a lot of information for a single line of code. First, you can see the data distributions per column and species on the diagonal. Then you see all the pair-wise scatter plots on the tiles left to the diagonal, again segregated by color. It is, for example, obvious that a line can be drawn to separate setosa against versicolor and virginica. In later courses, you will also learn how the overlapping species can be separated. This is called supervised machine learning using non-linear classifiers. You can also see the correlation between individual columns in the tiles on the right to the diagonal, which confirms that setose is more different, hence easier to distinguish, than versicolor and virginica. A correlation value close to one signifies high similarity, whereas a value closer to zero signifies less similarity. The remaining plots on the right are called box-plots, and the ones at the bottom are called histograms, but you will learn about this in a more advanced course in this series."
   ]
  }
 ],
 "metadata": {
  "kernelspec": {
   "display_name": "R",
   "language": "R",
   "name": "ir"
  },
  "language_info": {
   "codemirror_mode": "r",
   "file_extension": ".r",
   "mimetype": "text/x-r-source",
   "name": "R",
   "pygments_lexer": "r",
   "version": "3.6.1"
  },
  "toc-showcode": false
 },
 "nbformat": 4,
 "nbformat_minor": 5
}
