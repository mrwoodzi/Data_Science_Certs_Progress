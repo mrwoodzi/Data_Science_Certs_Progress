{
 "cells": [
  {
   "cell_type": "markdown",
   "id": "bc406fe2-ab1c-4d99-81df-56ac8f50e7bc",
   "metadata": {},
   "source": [
    "# Data Science Tools and Ecosystem"
   ]
  },
  {
   "cell_type": "markdown",
   "id": "c5fc5205-1ce2-43f5-b2fe-2c6f6d752f18",
   "metadata": {},
   "source": [
    "This notebook will summarize Data Science Tools and Ecosytems.\n",
    "- List popular data science languages\n",
    "- list common libraries\n",
    "- environments for data science \n",
    "- show how arithmetic works in R\n"
   ]
  },
  {
   "cell_type": "markdown",
   "id": "6b7af59d-89b2-4873-a9b8-907676f6c607",
   "metadata": {},
   "source": [
    "Some of the popular languages that Data Scientists use are:\n",
    "1. Python\n",
    "2. R\n",
    "3. Scala \n",
    "4. SQL\n"
   ]
  },
  {
   "cell_type": "markdown",
   "id": "291bfcde-8221-4e91-9854-4b8a1f198894",
   "metadata": {},
   "source": [
    "Some of the commonly used libraries by Data Scientist include:\n",
    "1. Pandas\n",
    "2. Seaborn\n",
    "3. Plotly\n",
    "4. caret\n",
    "5. ggplot"
   ]
  },
  {
   "cell_type": "markdown",
   "id": "2e87058d-7237-4392-89fa-2d5e3ead6682",
   "metadata": {
    "tags": []
   },
   "source": [
    "| Data Science Tools |\n",
    "| ------------------ |\n",
    "| VS Code            |\n",
    "| Jupyterlab         |\n",
    "| Rstudio            |\n",
    "| Anaconda Navigator |"
   ]
  },
  {
   "cell_type": "markdown",
   "id": "0f26a8c0-26d4-4185-a158-d6b2cf22f837",
   "metadata": {},
   "source": [
    "### Below are a few examples of evaluating arithmetic expressions in Python."
   ]
  },
  {
   "cell_type": "code",
   "execution_count": 5,
   "id": "42d23d57-b74a-43e6-ac0d-94500ead5fa5",
   "metadata": {
    "tags": []
   },
   "outputs": [
    {
     "data": {
      "text/html": [
       "17"
      ],
      "text/latex": [
       "17"
      ],
      "text/markdown": [
       "17"
      ],
      "text/plain": [
       "[1] 17"
      ]
     },
     "metadata": {},
     "output_type": "display_data"
    }
   ],
   "source": [
    "# This is a simple arithmetic expression to multiply the add integers\n",
    "result <- (3 * 4) + 5\n",
    "result"
   ]
  },
  {
   "cell_type": "code",
   "execution_count": 6,
   "id": "8c90de21-fa7f-4f04-9177-32e0d4d74494",
   "metadata": {
    "tags": []
   },
   "outputs": [
    {
     "data": {
      "text/html": [
       "3.33333333333333"
      ],
      "text/latex": [
       "3.33333333333333"
      ],
      "text/markdown": [
       "3.33333333333333"
      ],
      "text/plain": [
       "[1] 3.333333"
      ]
     },
     "metadata": {},
     "output_type": "display_data"
    }
   ],
   "source": [
    "# This will convert 200 minutes to hours by dividing by 60\n",
    "result <- 200 / 60\n",
    "result"
   ]
  },
  {
   "cell_type": "markdown",
   "id": "015cfeb5-83ec-4d2f-866b-73735c977965",
   "metadata": {},
   "source": [
    "## Author\n",
    "Michael Woods"
   ]
  },
  {
   "cell_type": "code",
   "execution_count": null,
   "id": "ec45ff48-6860-42e5-9824-81b035448a95",
   "metadata": {},
   "outputs": [],
   "source": []
  }
 ],
 "metadata": {
  "kernelspec": {
   "display_name": "R",
   "language": "R",
   "name": "ir"
  },
  "language_info": {
   "codemirror_mode": "r",
   "file_extension": ".r",
   "mimetype": "text/x-r-source",
   "name": "R",
   "pygments_lexer": "r",
   "version": "3.6.1"
  }
 },
 "nbformat": 4,
 "nbformat_minor": 5
}
