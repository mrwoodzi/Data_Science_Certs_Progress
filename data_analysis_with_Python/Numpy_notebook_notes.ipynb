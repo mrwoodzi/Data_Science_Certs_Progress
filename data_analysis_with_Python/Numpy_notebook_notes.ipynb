{
 "cells": [
  {
   "cell_type": "code",
   "execution_count": 29,
   "id": "245f9330-f918-40d0-9382-27b6c0f3afea",
   "metadata": {},
   "outputs": [],
   "source": [
    "import numpy as np"
   ]
  },
  {
   "cell_type": "markdown",
   "id": "43707a7a-feae-4784-a293-59a92df340f1",
   "metadata": {},
   "source": [
    "# Broadcasting and Vectorized Operations "
   ]
  },
  {
   "cell_type": "code",
   "execution_count": 30,
   "id": "0204c18d-08ba-4f35-86c5-220b68c65ef8",
   "metadata": {},
   "outputs": [],
   "source": [
    "a = np.arange(8)"
   ]
  },
  {
   "cell_type": "markdown",
   "id": "e2737e5b-36c2-4cc6-9223-e3a04d06f058",
   "metadata": {},
   "source": [
    "so does arange gives the array an index?"
   ]
  },
  {
   "cell_type": "code",
   "execution_count": 31,
   "id": "c166e97a-3e84-4b30-afd7-0fe3db4b8d40",
   "metadata": {},
   "outputs": [
    {
     "data": {
      "text/plain": [
       "array([0, 1, 2, 3, 4, 5, 6, 7])"
      ]
     },
     "execution_count": 31,
     "metadata": {},
     "output_type": "execute_result"
    }
   ],
   "source": [
    "a"
   ]
  },
  {
   "cell_type": "code",
   "execution_count": 32,
   "id": "b01a2fcb-4342-4770-921d-01ce552af101",
   "metadata": {},
   "outputs": [
    {
     "data": {
      "text/plain": [
       "array([10, 11, 12, 13, 14, 15, 16, 17])"
      ]
     },
     "execution_count": 32,
     "metadata": {},
     "output_type": "execute_result"
    }
   ],
   "source": [
    "a + 10"
   ]
  },
  {
   "cell_type": "code",
   "execution_count": 33,
   "id": "5c527afb-d645-4076-ace2-2c5a12001fcc",
   "metadata": {},
   "outputs": [
    {
     "data": {
      "text/plain": [
       "array([ 0, 10, 20, 30, 40, 50, 60, 70])"
      ]
     },
     "execution_count": 33,
     "metadata": {},
     "output_type": "execute_result"
    }
   ],
   "source": [
    "a * 10"
   ]
  },
  {
   "cell_type": "code",
   "execution_count": 34,
   "id": "bf61837d-b872-48a9-b422-2de98acfa741",
   "metadata": {},
   "outputs": [],
   "source": [
    "a += 100 ## this will continue to add each time you run program as an individual line, don't make that mistake"
   ]
  },
  {
   "cell_type": "code",
   "execution_count": 38,
   "id": "288780ef-9c3b-4b67-b477-68957d12c944",
   "metadata": {},
   "outputs": [],
   "source": [
    "l = [0, 1, 2, 3]"
   ]
  },
  {
   "cell_type": "code",
   "execution_count": 39,
   "id": "395a0df1-d6e1-46d1-914e-5d49a66cb4b9",
   "metadata": {},
   "outputs": [
    {
     "data": {
      "text/plain": [
       "[0, 10, 20, 30]"
      ]
     },
     "execution_count": 39,
     "metadata": {},
     "output_type": "execute_result"
    }
   ],
   "source": [
    "[i * 10 for i in l] ## this is what np.arange() does"
   ]
  },
  {
   "cell_type": "code",
   "execution_count": 41,
   "id": "1b144ce9-abd5-4a16-8a39-57ee14a269c3",
   "metadata": {},
   "outputs": [],
   "source": [
    "a = np.arange(4)"
   ]
  },
  {
   "cell_type": "code",
   "execution_count": 42,
   "id": "6e573eea-1f8e-42f4-bb81-712d7d897854",
   "metadata": {},
   "outputs": [
    {
     "data": {
      "text/plain": [
       "array([0, 1, 2, 3])"
      ]
     },
     "execution_count": 42,
     "metadata": {},
     "output_type": "execute_result"
    }
   ],
   "source": [
    "a"
   ]
  },
  {
   "cell_type": "code",
   "execution_count": 43,
   "id": "8423d52e-be7a-41f5-a9f1-2baaae49828f",
   "metadata": {},
   "outputs": [],
   "source": [
    "b = np.array([10, 10, 10, 10])"
   ]
  },
  {
   "cell_type": "code",
   "execution_count": 44,
   "id": "aac8670c-5e64-4284-a6dc-840f2ddbdf76",
   "metadata": {},
   "outputs": [
    {
     "data": {
      "text/plain": [
       "array([10, 11, 12, 13])"
      ]
     },
     "execution_count": 44,
     "metadata": {},
     "output_type": "execute_result"
    }
   ],
   "source": [
    "a + b"
   ]
  },
  {
   "cell_type": "code",
   "execution_count": 45,
   "id": "b8369ada-11c0-4839-bd6a-eacf562a8729",
   "metadata": {},
   "outputs": [
    {
     "data": {
      "text/plain": [
       "array([ 0, 10, 20, 30])"
      ]
     },
     "execution_count": 45,
     "metadata": {},
     "output_type": "execute_result"
    }
   ],
   "source": [
    "a * b "
   ]
  },
  {
   "cell_type": "markdown",
   "id": "c90ff7d7-fd91-419e-9c32-e512e5740763",
   "metadata": {},
   "source": [
    "# Boolean Arrays\n",
    "\n",
    "\n"
   ]
  },
  {
   "cell_type": "code",
   "execution_count": null,
   "id": "76f9310f-7ab6-4bbd-a958-083d93c8b2b2",
   "metadata": {},
   "outputs": [],
   "source": [
    "a = np.array(4)"
   ]
  },
  {
   "cell_type": "code",
   "execution_count": 46,
   "id": "23523581-b964-42b8-939b-35260d8007ad",
   "metadata": {},
   "outputs": [],
   "source": [
    "new_matrix = np.array([[1, 2, 3], \n",
    "                       [4, 5, 6], \n",
    "                       [7, 8, 9]\n",
    "                       ])\n"
   ]
  },
  {
   "cell_type": "markdown",
   "id": "abf525c4-5ec6-40a2-bde7-d4bd08d514fa",
   "metadata": {},
   "source": [
    "Below we changed the last element in each dimension to 20"
   ]
  },
  {
   "cell_type": "code",
   "execution_count": 51,
   "id": "bd7bd4ef-20b5-4098-a9ee-9eef115695ff",
   "metadata": {},
   "outputs": [
    {
     "name": "stdout",
     "output_type": "stream",
     "text": [
      "[20 20 20]\n"
     ]
    }
   ],
   "source": [
    "new_matrix[:, 2] = 20\n",
    "print(new_matrix[:, 2])"
   ]
  },
  {
   "cell_type": "markdown",
   "id": "c91ffd24-7af9-4e49-b240-4644550164cc",
   "metadata": {},
   "source": [
    "# Initializing Different Types of Arrays"
   ]
  },
  {
   "cell_type": "code",
   "execution_count": 52,
   "id": "b97a2a85-3e6c-4c1e-96d8-97fd19246a18",
   "metadata": {},
   "outputs": [
    {
     "data": {
      "text/plain": [
       "array([[[[0., 0.],\n",
       "         [0., 0.],\n",
       "         [0., 0.]],\n",
       "\n",
       "        [[0., 0.],\n",
       "         [0., 0.],\n",
       "         [0., 0.]],\n",
       "\n",
       "        [[0., 0.],\n",
       "         [0., 0.],\n",
       "         [0., 0.]]],\n",
       "\n",
       "\n",
       "       [[[0., 0.],\n",
       "         [0., 0.],\n",
       "         [0., 0.]],\n",
       "\n",
       "        [[0., 0.],\n",
       "         [0., 0.],\n",
       "         [0., 0.]],\n",
       "\n",
       "        [[0., 0.],\n",
       "         [0., 0.],\n",
       "         [0., 0.]]]])"
      ]
     },
     "execution_count": 52,
     "metadata": {},
     "output_type": "execute_result"
    }
   ],
   "source": [
    "np.zeros((2, 3, 3, 2))"
   ]
  },
  {
   "cell_type": "code",
   "execution_count": 54,
   "id": "d2951396-5d27-434d-a787-3fa35c581917",
   "metadata": {},
   "outputs": [
    {
     "data": {
      "text/plain": [
       "array([[[1, 1],\n",
       "        [1, 1]],\n",
       "\n",
       "       [[1, 1],\n",
       "        [1, 1]],\n",
       "\n",
       "       [[1, 1],\n",
       "        [1, 1]],\n",
       "\n",
       "       [[1, 1],\n",
       "        [1, 1]]])"
      ]
     },
     "execution_count": 54,
     "metadata": {},
     "output_type": "execute_result"
    }
   ],
   "source": [
    "np.ones((4,2,2), dtype='int32')"
   ]
  },
  {
   "cell_type": "code",
   "execution_count": null,
   "id": "4b39a7e0-3b86-4900-bf14-877a8496bbdc",
   "metadata": {},
   "outputs": [],
   "source": [
    "# Any other number\n",
    "np.full((2,2), 99, dtype=float32)"
   ]
  },
  {
   "cell_type": "code",
   "execution_count": 57,
   "id": "1ab55c81-179e-4668-8981-d262a8083119",
   "metadata": {},
   "outputs": [
    {
     "data": {
      "text/plain": [
       "array([[ 1,  2, 20],\n",
       "       [ 4,  5, 20],\n",
       "       [ 7,  8, 20]])"
      ]
     },
     "execution_count": 57,
     "metadata": {},
     "output_type": "execute_result"
    }
   ],
   "source": [
    "new_matrix"
   ]
  },
  {
   "cell_type": "code",
   "execution_count": 58,
   "id": "37fe46c2-01c1-4a0a-b4a7-c188516cc8b4",
   "metadata": {},
   "outputs": [
    {
     "data": {
      "text/plain": [
       "array([[4, 4, 4],\n",
       "       [4, 4, 4],\n",
       "       [4, 4, 4]])"
      ]
     },
     "execution_count": 58,
     "metadata": {},
     "output_type": "execute_result"
    }
   ],
   "source": [
    "np.full_like(new_matrix, 4) # straight up changes new_matrix to a different new_matrix\n"
   ]
  },
  {
   "cell_type": "code",
   "execution_count": 60,
   "id": "40b725d1-84bc-430f-bba3-dd8935f8870d",
   "metadata": {},
   "outputs": [
    {
     "data": {
      "text/plain": [
       "array([[0.22155962, 0.73869795],\n",
       "       [0.48686092, 0.22118083],\n",
       "       [0.21698722, 0.40436405],\n",
       "       [0.02799703, 0.16288082]])"
      ]
     },
     "execution_count": 60,
     "metadata": {},
     "output_type": "execute_result"
    }
   ],
   "source": [
    "np.random.rand(4,2) # random decimal numbers in a certain shape"
   ]
  },
  {
   "cell_type": "code",
   "execution_count": 61,
   "id": "5ffb9843-901d-4351-9729-303258a8c1cf",
   "metadata": {},
   "outputs": [
    {
     "data": {
      "text/plain": [
       "array([[0.93547351, 0.16269554, 0.39765198],\n",
       "       [0.11677174, 0.86079398, 0.11976015],\n",
       "       [0.73472486, 0.83569222, 0.70734788]])"
      ]
     },
     "execution_count": 61,
     "metadata": {},
     "output_type": "execute_result"
    }
   ],
   "source": [
    "np.random.random_sample(new_matrix.shape) # random decimal numbers matching a current variables shape"
   ]
  },
  {
   "cell_type": "code",
   "execution_count": 62,
   "id": "a3fc27d8-8b49-49f6-a79b-0985b61380f8",
   "metadata": {},
   "outputs": [
    {
     "data": {
      "text/plain": [
       "5"
      ]
     },
     "execution_count": 62,
     "metadata": {},
     "output_type": "execute_result"
    }
   ],
   "source": [
    "np.random.randint(7) # random Integer Values"
   ]
  },
  {
   "cell_type": "code",
   "execution_count": 75,
   "id": "024cfac4-b0fa-4796-be67-6dc7b4ac3290",
   "metadata": {},
   "outputs": [
    {
     "data": {
      "text/plain": [
       "array([[2, 5, 4],\n",
       "       [5, 4, 4],\n",
       "       [4, 3, 5]])"
      ]
     },
     "execution_count": 75,
     "metadata": {},
     "output_type": "execute_result"
    }
   ],
   "source": [
    "np.random.randint(1, 7, size=(3,3)) #random ints in 3 by 3 all below 7"
   ]
  },
  {
   "cell_type": "code",
   "execution_count": 85,
   "id": "837995b3-5d70-43d3-9049-239612152c08",
   "metadata": {},
   "outputs": [
    {
     "name": "stdout",
     "output_type": "stream",
     "text": [
      "[1 1 1 2 2 2 3 3 3]\n"
     ]
    }
   ],
   "source": [
    "arr = np.array([[1,2,3]]) # repeating in 1 dimension\n",
    "r1 = np.repeat(arr,3)\n",
    "print(r1)"
   ]
  },
  {
   "cell_type": "code",
   "execution_count": 84,
   "id": "d71bcd44-f57e-44e1-bb8a-a972627ce611",
   "metadata": {},
   "outputs": [
    {
     "name": "stdout",
     "output_type": "stream",
     "text": [
      "[[1 2 3]\n",
      " [1 2 3]\n",
      " [1 2 3]]\n"
     ]
    }
   ],
   "source": [
    "arr2 = np.array([[1,2,3]]) # repeating in multi dimension, be wary of the number of brackets used,\n",
    "r2 = np.repeat(arr2, 3, axis=0) # if only 1 bracket used it will throw an error\n",
    "print(r2)"
   ]
  },
  {
   "cell_type": "markdown",
   "id": "0273bca1-f0d6-46dd-947e-d03c926fe0f4",
   "metadata": {},
   "source": [
    "# Initialize Array Problem\n"
   ]
  },
  {
   "cell_type": "code",
   "execution_count": null,
   "id": "f55052ce-b636-4785-8ff5-61b9f6e0ce50",
   "metadata": {},
   "outputs": [],
   "source": []
  }
 ],
 "metadata": {
  "kernelspec": {
   "display_name": "Python 3 (ipykernel)",
   "language": "python",
   "name": "python3"
  },
  "language_info": {
   "codemirror_mode": {
    "name": "ipython",
    "version": 3
   },
   "file_extension": ".py",
   "mimetype": "text/x-python",
   "name": "python",
   "nbconvert_exporter": "python",
   "pygments_lexer": "ipython3",
   "version": "3.9.13"
  }
 },
 "nbformat": 4,
 "nbformat_minor": 5
}
