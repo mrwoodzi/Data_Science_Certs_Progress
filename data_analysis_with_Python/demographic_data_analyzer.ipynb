{
 "cells": [
  {
   "cell_type": "code",
   "execution_count": 13,
   "id": "1dbe41d0-39d8-4ac0-bb1c-1af9a6d73043",
   "metadata": {},
   "outputs": [],
   "source": [
    "\n",
    "import pandas as pd\n",
    "import numpy as np"
   ]
  },
  {
   "cell_type": "code",
   "execution_count": 14,
   "id": "bbc4acb5-c518-4645-a372-e50418ad7ac9",
   "metadata": {},
   "outputs": [],
   "source": [
    "df = pd.read_csv('adult.data.csv',\n",
    "                 delimiter=',',\n",
    "                )"
   ]
  },
  {
   "cell_type": "code",
   "execution_count": 57,
   "id": "d429b639-86ea-4886-b2ee-330d8021722c",
   "metadata": {},
   "outputs": [
    {
     "data": {
      "text/plain": [
       "White                 27816\n",
       "Black                  3124\n",
       "Asian-Pac-Islander     1039\n",
       "Amer-Indian-Eskimo      311\n",
       "Other                   271\n",
       "dtype: int64"
      ]
     },
     "execution_count": 57,
     "metadata": {},
     "output_type": "execute_result"
    }
   ],
   "source": [
    "race = df['race']\n",
    "race_dict= {}\n",
    "for item in race:\n",
    "    if item in race_dict:\n",
    "        race_dict[item] += 1\n",
    "    else:\n",
    "        race_dict[item] = 1\n",
    "race_dict\n",
    "race_series = pd.Series(race_dict)\n",
    "race_count = race_series\n",
    "race_count"
   ]
  },
  {
   "cell_type": "code",
   "execution_count": 35,
   "id": "73e94125-ede3-43ef-8fda-b61fe2d81c92",
   "metadata": {},
   "outputs": [
    {
     "data": {
      "text/plain": [
       "0         True\n",
       "1         True\n",
       "2         True\n",
       "3         True\n",
       "4        False\n",
       "         ...  \n",
       "32556    False\n",
       "32557     True\n",
       "32558    False\n",
       "32559     True\n",
       "32560    False\n",
       "Name: sex, Length: 32561, dtype: bool"
      ]
     },
     "execution_count": 35,
     "metadata": {},
     "output_type": "execute_result"
    }
   ],
   "source": [
    "male = df[\"sex\"] == \"Male\" # gives me a bool "
   ]
  },
  {
   "cell_type": "code",
   "execution_count": 36,
   "id": "dfd27241-51c3-4a79-af15-f74218be23be",
   "metadata": {},
   "outputs": [
    {
     "data": {
      "text/plain": [
       "0        0\n",
       "1        0\n",
       "2        0\n",
       "3        0\n",
       "4       -1\n",
       "        ..\n",
       "32556   -1\n",
       "32557    0\n",
       "32558   -1\n",
       "32559    0\n",
       "32560   -1\n",
       "Name: sex, Length: 32561, dtype: int64"
      ]
     },
     "execution_count": 36,
     "metadata": {},
     "output_type": "execute_result"
    }
   ],
   "source": [
    "df[\"sex\"].str.find(\"Male\")"
   ]
  },
  {
   "cell_type": "code",
   "execution_count": 110,
   "id": "910ca36a-924c-4793-a4d4-9783cbe36f2a",
   "metadata": {},
   "outputs": [
    {
     "data": {
      "text/plain": [
       "Female    10771\n",
       "Male      21790\n",
       "Name: sex, dtype: int64"
      ]
     },
     "execution_count": 110,
     "metadata": {},
     "output_type": "execute_result"
    }
   ],
   "source": [
    "sorted_sexs = df['sex'].value_counts(sort=True).sort_index() # sorts the sexs and counts them \n",
    "sorted_sexs"
   ]
  },
  {
   "cell_type": "code",
   "execution_count": 111,
   "id": "53c71972-37f8-47ff-901f-c103aedd8eb6",
   "metadata": {},
   "outputs": [
    {
     "data": {
      "text/plain": [
       "21790"
      ]
     },
     "execution_count": 111,
     "metadata": {},
     "output_type": "execute_result"
    }
   ],
   "source": [
    "number_of_males = sorted_sexs[-1]  # gives me total number of males \n",
    "number_of_males"
   ]
  },
  {
   "cell_type": "code",
   "execution_count": 112,
   "id": "65abf8a2-31b1-49b7-bcbc-5f656e434047",
   "metadata": {},
   "outputs": [
    {
     "data": {
      "text/plain": [
       "{'Male': 859257, 'Female': 397000}"
      ]
     },
     "execution_count": 112,
     "metadata": {},
     "output_type": "execute_result"
    }
   ],
   "source": [
    "sex_dict = {}\n",
    "sex = df['sex']\n",
    "age = df['age']\n",
    "for k,v in zip(sex, age):\n",
    "    if k in sex_dict:\n",
    "        sex_dict[k] += v\n",
    "    else:\n",
    "        sex_dict[k] = v\n",
    "sex_dict"
   ]
  },
  {
   "cell_type": "code",
   "execution_count": 115,
   "id": "01b4725e-92bf-45da-8f4b-200c1b3002bd",
   "metadata": {},
   "outputs": [
    {
     "data": {
      "text/plain": [
       "21790"
      ]
     },
     "execution_count": 115,
     "metadata": {},
     "output_type": "execute_result"
    }
   ],
   "source": [
    "male_female_values = []\n",
    "for v in sex_dict.values():\n",
    "    male_female_values.append(v)\n",
    "male_female_values\n",
    "number_of_males"
   ]
  },
  {
   "cell_type": "code",
   "execution_count": 116,
   "id": "eae45e5e-c270-41c1-96d3-68eff9540d5d",
   "metadata": {},
   "outputs": [
    {
     "data": {
      "text/plain": [
       "39.43354749885268"
      ]
     },
     "execution_count": 116,
     "metadata": {},
     "output_type": "execute_result"
    }
   ],
   "source": [
    "average_age_men = male_female_values[0]/number_of_males\n",
    "average_age_men"
   ]
  },
  {
   "cell_type": "code",
   "execution_count": null,
   "id": "7e095458-a3b7-4cdc-8f05-b78a044f0704",
   "metadata": {},
   "outputs": [],
   "source": []
  }
 ],
 "metadata": {
  "kernelspec": {
   "display_name": "Python 3 (ipykernel)",
   "language": "python",
   "name": "python3"
  },
  "language_info": {
   "codemirror_mode": {
    "name": "ipython",
    "version": 3
   },
   "file_extension": ".py",
   "mimetype": "text/x-python",
   "name": "python",
   "nbconvert_exporter": "python",
   "pygments_lexer": "ipython3",
   "version": "3.9.13"
  }
 },
 "nbformat": 4,
 "nbformat_minor": 5
}
