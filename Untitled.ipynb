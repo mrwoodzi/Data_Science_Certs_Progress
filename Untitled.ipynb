{
 "cells": [
  {
   "cell_type": "code",
   "execution_count": null,
   "metadata": {},
   "outputs": [],
   "source": []
  }
 ],
 "metadata": {
  "kernelspec": {
   "display_name": "Python 3",
   "language": "python",
   "name": "python3"
  },
  "language_info": {
   "name": "python",
   "version": "3.9.13"
  },
  "vscode": {
   "interpreter": {
    "hash": "23b03b49e0f064178ca478ce76b3f45412afa39989f3f2370df6986bdca2dfcc"
   }
  }
 },
 "nbformat": 4,
 "nbformat_minor": 5
}
