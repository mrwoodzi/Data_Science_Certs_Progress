{
 "cells": [
  {
   "cell_type": "code",
   "execution_count": 104,
   "id": "2ff233c5-01a8-42a2-bdf3-de93fd72c0e6",
   "metadata": {},
   "outputs": [],
   "source": [
    "import pandas as pd\n",
    "import numpy as np\n",
    "import matplotlib.pyplot as plt"
   ]
  },
  {
   "cell_type": "code",
   "execution_count": 105,
   "id": "346b027c-4ba3-4ed1-83ad-7e3a673ce953",
   "metadata": {},
   "outputs": [],
   "source": [
    "df_lib = pd.read_csv('library.csv')\n",
    "df_list = pd.read_csv('listening.csv')"
   ]
  },
  {
   "cell_type": "code",
   "execution_count": null,
   "id": "8eea86dd-3b42-434a-a23e-7aebcf6b51fd",
   "metadata": {},
   "outputs": [],
   "source": []
  },
  {
   "cell_type": "code",
   "execution_count": 106,
   "id": "61222b0c-c68a-4832-b0aa-691e25bb50ac",
   "metadata": {},
   "outputs": [
    {
     "data": {
      "text/plain": [
       "Index(['fileName', 'fileExtension', 'fileSize', 'creationDate',\n",
       "       'lastUpdatedDate', 'asin', 'purchaseDate', 'localFilePath', 'status',\n",
       "       'purchased', 'uploaded', 'title', 'sortTitle', 'rating', 'assetType',\n",
       "       'artistName', 'artistAsin', 'trackNum', 'discNum', 'primaryGenre',\n",
       "       'duration', 'bitrate', 'composer', 'songWriter', 'performer',\n",
       "       'lyricist', 'publisher', 'primeStatus', 'isMusicSubscription',\n",
       "       'albumName', 'albumAsin', 'albumArtistName', 'albumRating',\n",
       "       'albumPrimaryGenre', 'albumReleaseDate', 'sortArtistName',\n",
       "       'sortAlbumName', 'sortAlbumArtistName', 'audioUpgradeDate',\n",
       "       'parentalControls'],\n",
       "      dtype='object')"
      ]
     },
     "execution_count": 106,
     "metadata": {},
     "output_type": "execute_result"
    }
   ],
   "source": [
    "df_lib.columns # 'artistAsin', 'asin' 'title'"
   ]
  },
  {
   "cell_type": "code",
   "execution_count": 107,
   "id": "35eeab49-4792-4128-ac7f-02c1585577e9",
   "metadata": {},
   "outputs": [
    {
     "data": {
      "text/plain": [
       "Index(['timestamp', 'title', 'asin', 'consumptionDurationMs',\n",
       "       'terminationReason', 'deviceType', 'musicTerritory', 'isShufflePlay',\n",
       "       'titleSetAsin', 'trackLengthMs', 'artistAsin',\n",
       "       'selectionSourceArtistAsin'],\n",
       "      dtype='object')"
      ]
     },
     "execution_count": 107,
     "metadata": {},
     "output_type": "execute_result"
    }
   ],
   "source": [
    "df_list.columns # artistAsin asin 'selectionSourceArtistAsin' 'title'"
   ]
  },
  {
   "cell_type": "markdown",
   "id": "f64455c6-25c9-4ff4-8a57-1658b4fa5328",
   "metadata": {},
   "source": [
    "# Testing if artistAsin is the same\n",
    "Yes they are\n",
    "and are actually the same as title"
   ]
  },
  {
   "cell_type": "code",
   "execution_count": 108,
   "id": "3e457eb4-4917-4098-a462-d55e1e6f25e0",
   "metadata": {},
   "outputs": [],
   "source": [
    "listen = df_list['artistAsin']\n",
    "library = df_lib['artistAsin']"
   ]
  },
  {
   "cell_type": "markdown",
   "id": "b0923305-8bb5-4eaf-a814-bafe1c1c0556",
   "metadata": {},
   "source": [
    "# Below I am testing whether or not any of the titles are the same\n",
    "Yes they are"
   ]
  },
  {
   "cell_type": "code",
   "execution_count": 109,
   "id": "d1384f69-5849-4fe4-8fb3-ba1ba242d8f3",
   "metadata": {},
   "outputs": [],
   "source": [
    "stuff = {}\n",
    "for a in listen:\n",
    "    if a in stuff.keys():\n",
    "        stuff[a] += 1\n",
    "    else:\n",
    "        stuff[a] = 1\n",
    "for b in library:\n",
    "    if b in stuff.keys():\n",
    "        stuff[b] += 1\n",
    "    else:\n",
    "        stuff[b] = 1\n"
   ]
  },
  {
   "cell_type": "code",
   "execution_count": 110,
   "id": "09743842-0ca7-4176-b290-db05ae5fb6e9",
   "metadata": {},
   "outputs": [],
   "source": [
    "dictionary = dict()\n",
    "for iter in listen:\n",
    "    if iter in dictionary.keys():\n",
    "        dictionary[iter] += 1\n",
    "    else:\n",
    "        dictionary[iter] = 1"
   ]
  },
  {
   "cell_type": "code",
   "execution_count": 111,
   "id": "b1c410d0-233c-4dc2-8bbc-35fdfabd65b8",
   "metadata": {},
   "outputs": [],
   "source": [
    "for iter in library:\n",
    "    if iter in dictionary.keys():\n",
    "        dictionary[iter] += 1\n",
    "    else:\n",
    "        dictionary[iter] = 1"
   ]
  },
  {
   "cell_type": "code",
   "execution_count": 112,
   "id": "3bfcade0-c5f2-4cf8-9831-697986d80192",
   "metadata": {},
   "outputs": [],
   "source": [
    "list_ty = df_list[['title']]\n",
    "list_tx = df_list[['consumptionDurationMs']]\n",
    "lib_t = df_lib['title']"
   ]
  },
  {
   "cell_type": "code",
   "execution_count": 116,
   "id": "fcc11862-2be7-4842-8590-7bfed65c5e94",
   "metadata": {},
   "outputs": [
    {
     "name": "stdout",
     "output_type": "stream",
     "text": [
      "Unexpected exception formatting exception. Falling back to standard exception\n"
     ]
    },
    {
     "name": "stderr",
     "output_type": "stream",
     "text": [
      "Traceback (most recent call last):\n",
      "  File \"C:\\Users\\Woodzi\\AppData\\Local\\Packages\\PythonSoftwareFoundation.Python.3.9_qbz5n2kfra8p0\\LocalCache\\local-packages\\Python39\\site-packages\\IPython\\core\\interactiveshell.py\", line 3433, in run_code\n",
      "    exec(code_obj, self.user_global_ns, self.user_ns)\n",
      "  File \"C:\\Users\\Woodzi\\AppData\\Local\\Temp\\ipykernel_20068\\4048411637.py\", line 3, in <module>\n",
      "    ax.bar(list_tx, list_ty, edgecolor=\"white\")\n",
      "  File \"C:\\Users\\Woodzi\\AppData\\Local\\Packages\\PythonSoftwareFoundation.Python.3.9_qbz5n2kfra8p0\\LocalCache\\local-packages\\Python39\\site-packages\\matplotlib\\__init__.py\", line 1423, in inner\n",
      "    return func(ax, *map(sanitize_sequence, args), **kwargs)\n",
      "  File \"C:\\Users\\Woodzi\\AppData\\Local\\Packages\\PythonSoftwareFoundation.Python.3.9_qbz5n2kfra8p0\\LocalCache\\local-packages\\Python39\\site-packages\\matplotlib\\axes\\_axes.py\", line 2366, in bar\n",
      "    self._process_unit_info(\n",
      "  File \"C:\\Users\\Woodzi\\AppData\\Local\\Packages\\PythonSoftwareFoundation.Python.3.9_qbz5n2kfra8p0\\LocalCache\\local-packages\\Python39\\site-packages\\matplotlib\\axes\\_base.py\", line 2585, in _process_unit_info\n",
      "    axis.update_units(data)\n",
      "  File \"C:\\Users\\Woodzi\\AppData\\Local\\Packages\\PythonSoftwareFoundation.Python.3.9_qbz5n2kfra8p0\\LocalCache\\local-packages\\Python39\\site-packages\\matplotlib\\axis.py\", line 1608, in update_units\n",
      "    default = self.converter.default_units(data, self)\n",
      "  File \"C:\\Users\\Woodzi\\AppData\\Local\\Packages\\PythonSoftwareFoundation.Python.3.9_qbz5n2kfra8p0\\LocalCache\\local-packages\\Python39\\site-packages\\matplotlib\\category.py\", line 116, in default_units\n",
      "    axis.set_units(UnitData(data))\n",
      "  File \"C:\\Users\\Woodzi\\AppData\\Local\\Packages\\PythonSoftwareFoundation.Python.3.9_qbz5n2kfra8p0\\LocalCache\\local-packages\\Python39\\site-packages\\matplotlib\\category.py\", line 192, in __init__\n",
      "    self.update(data)\n",
      "  File \"C:\\Users\\Woodzi\\AppData\\Local\\Packages\\PythonSoftwareFoundation.Python.3.9_qbz5n2kfra8p0\\LocalCache\\local-packages\\Python39\\site-packages\\matplotlib\\category.py\", line 225, in update\n",
      "    for val in OrderedDict.fromkeys(data):\n",
      "TypeError: unhashable type: 'numpy.ndarray'\n",
      "\n",
      "During handling of the above exception, another exception occurred:\n",
      "\n",
      "Traceback (most recent call last):\n",
      "  File \"C:\\Users\\Woodzi\\AppData\\Local\\Packages\\PythonSoftwareFoundation.Python.3.9_qbz5n2kfra8p0\\LocalCache\\local-packages\\Python39\\site-packages\\IPython\\core\\interactiveshell.py\", line 2052, in showtraceback\n",
      "    stb = self.InteractiveTB.structured_traceback(\n",
      "  File \"C:\\Users\\Woodzi\\AppData\\Local\\Packages\\PythonSoftwareFoundation.Python.3.9_qbz5n2kfra8p0\\LocalCache\\local-packages\\Python39\\site-packages\\IPython\\core\\ultratb.py\", line 1118, in structured_traceback\n",
      "    return FormattedTB.structured_traceback(\n",
      "  File \"C:\\Users\\Woodzi\\AppData\\Local\\Packages\\PythonSoftwareFoundation.Python.3.9_qbz5n2kfra8p0\\LocalCache\\local-packages\\Python39\\site-packages\\IPython\\core\\ultratb.py\", line 1012, in structured_traceback\n",
      "    return VerboseTB.structured_traceback(\n",
      "  File \"C:\\Users\\Woodzi\\AppData\\Local\\Packages\\PythonSoftwareFoundation.Python.3.9_qbz5n2kfra8p0\\LocalCache\\local-packages\\Python39\\site-packages\\IPython\\core\\ultratb.py\", line 865, in structured_traceback\n",
      "    formatted_exception = self.format_exception_as_a_whole(etype, evalue, etb, number_of_lines_of_context,\n",
      "  File \"C:\\Users\\Woodzi\\AppData\\Local\\Packages\\PythonSoftwareFoundation.Python.3.9_qbz5n2kfra8p0\\LocalCache\\local-packages\\Python39\\site-packages\\IPython\\core\\ultratb.py\", line 818, in format_exception_as_a_whole\n",
      "    frames.append(self.format_record(r))\n",
      "  File \"C:\\Users\\Woodzi\\AppData\\Local\\Packages\\PythonSoftwareFoundation.Python.3.9_qbz5n2kfra8p0\\LocalCache\\local-packages\\Python39\\site-packages\\IPython\\core\\ultratb.py\", line 736, in format_record\n",
      "    result += ''.join(_format_traceback_lines(frame_info.lines, Colors, self.has_colors, lvals))\n",
      "  File \"C:\\Users\\Woodzi\\AppData\\Local\\Packages\\PythonSoftwareFoundation.Python.3.9_qbz5n2kfra8p0\\LocalCache\\local-packages\\Python39\\site-packages\\stack_data\\utils.py\", line 144, in cached_property_wrapper\n",
      "    value = obj.__dict__[self.func.__name__] = self.func(obj)\n",
      "  File \"C:\\Users\\Woodzi\\AppData\\Local\\Packages\\PythonSoftwareFoundation.Python.3.9_qbz5n2kfra8p0\\LocalCache\\local-packages\\Python39\\site-packages\\stack_data\\core.py\", line 734, in lines\n",
      "    pieces = self.included_pieces\n",
      "  File \"C:\\Users\\Woodzi\\AppData\\Local\\Packages\\PythonSoftwareFoundation.Python.3.9_qbz5n2kfra8p0\\LocalCache\\local-packages\\Python39\\site-packages\\stack_data\\utils.py\", line 144, in cached_property_wrapper\n",
      "    value = obj.__dict__[self.func.__name__] = self.func(obj)\n",
      "  File \"C:\\Users\\Woodzi\\AppData\\Local\\Packages\\PythonSoftwareFoundation.Python.3.9_qbz5n2kfra8p0\\LocalCache\\local-packages\\Python39\\site-packages\\stack_data\\core.py\", line 677, in included_pieces\n",
      "    scope_pieces = self.scope_pieces\n",
      "  File \"C:\\Users\\Woodzi\\AppData\\Local\\Packages\\PythonSoftwareFoundation.Python.3.9_qbz5n2kfra8p0\\LocalCache\\local-packages\\Python39\\site-packages\\stack_data\\utils.py\", line 144, in cached_property_wrapper\n",
      "    value = obj.__dict__[self.func.__name__] = self.func(obj)\n",
      "  File \"C:\\Users\\Woodzi\\AppData\\Local\\Packages\\PythonSoftwareFoundation.Python.3.9_qbz5n2kfra8p0\\LocalCache\\local-packages\\Python39\\site-packages\\stack_data\\core.py\", line 614, in scope_pieces\n",
      "    scope_start, scope_end = self.source.line_range(self.scope)\n",
      "  File \"C:\\Users\\Woodzi\\AppData\\Local\\Packages\\PythonSoftwareFoundation.Python.3.9_qbz5n2kfra8p0\\LocalCache\\local-packages\\Python39\\site-packages\\stack_data\\core.py\", line 178, in line_range\n",
      "    return line_range(self.asttext(), node)\n",
      "  File \"C:\\Users\\Woodzi\\AppData\\Local\\Packages\\PythonSoftwareFoundation.Python.3.9_qbz5n2kfra8p0\\LocalCache\\local-packages\\Python39\\site-packages\\executing\\executing.py\", line 428, in asttext\n",
      "    self._asttext = ASTText(self.text, tree=self.tree, filename=self.filename)\n",
      "  File \"C:\\Users\\Woodzi\\AppData\\Local\\Packages\\PythonSoftwareFoundation.Python.3.9_qbz5n2kfra8p0\\LocalCache\\local-packages\\Python39\\site-packages\\asttokens\\asttokens.py\", line 307, in __init__\n",
      "    super(ASTText, self).__init__(source_text, filename)\n",
      "  File \"C:\\Users\\Woodzi\\AppData\\Local\\Packages\\PythonSoftwareFoundation.Python.3.9_qbz5n2kfra8p0\\LocalCache\\local-packages\\Python39\\site-packages\\asttokens\\asttokens.py\", line 44, in __init__\n",
      "    source_text = six.ensure_text(source_text)\n",
      "AttributeError: module 'six' has no attribute 'ensure_text'\n"
     ]
    },
    {
     "data": {
      "image/png": "[encoded data removed]",
      "text/plain": [
       "<Figure size 200x200 with 1 Axes>"
      ]
     },
     "metadata": {},
     "output_type": "display_data"
    }
   ],
   "source": [
    "fig, ax = plt.subplots()\n",
    "\n",
    "ax.bar(list_tx, list_ty, edgecolor=\"white\")\n",
    "ax.set('Song Titles')\n",
    "ax.set('Duration in Milli_Seconds')\n",
    "\n",
    "plt.show()"
   ]
  },
  {
   "cell_type": "code",
   "execution_count": null,
   "id": "4af94c12-2491-4d0b-b67e-b5c5adc00db8",
   "metadata": {},
   "outputs": [],
   "source": []
  },
  {
   "cell_type": "code",
   "execution_count": null,
   "id": "2a1b3dd8-0539-46a8-a40a-fc9bf611bc64",
   "metadata": {},
   "outputs": [],
   "source": []
  }
 ],
 "metadata": {
  "kernelspec": {
   "display_name": "Python 3 (ipykernel)",
   "language": "python",
   "name": "python3"
  },
  "language_info": {
   "codemirror_mode": {
    "name": "ipython",
    "version": 3
   },
   "file_extension": ".py",
   "mimetype": "text/x-python",
   "name": "python",
   "nbconvert_exporter": "python",
   "pygments_lexer": "ipython3",
   "version": "3.9.13"
  }
 },
 "nbformat": 4,
 "nbformat_minor": 5
}
