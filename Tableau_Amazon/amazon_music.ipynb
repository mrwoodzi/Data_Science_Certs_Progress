{
 "cells": [
  {
   "cell_type": "code",
   "execution_count": 104,
   "id": "2ff233c5-01a8-42a2-bdf3-de93fd72c0e6",
   "metadata": {},
   "outputs": [],
   "source": [
    "import pandas as pd\n",
    "import numpy as np\n",
    "import matplotlib.pyplot as plt"
   ]
  },
  {
   "cell_type": "code",
   "execution_count": 105,
   "id": "346b027c-4ba3-4ed1-83ad-7e3a673ce953",
   "metadata": {},
   "outputs": [],
   "source": [
    "df_lib = pd.read_csv('library.csv')\n",
    "df_list = pd.read_csv('listening.csv')"
   ]
  },
  {
   "cell_type": "code",
   "execution_count": null,
   "id": "8eea86dd-3b42-434a-a23e-7aebcf6b51fd",
   "metadata": {},
   "outputs": [],
   "source": []
  },
  {
   "cell_type": "code",
   "execution_count": 106,
   "id": "61222b0c-c68a-4832-b0aa-691e25bb50ac",
   "metadata": {},
   "outputs": [
    {
     "data": {
      "text/plain": [
       "Index(['fileName', 'fileExtension', 'fileSize', 'creationDate',\n",
       "       'lastUpdatedDate', 'asin', 'purchaseDate', 'localFilePath', 'status',\n",
       "       'purchased', 'uploaded', 'title', 'sortTitle', 'rating', 'assetType',\n",
       "       'artistName', 'artistAsin', 'trackNum', 'discNum', 'primaryGenre',\n",
       "       'duration', 'bitrate', 'composer', 'songWriter', 'performer',\n",
       "       'lyricist', 'publisher', 'primeStatus', 'isMusicSubscription',\n",
       "       'albumName', 'albumAsin', 'albumArtistName', 'albumRating',\n",
       "       'albumPrimaryGenre', 'albumReleaseDate', 'sortArtistName',\n",
       "       'sortAlbumName', 'sortAlbumArtistName', 'audioUpgradeDate',\n",
       "       'parentalControls'],\n",
       "      dtype='object')"
      ]
     },
     "execution_count": 106,
     "metadata": {},
     "output_type": "execute_result"
    }
   ],
   "source": [
    "df_lib.columns # 'artistAsin', 'asin' 'title'"
   ]
  },
  {
   "cell_type": "code",
   "execution_count": 107,
   "id": "35eeab49-4792-4128-ac7f-02c1585577e9",
   "metadata": {},
   "outputs": [
    {
     "data": {
      "text/plain": [
       "Index(['timestamp', 'title', 'asin', 'consumptionDurationMs',\n",
       "       'terminationReason', 'deviceType', 'musicTerritory', 'isShufflePlay',\n",
       "       'titleSetAsin', 'trackLengthMs', 'artistAsin',\n",
       "       'selectionSourceArtistAsin'],\n",
       "      dtype='object')"
      ]
     },
     "execution_count": 107,
     "metadata": {},
     "output_type": "execute_result"
    }
   ],
   "source": [
    "df_list.columns # artistAsin asin 'selectionSourceArtistAsin' 'title'"
   ]
  },
  {
   "cell_type": "markdown",
   "id": "f64455c6-25c9-4ff4-8a57-1658b4fa5328",
   "metadata": {},
   "source": [
    "# Testing if artistAsin is the same\n",
    "Yes they are\n",
    "and are actually the same as title"
   ]
  },
  {
   "cell_type": "code",
   "execution_count": 108,
   "id": "3e457eb4-4917-4098-a462-d55e1e6f25e0",
   "metadata": {},
   "outputs": [],
   "source": [
    "listen = df_list['artistAsin']\n",
    "library = df_lib['artistAsin']"
   ]
  },
  {
   "cell_type": "markdown",
   "id": "b0923305-8bb5-4eaf-a814-bafe1c1c0556",
   "metadata": {},
   "source": [
    "# Below I am testing whether or not any of the titles are the same\n",
    "Yes they are"
   ]
  },
  {
   "cell_type": "code",
   "execution_count": 109,
   "id": "d1384f69-5849-4fe4-8fb3-ba1ba242d8f3",
   "metadata": {},
   "outputs": [],
   "source": [
    "stuff = {}\n",
    "for a in listen:\n",
    "    if a in stuff.keys():\n",
    "        stuff[a] += 1\n",
    "    else:\n",
    "        stuff[a] = 1\n",
    "for b in library:\n",
    "    if b in stuff.keys():\n",
    "        stuff[b] += 1\n",
    "    else:\n",
    "        stuff[b] = 1\n"
   ]
  },
  {
   "cell_type": "code",
   "execution_count": 110,
   "id": "09743842-0ca7-4176-b290-db05ae5fb6e9",
   "metadata": {},
   "outputs": [],
   "source": [
    "dictionary = dict()\n",
    "for iter in listen:\n",
    "    if iter in dictionary.keys():\n",
    "        dictionary[iter] += 1\n",
    "    else:\n",
    "        dictionary[iter] = 1"
   ]
  },
  {
   "cell_type": "code",
   "execution_count": 111,
   "id": "b1c410d0-233c-4dc2-8bbc-35fdfabd65b8",
   "metadata": {},
   "outputs": [],
   "source": [
    "for iter in library:\n",
    "    if iter in dictionary.keys():\n",
    "        dictionary[iter] += 1\n",
    "    else:\n",
    "        dictionary[iter] = 1"
   ]
  },
  {
   "cell_type": "code",
   "execution_count": 112,
   "id": "3bfcade0-c5f2-4cf8-9831-697986d80192",
   "metadata": {},
   "outputs": [],
   "source": [
    "list_ty = df_list[['title']]\n",
    "list_tx = df_list[['consumptionDurationMs']]\n",
    "lib_t = df_lib['title']"
   ]
  },
  {
   "cell_type": "code",
   "execution_count": 117,
   "id": "fcc11862-2be7-4842-8590-7bfed65c5e94",
   "metadata": {},
   "outputs": [
    {
     "data": {
      "image/png": "[encoded data removed]",
      "text/plain": [
       "<Figure size 200x200 with 1 Axes>"
      ]
     },
     "metadata": {},
     "output_type": "display_data"
    }
   ],
   "source": [
    "import matplotlib.pyplot as plt\n",
    "\n",
    "fig, ax = plt.subplots()\n",
    "\n",
    "fruits = ['apple', 'blueberry', 'cherry', 'orange']\n",
    "counts = [40, 100, 30, 55]\n",
    "bar_labels = ['red', 'blue', '_red', 'orange']\n",
    "bar_colors = ['tab:red', 'tab:blue', 'tab:red', 'tab:orange']\n",
    "\n",
    "ax.bar(fruits, counts, label=bar_labels, color=bar_colors)\n",
    "\n",
    "ax.set_ylabel('fruit supply')\n",
    "ax.set_title('Fruit supply by kind and color')\n",
    "ax.legend(title='Fruit color')\n",
    "\n",
    "plt.show()"
   ]
  },
  {
   "cell_type": "code",
   "execution_count": null,
   "id": "4af94c12-2491-4d0b-b67e-b5c5adc00db8",
   "metadata": {},
   "outputs": [],
   "source": []
  },
  {
   "cell_type": "code",
   "execution_count": null,
   "id": "2a1b3dd8-0539-46a8-a40a-fc9bf611bc64",
   "metadata": {},
   "outputs": [],
   "source": []
  }
 ],
 "metadata": {
  "kernelspec": {
   "display_name": "Python 3 (ipykernel)",
   "language": "python",
   "name": "python3"
  },
  "language_info": {
   "codemirror_mode": {
    "name": "ipython",
    "version": 3
   },
   "file_extension": ".py",
   "mimetype": "text/x-python",
   "name": "python",
   "nbconvert_exporter": "python",
   "pygments_lexer": "ipython3",
   "version": "3.9.13"
  }
 },
 "nbformat": 4,
 "nbformat_minor": 5
}
