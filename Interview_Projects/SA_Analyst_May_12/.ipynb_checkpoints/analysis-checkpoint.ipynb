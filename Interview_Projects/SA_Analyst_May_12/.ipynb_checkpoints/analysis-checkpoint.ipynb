{
 "cells": [
  {
   "cell_type": "code",
   "execution_count": null,
   "metadata": {},
   "outputs": [],
   "source": [
    "# Create a dataframe that reads datadictionary-311.xlsx and creates a dataframe\n",
    "\n",
    "import pandas as pd\n",
    "import numpy as np\n",
    "import seaborn as sns\n",
    "import matplotlib.pyplot as plt\n",
    "\n",
    "# # Set display options to show all columns and rows and maximum column width\n",
    "# pd.set_option('display.max_columns', None)\n",
    "# pd.set_option('display.max_rows', None)\n",
    "# pd.set_option('display.max_colwidth', None)\n",
    "\n",
    "# # # Read datadictionary-311.xlsx into a pandas df\n",
    "# # df = pd.read_excel('datadictionary-311.xlsx')\n",
    "\n",
    "# # #delete first column \"Unnamed: 0\"\n",
    "# # df = df.drop('Unnamed: 0', axis=1)\n",
    "\n",
    "# # #Drop row at index 0\n",
    "# # df = df.drop(0, axis=0)\n",
    "\n",
    "\n",
    "# # #Make row at index 1 the column names\n",
    "# # df.columns = df.iloc[0]\n",
    "\n",
    "# # #Drop row at index 1 \n",
    "# # df = df.drop(1, axis=0)\n",
    "\n",
    "# # df_311_dict = df\n",
    "# # df_311_dict"
   ]
  },
  {
   "cell_type": "code",
   "execution_count": null,
   "metadata": {},
   "outputs": [],
   "source": []
  }
 ],
 "metadata": {
  "language_info": {
   "name": "python"
  }
 },
 "nbformat": 4,
 "nbformat_minor": 2
}
