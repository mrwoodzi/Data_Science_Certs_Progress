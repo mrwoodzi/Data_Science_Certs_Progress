{
 "cells": [
  {
   "cell_type": "code",
   "execution_count": null,
   "metadata": {},
   "outputs": [],
   "source": [
    "# # This would make your code in jupyter notebooks interactive and live with powerbi\n",
    "# import powerbi\n",
    "\n",
    "# # Create a connection to Power BI\n",
    "# conn = powerbi.connect() # or powerbi.connect_desktop()\n",
    "\n",
    "# # Create a report\n",
    "# report = conn.create_report()\n",
    "\n",
    "# # Create a graph\n",
    "# graph = report.add_graph()\n",
    "\n",
    "# # Connect the graph to the data\n",
    "# graph.connect_data(data)\n",
    "\n",
    "# # Run the report\n",
    "# report.run()"
   ]
  },
  {
   "cell_type": "code",
   "execution_count": null,
   "metadata": {},
   "outputs": [],
   "source": [
    "# import powerbi\n",
    "\n",
    "# # Create a connection to Power BI Desktop\n",
    "# conn = powerbi.connect_desktop()\n",
    "\n",
    "# # Load the data from a CSV file\n",
    "# data = conn.load_data(\"data.csv\")\n",
    "\n",
    "# # Create a report\n",
    "# report = conn.create_report(data)\n",
    "\n",
    "# # Run the report\n",
    "# report.run()"
   ]
  }
 ],
 "metadata": {
  "language_info": {
   "name": "python"
  },
  "orig_nbformat": 4
 },
 "nbformat": 4,
 "nbformat_minor": 2
}
