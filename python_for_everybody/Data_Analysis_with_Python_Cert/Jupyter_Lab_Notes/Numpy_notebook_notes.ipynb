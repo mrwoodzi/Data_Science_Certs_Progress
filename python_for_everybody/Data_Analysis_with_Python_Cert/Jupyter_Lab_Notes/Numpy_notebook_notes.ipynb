{
 "cells": [
  {
   "cell_type": "code",
   "execution_count": 1,
   "id": "245f9330-f918-40d0-9382-27b6c0f3afea",
   "metadata": {},
   "outputs": [],
   "source": [
    "import numpy as np\n",
    "import sys as sys"
   ]
  },
  {
   "cell_type": "markdown",
   "id": "43707a7a-feae-4784-a293-59a92df340f1",
   "metadata": {},
   "source": [
    "# Broadcasting and Vectorized Operations "
   ]
  },
  {
   "cell_type": "code",
   "execution_count": 2,
   "id": "0204c18d-08ba-4f35-86c5-220b68c65ef8",
   "metadata": {},
   "outputs": [],
   "source": [
    "a = np.arange(8)"
   ]
  },
  {
   "cell_type": "markdown",
   "id": "e2737e5b-36c2-4cc6-9223-e3a04d06f058",
   "metadata": {},
   "source": [
    "so does arange gives the array an index?"
   ]
  },
  {
   "cell_type": "code",
   "execution_count": 3,
   "id": "c166e97a-3e84-4b30-afd7-0fe3db4b8d40",
   "metadata": {},
   "outputs": [
    {
     "data": {
      "text/plain": [
       "array([0, 1, 2, 3, 4, 5, 6, 7])"
      ]
     },
     "execution_count": 3,
     "metadata": {},
     "output_type": "execute_result"
    }
   ],
   "source": [
    "a"
   ]
  },
  {
   "cell_type": "code",
   "execution_count": 4,
   "id": "b01a2fcb-4342-4770-921d-01ce552af101",
   "metadata": {},
   "outputs": [
    {
     "data": {
      "text/plain": [
       "array([10, 11, 12, 13, 14, 15, 16, 17])"
      ]
     },
     "execution_count": 4,
     "metadata": {},
     "output_type": "execute_result"
    }
   ],
   "source": [
    "a + 10"
   ]
  },
  {
   "cell_type": "code",
   "execution_count": 5,
   "id": "5c527afb-d645-4076-ace2-2c5a12001fcc",
   "metadata": {},
   "outputs": [
    {
     "data": {
      "text/plain": [
       "array([ 0, 10, 20, 30, 40, 50, 60, 70])"
      ]
     },
     "execution_count": 5,
     "metadata": {},
     "output_type": "execute_result"
    }
   ],
   "source": [
    "a * 10"
   ]
  },
  {
   "cell_type": "code",
   "execution_count": 6,
   "id": "bf61837d-b872-48a9-b422-2de98acfa741",
   "metadata": {},
   "outputs": [],
   "source": [
    "a += 100 ## this will continue to add each time you run program as an individual line, don't make that mistake"
   ]
  },
  {
   "cell_type": "code",
   "execution_count": 7,
   "id": "288780ef-9c3b-4b67-b477-68957d12c944",
   "metadata": {},
   "outputs": [],
   "source": [
    "l = [0, 1, 2, 3]"
   ]
  },
  {
   "cell_type": "code",
   "execution_count": 8,
   "id": "395a0df1-d6e1-46d1-914e-5d49a66cb4b9",
   "metadata": {},
   "outputs": [
    {
     "data": {
      "text/plain": [
       "[0, 10, 20, 30]"
      ]
     },
     "execution_count": 8,
     "metadata": {},
     "output_type": "execute_result"
    }
   ],
   "source": [
    "[i * 10 for i in l] ## this is what np.arange() does"
   ]
  },
  {
   "cell_type": "code",
   "execution_count": 12,
   "id": "1b144ce9-abd5-4a16-8a39-57ee14a269c3",
   "metadata": {},
   "outputs": [],
   "source": [
    "a = np.arange(4)"
   ]
  },
  {
   "cell_type": "code",
   "execution_count": 13,
   "id": "6e573eea-1f8e-42f4-bb81-712d7d897854",
   "metadata": {},
   "outputs": [
    {
     "data": {
      "text/plain": [
       "array([0, 1, 2, 3])"
      ]
     },
     "execution_count": 13,
     "metadata": {},
     "output_type": "execute_result"
    }
   ],
   "source": [
    "a"
   ]
  },
  {
   "cell_type": "code",
   "execution_count": 14,
   "id": "8423d52e-be7a-41f5-a9f1-2baaae49828f",
   "metadata": {},
   "outputs": [],
   "source": [
    "b = np.array([10, 10, 10, 10])"
   ]
  },
  {
   "cell_type": "code",
   "execution_count": 15,
   "id": "aac8670c-5e64-4284-a6dc-840f2ddbdf76",
   "metadata": {},
   "outputs": [
    {
     "data": {
      "text/plain": [
       "array([10, 11, 12, 13])"
      ]
     },
     "execution_count": 15,
     "metadata": {},
     "output_type": "execute_result"
    }
   ],
   "source": [
    "a + b"
   ]
  },
  {
   "cell_type": "code",
   "execution_count": 16,
   "id": "b8369ada-11c0-4839-bd6a-eacf562a8729",
   "metadata": {},
   "outputs": [
    {
     "data": {
      "text/plain": [
       "array([ 0, 10, 20, 30])"
      ]
     },
     "execution_count": 16,
     "metadata": {},
     "output_type": "execute_result"
    }
   ],
   "source": [
    "a * b "
   ]
  },
  {
   "cell_type": "markdown",
   "id": "c90ff7d7-fd91-419e-9c32-e512e5740763",
   "metadata": {},
   "source": [
    "# Boolean Arrays\n",
    "\n",
    "\n"
   ]
  },
  {
   "cell_type": "code",
   "execution_count": 17,
   "id": "76f9310f-7ab6-4bbd-a958-083d93c8b2b2",
   "metadata": {},
   "outputs": [],
   "source": [
    "a = np.array(4)"
   ]
  },
  {
   "cell_type": "code",
   "execution_count": 18,
   "id": "23523581-b964-42b8-939b-35260d8007ad",
   "metadata": {},
   "outputs": [],
   "source": [
    "new_matrix = np.array([[1, 2, 3], \n",
    "                       [4, 5, 6], \n",
    "                       [7, 8, 9]\n",
    "                       ])\n"
   ]
  },
  {
   "cell_type": "markdown",
   "id": "abf525c4-5ec6-40a2-bde7-d4bd08d514fa",
   "metadata": {},
   "source": [
    "Below we changed the last element in each dimension to 20"
   ]
  },
  {
   "cell_type": "code",
   "execution_count": 19,
   "id": "bd7bd4ef-20b5-4098-a9ee-9eef115695ff",
   "metadata": {},
   "outputs": [
    {
     "name": "stdout",
     "output_type": "stream",
     "text": [
      "[20 20 20]\n"
     ]
    }
   ],
   "source": [
    "new_matrix[:, 2] = 20\n",
    "print(new_matrix[:, 2])"
   ]
  },
  {
   "cell_type": "markdown",
   "id": "c91ffd24-7af9-4e49-b240-4644550164cc",
   "metadata": {},
   "source": [
    "# Initializing Different Types of Arrays"
   ]
  },
  {
   "cell_type": "code",
   "execution_count": 20,
   "id": "b97a2a85-3e6c-4c1e-96d8-97fd19246a18",
   "metadata": {},
   "outputs": [
    {
     "data": {
      "text/plain": [
       "array([[[[0., 0.],\n",
       "         [0., 0.],\n",
       "         [0., 0.]],\n",
       "\n",
       "        [[0., 0.],\n",
       "         [0., 0.],\n",
       "         [0., 0.]],\n",
       "\n",
       "        [[0., 0.],\n",
       "         [0., 0.],\n",
       "         [0., 0.]]],\n",
       "\n",
       "\n",
       "       [[[0., 0.],\n",
       "         [0., 0.],\n",
       "         [0., 0.]],\n",
       "\n",
       "        [[0., 0.],\n",
       "         [0., 0.],\n",
       "         [0., 0.]],\n",
       "\n",
       "        [[0., 0.],\n",
       "         [0., 0.],\n",
       "         [0., 0.]]]])"
      ]
     },
     "execution_count": 20,
     "metadata": {},
     "output_type": "execute_result"
    }
   ],
   "source": [
    "np.zeros((2, 3, 3, 2))"
   ]
  },
  {
   "cell_type": "code",
   "execution_count": 21,
   "id": "d2951396-5d27-434d-a787-3fa35c581917",
   "metadata": {},
   "outputs": [
    {
     "data": {
      "text/plain": [
       "array([[[1, 1],\n",
       "        [1, 1]],\n",
       "\n",
       "       [[1, 1],\n",
       "        [1, 1]],\n",
       "\n",
       "       [[1, 1],\n",
       "        [1, 1]],\n",
       "\n",
       "       [[1, 1],\n",
       "        [1, 1]]])"
      ]
     },
     "execution_count": 21,
     "metadata": {},
     "output_type": "execute_result"
    }
   ],
   "source": [
    "np.ones((4,2,2), dtype='int32')"
   ]
  },
  {
   "cell_type": "code",
   "execution_count": 22,
   "id": "4b39a7e0-3b86-4900-bf14-877a8496bbdc",
   "metadata": {},
   "outputs": [
    {
     "ename": "NameError",
     "evalue": "name 'float32' is not defined",
     "output_type": "error",
     "traceback": [
      "\u001b[1;31m---------------------------------------------------------------------------\u001b[0m",
      "\u001b[1;31mNameError\u001b[0m                                 Traceback (most recent call last)",
      "Cell \u001b[1;32mIn[22], line 2\u001b[0m\n\u001b[0;32m      1\u001b[0m \u001b[38;5;66;03m# Any other number\u001b[39;00m\n\u001b[1;32m----> 2\u001b[0m np\u001b[38;5;241m.\u001b[39mfull((\u001b[38;5;241m2\u001b[39m,\u001b[38;5;241m2\u001b[39m), \u001b[38;5;241m99\u001b[39m, dtype\u001b[38;5;241m=\u001b[39m\u001b[43mfloat32\u001b[49m)\n",
      "\u001b[1;31mNameError\u001b[0m: name 'float32' is not defined"
     ]
    }
   ],
   "source": [
    "# Any other number\n",
    "np.full((2,2), 99, dtype=float32)"
   ]
  },
  {
   "cell_type": "code",
   "execution_count": 23,
   "id": "1ab55c81-179e-4668-8981-d262a8083119",
   "metadata": {},
   "outputs": [
    {
     "data": {
      "text/plain": [
       "array([[ 1,  2, 20],\n",
       "       [ 4,  5, 20],\n",
       "       [ 7,  8, 20]])"
      ]
     },
     "execution_count": 23,
     "metadata": {},
     "output_type": "execute_result"
    }
   ],
   "source": [
    "new_matrix"
   ]
  },
  {
   "cell_type": "code",
   "execution_count": 24,
   "id": "37fe46c2-01c1-4a0a-b4a7-c188516cc8b4",
   "metadata": {},
   "outputs": [
    {
     "data": {
      "text/plain": [
       "array([[4, 4, 4],\n",
       "       [4, 4, 4],\n",
       "       [4, 4, 4]])"
      ]
     },
     "execution_count": 24,
     "metadata": {},
     "output_type": "execute_result"
    }
   ],
   "source": [
    "np.full_like(new_matrix, 4) # straight up changes new_matrix to a different new_matrix\n"
   ]
  },
  {
   "cell_type": "code",
   "execution_count": 25,
   "id": "40b725d1-84bc-430f-bba3-dd8935f8870d",
   "metadata": {},
   "outputs": [
    {
     "data": {
      "text/plain": [
       "array([[0.99871009, 0.64096835],\n",
       "       [0.65978908, 0.36719981],\n",
       "       [0.36356868, 0.69689271],\n",
       "       [0.39158505, 0.14219862]])"
      ]
     },
     "execution_count": 25,
     "metadata": {},
     "output_type": "execute_result"
    }
   ],
   "source": [
    "np.random.rand(4,2) # random decimal numbers in a certain shape"
   ]
  },
  {
   "cell_type": "code",
   "execution_count": 26,
   "id": "5ffb9843-901d-4351-9729-303258a8c1cf",
   "metadata": {},
   "outputs": [
    {
     "data": {
      "text/plain": [
       "array([[0.33832513, 0.19098601, 0.65712417],\n",
       "       [0.21500753, 0.84295903, 0.23675836],\n",
       "       [0.96929118, 0.36552924, 0.90820396]])"
      ]
     },
     "execution_count": 26,
     "metadata": {},
     "output_type": "execute_result"
    }
   ],
   "source": [
    "np.random.random_sample(new_matrix.shape) # random decimal numbers matching a current variables shape"
   ]
  },
  {
   "cell_type": "code",
   "execution_count": 27,
   "id": "a3fc27d8-8b49-49f6-a79b-0985b61380f8",
   "metadata": {},
   "outputs": [
    {
     "data": {
      "text/plain": [
       "0"
      ]
     },
     "execution_count": 27,
     "metadata": {},
     "output_type": "execute_result"
    }
   ],
   "source": [
    "np.random.randint(7) # random Integer Values"
   ]
  },
  {
   "cell_type": "code",
   "execution_count": 28,
   "id": "024cfac4-b0fa-4796-be67-6dc7b4ac3290",
   "metadata": {},
   "outputs": [
    {
     "data": {
      "text/plain": [
       "array([[1, 2, 1],\n",
       "       [3, 3, 3],\n",
       "       [3, 5, 5]])"
      ]
     },
     "execution_count": 28,
     "metadata": {},
     "output_type": "execute_result"
    }
   ],
   "source": [
    "np.random.randint(1, 7, size=(3,3)) #random ints in 3 by 3 all below 7"
   ]
  },
  {
   "cell_type": "code",
   "execution_count": 29,
   "id": "837995b3-5d70-43d3-9049-239612152c08",
   "metadata": {},
   "outputs": [
    {
     "name": "stdout",
     "output_type": "stream",
     "text": [
      "[1 1 1 2 2 2 3 3 3]\n"
     ]
    }
   ],
   "source": [
    "arr = np.array([[1,2,3]]) # repeating in 1 dimension\n",
    "r1 = np.repeat(arr,3)\n",
    "print(r1)"
   ]
  },
  {
   "cell_type": "code",
   "execution_count": 30,
   "id": "d71bcd44-f57e-44e1-bb8a-a972627ce611",
   "metadata": {},
   "outputs": [
    {
     "name": "stdout",
     "output_type": "stream",
     "text": [
      "[[1 2 3]\n",
      " [1 2 3]\n",
      " [1 2 3]]\n"
     ]
    }
   ],
   "source": [
    "arr2 = np.array([[1,2,3]]) # repeating in multi dimension, be wary of the number of brackets used,\n",
    "r2 = np.repeat(arr2, 3, axis=0) # if only 1 bracket used it will throw an error\n",
    "print(r2)"
   ]
  },
  {
   "cell_type": "markdown",
   "id": "0273bca1-f0d6-46dd-947e-d03c926fe0f4",
   "metadata": {},
   "source": [
    "# Initialize Array Problem\n"
   ]
  },
  {
   "cell_type": "code",
   "execution_count": null,
   "id": "f55052ce-b636-4785-8ff5-61b9f6e0ce50",
   "metadata": {},
   "outputs": [],
   "source": []
  },
  {
   "cell_type": "markdown",
   "id": "d7090c0e-2f7d-4b45-a750-9dd6cda429b3",
   "metadata": {},
   "source": [
    "# Boolean Arrays\n",
    "Bools are Similar to Vectorized Arrays in NumPy"
   ]
  },
  {
   "cell_type": "code",
   "execution_count": 36,
   "id": "e7796192-a354-4ab7-91a4-9c09b72702be",
   "metadata": {},
   "outputs": [
    {
     "name": "stdout",
     "output_type": "stream",
     "text": [
      "[0 1 2 3]\n"
     ]
    }
   ],
   "source": [
    "a = np.arange(4)\n",
    "print(a)\n"
   ]
  },
  {
   "cell_type": "code",
   "execution_count": 38,
   "id": "54f98afb-1911-4a15-9b83-a241247c0919",
   "metadata": {},
   "outputs": [
    {
     "data": {
      "text/plain": [
       "array([0, 3])"
      ]
     },
     "execution_count": 38,
     "metadata": {},
     "output_type": "execute_result"
    }
   ],
   "source": [
    "# Array Selection with Bool\n",
    "a[[True, False, False, True]]"
   ]
  },
  {
   "cell_type": "code",
   "execution_count": 39,
   "id": "66eb1532-1cef-4b01-8206-aa9e2185292b",
   "metadata": {},
   "outputs": [
    {
     "data": {
      "text/plain": [
       "array([], shape=(0, 4), dtype=int32)"
      ]
     },
     "execution_count": 39,
     "metadata": {},
     "output_type": "execute_result"
    }
   ],
   "source": [
    "a[True, False, False, True] # super interesting output"
   ]
  },
  {
   "cell_type": "code",
   "execution_count": 40,
   "id": "9d1a03fb-3269-4b5d-a526-c8b5524bc9a3",
   "metadata": {},
   "outputs": [
    {
     "data": {
      "text/plain": [
       "array([False, False,  True,  True])"
      ]
     },
     "execution_count": 40,
     "metadata": {},
     "output_type": "execute_result"
    }
   ],
   "source": [
    "a >= 2"
   ]
  },
  {
   "cell_type": "code",
   "execution_count": 41,
   "id": "3a3ae515-e4ae-4ac0-82a8-cd13c1fecedc",
   "metadata": {},
   "outputs": [
    {
     "data": {
      "text/plain": [
       "array([2, 3])"
      ]
     },
     "execution_count": 41,
     "metadata": {},
     "output_type": "execute_result"
    }
   ],
   "source": [
    "a[a >= 2] # helps us to filter numeric arrays, query method"
   ]
  },
  {
   "cell_type": "code",
   "execution_count": 43,
   "id": "78a36a02-1c5e-48d8-b0a1-383287955259",
   "metadata": {},
   "outputs": [
    {
     "data": {
      "text/plain": [
       "1.5"
      ]
     },
     "execution_count": 43,
     "metadata": {},
     "output_type": "execute_result"
    }
   ],
   "source": [
    "a.mean()\n"
   ]
  },
  {
   "cell_type": "code",
   "execution_count": 44,
   "id": "c40aea5d-8739-4073-b406-a6294dc223d4",
   "metadata": {},
   "outputs": [
    {
     "data": {
      "text/plain": [
       "array([0, 1])"
      ]
     },
     "execution_count": 44,
     "metadata": {},
     "output_type": "execute_result"
    }
   ],
   "source": [
    "a[~(a > a.mean())]"
   ]
  },
  {
   "cell_type": "code",
   "execution_count": 46,
   "id": "9b86e2dd-2b6e-41ef-8288-0f871ff1b22c",
   "metadata": {},
   "outputs": [
    {
     "data": {
      "text/plain": [
       "array([0, 1])"
      ]
     },
     "execution_count": 46,
     "metadata": {},
     "output_type": "execute_result"
    }
   ],
   "source": [
    "a[(a == 0) | (a == 1 )] # comparing with or"
   ]
  },
  {
   "cell_type": "code",
   "execution_count": 47,
   "id": "d87826dc-2adb-4dfd-b961-a25ee3f1d6bc",
   "metadata": {},
   "outputs": [
    {
     "data": {
      "text/plain": [
       "array([0, 2])"
      ]
     },
     "execution_count": 47,
     "metadata": {},
     "output_type": "execute_result"
    }
   ],
   "source": [
    "a[(a <= 2) & (a % 2 == 0)] # comparing with and "
   ]
  },
  {
   "cell_type": "code",
   "execution_count": 52,
   "id": "78e8a323-40bb-4060-ae8b-e6452d5cdcde",
   "metadata": {},
   "outputs": [],
   "source": [
    "A = np.random.randint(100, size=(3, 3))"
   ]
  },
  {
   "cell_type": "code",
   "execution_count": 53,
   "id": "08f561f0-835d-4c7c-8516-38b164fdd579",
   "metadata": {},
   "outputs": [
    {
     "data": {
      "text/plain": [
       "array([[48, 30, 89],\n",
       "       [18, 79, 28],\n",
       "       [97, 48,  5]])"
      ]
     },
     "execution_count": 53,
     "metadata": {},
     "output_type": "execute_result"
    }
   ],
   "source": [
    "A"
   ]
  },
  {
   "cell_type": "code",
   "execution_count": 54,
   "id": "48f98720-82a9-4920-8bf4-f5850607e2cc",
   "metadata": {},
   "outputs": [
    {
     "data": {
      "text/plain": [
       "array([[ True, False,  True],\n",
       "       [False,  True, False],\n",
       "       [ True,  True, False]])"
      ]
     },
     "execution_count": 54,
     "metadata": {},
     "output_type": "execute_result"
    }
   ],
   "source": [
    "A > 30"
   ]
  },
  {
   "cell_type": "code",
   "execution_count": 55,
   "id": "e966694b-e1b3-44f1-ac2d-7b8c3689f2b8",
   "metadata": {},
   "outputs": [
    {
     "data": {
      "text/plain": [
       "array([48, 89, 79, 97, 48])"
      ]
     },
     "execution_count": 55,
     "metadata": {},
     "output_type": "execute_result"
    }
   ],
   "source": [
    "A[A > 30]"
   ]
  },
  {
   "cell_type": "code",
   "execution_count": 56,
   "id": "ca068281-d246-45d1-a5f5-920a365a0d75",
   "metadata": {},
   "outputs": [],
   "source": [
    "b = np.arange(5)"
   ]
  },
  {
   "cell_type": "code",
   "execution_count": 57,
   "id": "ad9e60ab-f226-49d8-9215-b25cf9694a07",
   "metadata": {},
   "outputs": [
    {
     "data": {
      "text/plain": [
       "array([ True,  True,  True,  True])"
      ]
     },
     "execution_count": 57,
     "metadata": {},
     "output_type": "execute_result"
    }
   ],
   "source": [
    "a <= 3"
   ]
  },
  {
   "cell_type": "markdown",
   "id": "defd7761-6792-497c-99bd-a67e8ef9827e",
   "metadata": {},
   "source": [
    "# Algebra and Size "
   ]
  },
  {
   "cell_type": "code",
   "execution_count": 63,
   "id": "ed628ad9-e63b-41d6-9dcb-0a160a53222a",
   "metadata": {},
   "outputs": [],
   "source": [
    "c = np.array([[1, 2, 3], \n",
    "                [4, 5, 6], \n",
    "                [7, 8, 9]\n",
    "])"
   ]
  },
  {
   "cell_type": "code",
   "execution_count": 64,
   "id": "0e92b268-5407-49e8-b607-63e70d654dbf",
   "metadata": {},
   "outputs": [],
   "source": [
    "d = np.array([\n",
    "    [6, 5], \n",
    "    [4, 3],\n",
    "    [2, 1]\n",
    "])"
   ]
  },
  {
   "cell_type": "code",
   "execution_count": 65,
   "id": "a2a4cab4-2fcb-4670-a0ef-69a42d6f18a9",
   "metadata": {},
   "outputs": [
    {
     "data": {
      "text/plain": [
       "array([[20, 14],\n",
       "       [56, 41],\n",
       "       [92, 68]])"
      ]
     },
     "execution_count": 65,
     "metadata": {},
     "output_type": "execute_result"
    }
   ],
   "source": [
    "c.dot(d)"
   ]
  },
  {
   "cell_type": "code",
   "execution_count": 66,
   "id": "55f21691-7c15-4bdf-96c4-60e9b544b435",
   "metadata": {},
   "outputs": [
    {
     "data": {
      "text/plain": [
       "array([[20, 14],\n",
       "       [56, 41],\n",
       "       [92, 68]])"
      ]
     },
     "execution_count": 66,
     "metadata": {},
     "output_type": "execute_result"
    }
   ],
   "source": [
    "c @ d"
   ]
  },
  {
   "cell_type": "code",
   "execution_count": 67,
   "id": "c28b78a5-12c8-4b8c-ba4c-81a2f3140ae2",
   "metadata": {},
   "outputs": [
    {
     "data": {
      "text/plain": [
       "array([[6, 4, 2],\n",
       "       [5, 3, 1]])"
      ]
     },
     "execution_count": 67,
     "metadata": {},
     "output_type": "execute_result"
    }
   ],
   "source": [
    "d.T"
   ]
  },
  {
   "cell_type": "code",
   "execution_count": 68,
   "id": "aedecd18-1129-4f01-a634-c31132d59a98",
   "metadata": {},
   "outputs": [
    {
     "data": {
      "text/plain": [
       "array([[1, 2, 3],\n",
       "       [4, 5, 6],\n",
       "       [7, 8, 9]])"
      ]
     },
     "execution_count": 68,
     "metadata": {},
     "output_type": "execute_result"
    }
   ],
   "source": [
    "c"
   ]
  },
  {
   "cell_type": "code",
   "execution_count": 69,
   "id": "3447aa13-be88-4f91-990a-b277f83c62ae",
   "metadata": {},
   "outputs": [
    {
     "data": {
      "text/plain": [
       "array([[36, 48, 60],\n",
       "       [24, 33, 42]])"
      ]
     },
     "execution_count": 69,
     "metadata": {},
     "output_type": "execute_result"
    }
   ],
   "source": [
    "d.T @ c"
   ]
  },
  {
   "cell_type": "markdown",
   "id": "d46508e8-5fbf-49b5-998f-a7c1fe736183",
   "metadata": {},
   "source": [
    "# Size of Objects in Memory"
   ]
  },
  {
   "cell_type": "code",
   "execution_count": 79,
   "id": "aa74febf-6142-4130-8f16-91dcc48f861f",
   "metadata": {},
   "outputs": [
    {
     "data": {
      "text/plain": [
       "28"
      ]
     },
     "execution_count": 79,
     "metadata": {},
     "output_type": "execute_result"
    }
   ],
   "source": [
    "# An integer in Python is > 24bytes\n",
    "sys.getsizeof(1)"
   ]
  },
  {
   "cell_type": "code",
   "execution_count": 80,
   "id": "c6de7208-dfdb-4f4d-b540-71d86df33eb0",
   "metadata": {},
   "outputs": [
    {
     "data": {
      "text/plain": [
       "72"
      ]
     },
     "execution_count": 80,
     "metadata": {},
     "output_type": "execute_result"
    }
   ],
   "source": [
    "# Longs are even larger\n",
    "sys.getsizeof(10**100)"
   ]
  },
  {
   "cell_type": "code",
   "execution_count": 72,
   "id": "3b304f6f-71a5-481a-b637-f0ce7b2f1085",
   "metadata": {},
   "outputs": [
    {
     "data": {
      "text/plain": [
       "4"
      ]
     },
     "execution_count": 72,
     "metadata": {},
     "output_type": "execute_result"
    }
   ],
   "source": [
    "# Numpy size is much smaller\n",
    "np.dtype(int).itemsize"
   ]
  },
  {
   "cell_type": "code",
   "execution_count": 73,
   "id": "cc085ca0-16c5-442c-9b37-1c27406b38f1",
   "metadata": {},
   "outputs": [
    {
     "data": {
      "text/plain": [
       "8"
      ]
     },
     "execution_count": 73,
     "metadata": {},
     "output_type": "execute_result"
    }
   ],
   "source": [
    "np.dtype(float).itemsize"
   ]
  },
  {
   "cell_type": "markdown",
   "id": "fa05a986-b0f4-4aea-a18e-9c37c0dddfc4",
   "metadata": {},
   "source": [
    "# Lists are Even Larger"
   ]
  },
  {
   "cell_type": "code",
   "execution_count": 81,
   "id": "abbea0ef-0535-4f88-becc-7cdc473eaa73",
   "metadata": {},
   "outputs": [
    {
     "data": {
      "text/plain": [
       "64"
      ]
     },
     "execution_count": 81,
     "metadata": {},
     "output_type": "execute_result"
    }
   ],
   "source": [
    "# A one-element list\n",
    "sys.getsizeof([1])"
   ]
  },
  {
   "cell_type": "code",
   "execution_count": 75,
   "id": "b5e986f5-ff40-4db8-a780-5785c71fb929",
   "metadata": {},
   "outputs": [
    {
     "data": {
      "text/plain": [
       "4"
      ]
     },
     "execution_count": 75,
     "metadata": {},
     "output_type": "execute_result"
    }
   ],
   "source": [
    "# An array of one element in NumPy\n",
    "np.array([1]).nbytes"
   ]
  },
  {
   "cell_type": "code",
   "execution_count": 82,
   "id": "319d1f23-9673-4baf-8470-4d04445e6ac6",
   "metadata": {},
   "outputs": [],
   "source": [
    "l = list(range(1000))"
   ]
  },
  {
   "cell_type": "code",
   "execution_count": 84,
   "id": "a7468a84-0b59-4ae7-bbfb-f7fe4e087f10",
   "metadata": {},
   "outputs": [],
   "source": [
    "q = np.arange(1000)"
   ]
  },
  {
   "cell_type": "code",
   "execution_count": 87,
   "id": "dffd3ae6-cbf0-4761-8ba3-b689255282b9",
   "metadata": {},
   "outputs": [
    {
     "name": "stdout",
     "output_type": "stream",
     "text": [
      "CPU times: total: 0 ns\n",
      "Wall time: 0 ns\n"
     ]
    },
    {
     "data": {
      "text/plain": [
       "332833500"
      ]
     },
     "execution_count": 87,
     "metadata": {},
     "output_type": "execute_result"
    }
   ],
   "source": [
    "%time np.sum(q ** 2)"
   ]
  },
  {
   "cell_type": "code",
   "execution_count": 88,
   "id": "1c17c99a-6cf5-4a37-8793-7d6bed7a2aab",
   "metadata": {},
   "outputs": [
    {
     "name": "stdout",
     "output_type": "stream",
     "text": [
      "CPU times: total: 0 ns\n",
      "Wall time: 0 ns\n"
     ]
    },
    {
     "data": {
      "text/plain": [
       "332833500"
      ]
     },
     "execution_count": 88,
     "metadata": {},
     "output_type": "execute_result"
    }
   ],
   "source": [
    "%time sum([x**2 for x in l])"
   ]
  },
  {
   "cell_type": "markdown",
   "id": "6e34fae1-64e2-4664-a3ff-a96843b25aa1",
   "metadata": {},
   "source": [
    "# Useful NumPy Functions"
   ]
  },
  {
   "cell_type": "code",
   "execution_count": 89,
   "id": "9916d044-35bf-4ec8-a022-772831f14b55",
   "metadata": {},
   "outputs": [
    {
     "data": {
      "text/plain": [
       "array([0.39193902, 0.7695067 ])"
      ]
     },
     "execution_count": 89,
     "metadata": {},
     "output_type": "execute_result"
    }
   ],
   "source": [
    "np.random.random(size=2)"
   ]
  },
  {
   "cell_type": "code",
   "execution_count": 90,
   "id": "59000b3f-fbc9-45df-a53d-95214c85d57b",
   "metadata": {},
   "outputs": [
    {
     "data": {
      "text/plain": [
       "array([-0.01147881, -1.73120705])"
      ]
     },
     "execution_count": 90,
     "metadata": {},
     "output_type": "execute_result"
    }
   ],
   "source": [
    "np.random.normal(size=2)"
   ]
  },
  {
   "cell_type": "markdown",
   "id": "cc4fcb1c-89f3-4530-b04c-53bed30ff7c1",
   "metadata": {},
   "source": [
    "https://www.freecodecamp.org/learn/data-analysis-with-python/data-analysis-with-python-course/numpy-algebra-and-size\n",
    "Above link is video of some useful functions"
   ]
  },
  {
   "cell_type": "code",
   "execution_count": null,
   "id": "6a29d1d5-777f-4025-b855-540faf897cb8",
   "metadata": {},
   "outputs": [],
   "source": []
  }
 ],
 "metadata": {
  "kernelspec": {
   "display_name": "Python 3 (ipykernel)",
   "language": "python",
   "name": "python3"
  },
  "language_info": {
   "codemirror_mode": {
    "name": "ipython",
    "version": 3
   },
   "file_extension": ".py",
   "mimetype": "text/x-python",
   "name": "python",
   "nbconvert_exporter": "python",
   "pygments_lexer": "ipython3",
   "version": "3.9.13"
  }
 },
 "nbformat": 4,
 "nbformat_minor": 5
}
