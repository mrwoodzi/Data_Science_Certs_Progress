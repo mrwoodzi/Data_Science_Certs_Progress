{
 "cells": [
  {
   "cell_type": "code",
   "execution_count": 1,
   "id": "1dbe41d0-39d8-4ac0-bb1c-1af9a6d73043",
   "metadata": {},
   "outputs": [],
   "source": [
    "import pandas as pd\n",
    "import numpy as np"
   ]
  },
  {
   "cell_type": "code",
   "execution_count": 2,
   "id": "bbc4acb5-c518-4645-a372-e50418ad7ac9",
   "metadata": {},
   "outputs": [],
   "source": [
    "df = pd.read_csv('adult.data.csv',\n",
    "                 delimiter=',',\n",
    "                )"
   ]
  },
  {
   "cell_type": "markdown",
   "id": "1e1d9e56-ffba-4d3e-87a7-9a8ea5d0e137",
   "metadata": {},
   "source": [
    "# Need to Finish, highest earning country, highest earning country percentage and fix percentage without higher education that earn >50K"
   ]
  },
  {
   "cell_type": "markdown",
   "id": "a84744a8-e836-4de1-b5dc-12337aea62d0",
   "metadata": {},
   "source": [
    "#  How many of each race are represented in this dataset? This should be a Pandas series with race names as the index labels."
   ]
  },
  {
   "cell_type": "markdown",
   "id": "142228d4-2fd5-40f8-ae35-f62e48ef4005",
   "metadata": {},
   "source": [
    "# Sort Race"
   ]
  },
  {
   "cell_type": "code",
   "execution_count": 3,
   "id": "73e94125-ede3-43ef-8fda-b61fe2d81c92",
   "metadata": {},
   "outputs": [
    {
     "data": {
      "text/plain": [
       "Amer-Indian-Eskimo      311\n",
       "Asian-Pac-Islander     1039\n",
       "Black                  3124\n",
       "Other                   271\n",
       "White                 27816\n",
       "Name: race, dtype: int64"
      ]
     },
     "execution_count": 3,
     "metadata": {},
     "output_type": "execute_result"
    }
   ],
   "source": [
    "df['race'].value_counts().sort_index()"
   ]
  },
  {
   "cell_type": "markdown",
   "id": "6035b340-bc57-49b7-a08a-60cc5b570dd2",
   "metadata": {},
   "source": [
    "# Sort Sexs"
   ]
  },
  {
   "cell_type": "code",
   "execution_count": 4,
   "id": "910ca36a-924c-4793-a4d4-9783cbe36f2a",
   "metadata": {},
   "outputs": [
    {
     "data": {
      "text/plain": [
       "Female    10771\n",
       "Male      21790\n",
       "Name: sex, dtype: int64"
      ]
     },
     "execution_count": 4,
     "metadata": {},
     "output_type": "execute_result"
    }
   ],
   "source": [
    "sorted_sexs = df['sex'].value_counts().sort_index() # sorts the sexs and counts them \n",
    "sorted_sexs"
   ]
  },
  {
   "cell_type": "markdown",
   "id": "aead2aa5-412f-4f96-b655-a2c3cfdf02ba",
   "metadata": {},
   "source": [
    "# What is the average age of men?"
   ]
  },
  {
   "cell_type": "code",
   "execution_count": 5,
   "id": "2c2453ed-4bfe-429a-a79b-b47a4525b7fa",
   "metadata": {},
   "outputs": [
    {
     "name": "stderr",
     "output_type": "stream",
     "text": [
      "C:\\Users\\Woodzi\\AppData\\Local\\Temp\\ipykernel_22404\\716992192.py:1: FutureWarning: The default value of numeric_only in DataFrame.mean is deprecated. In a future version, it will default to False. In addition, specifying 'numeric_only=None' is deprecated. Select only valid columns or specify the value of numeric_only to silence this warning.\n",
      "  round(df.groupby(['sex']).get_group('Male').mean()[0], 1)\n"
     ]
    },
    {
     "data": {
      "text/plain": [
       "39.4"
      ]
     },
     "execution_count": 5,
     "metadata": {},
     "output_type": "execute_result"
    }
   ],
   "source": [
    "round(df.groupby(['sex']).get_group('Male').mean()[0], 1)\n"
   ]
  },
  {
   "cell_type": "markdown",
   "id": "57875b65-46a0-4d15-a557-85071d4dc35d",
   "metadata": {},
   "source": [
    "# Number of People with Higher Ed and Make >50K"
   ]
  },
  {
   "cell_type": "code",
   "execution_count": 6,
   "id": "c6812776-0688-480c-bed4-0fe7501ce0ae",
   "metadata": {},
   "outputs": [
    {
     "data": {
      "text/html": [
       "<div>\n",
       "<style scoped>\n",
       "    .dataframe tbody tr th:only-of-type {\n",
       "        vertical-align: middle;\n",
       "    }\n",
       "\n",
       "    .dataframe tbody tr th {\n",
       "        vertical-align: top;\n",
       "    }\n",
       "\n",
       "    .dataframe thead th {\n",
       "        text-align: right;\n",
       "    }\n",
       "</style>\n",
       "<table border=\"1\" class=\"dataframe\">\n",
       "  <thead>\n",
       "    <tr style=\"text-align: right;\">\n",
       "      <th></th>\n",
       "      <th>age</th>\n",
       "      <th>workclass</th>\n",
       "      <th>fnlwgt</th>\n",
       "      <th>education</th>\n",
       "      <th>education-num</th>\n",
       "      <th>marital-status</th>\n",
       "      <th>occupation</th>\n",
       "      <th>relationship</th>\n",
       "      <th>race</th>\n",
       "      <th>sex</th>\n",
       "      <th>capital-gain</th>\n",
       "      <th>capital-loss</th>\n",
       "      <th>hours-per-week</th>\n",
       "      <th>native-country</th>\n",
       "      <th>salary</th>\n",
       "    </tr>\n",
       "  </thead>\n",
       "  <tbody>\n",
       "    <tr>\n",
       "      <th>8</th>\n",
       "      <td>31</td>\n",
       "      <td>Private</td>\n",
       "      <td>45781</td>\n",
       "      <td>Masters</td>\n",
       "      <td>14</td>\n",
       "      <td>Never-married</td>\n",
       "      <td>Prof-specialty</td>\n",
       "      <td>Not-in-family</td>\n",
       "      <td>White</td>\n",
       "      <td>Female</td>\n",
       "      <td>14084</td>\n",
       "      <td>0</td>\n",
       "      <td>50</td>\n",
       "      <td>United-States</td>\n",
       "      <td>&gt;50K</td>\n",
       "    </tr>\n",
       "    <tr>\n",
       "      <th>9</th>\n",
       "      <td>42</td>\n",
       "      <td>Private</td>\n",
       "      <td>159449</td>\n",
       "      <td>Bachelors</td>\n",
       "      <td>13</td>\n",
       "      <td>Married-civ-spouse</td>\n",
       "      <td>Exec-managerial</td>\n",
       "      <td>Husband</td>\n",
       "      <td>White</td>\n",
       "      <td>Male</td>\n",
       "      <td>5178</td>\n",
       "      <td>0</td>\n",
       "      <td>40</td>\n",
       "      <td>United-States</td>\n",
       "      <td>&gt;50K</td>\n",
       "    </tr>\n",
       "    <tr>\n",
       "      <th>11</th>\n",
       "      <td>30</td>\n",
       "      <td>State-gov</td>\n",
       "      <td>141297</td>\n",
       "      <td>Bachelors</td>\n",
       "      <td>13</td>\n",
       "      <td>Married-civ-spouse</td>\n",
       "      <td>Prof-specialty</td>\n",
       "      <td>Husband</td>\n",
       "      <td>Asian-Pac-Islander</td>\n",
       "      <td>Male</td>\n",
       "      <td>0</td>\n",
       "      <td>0</td>\n",
       "      <td>40</td>\n",
       "      <td>India</td>\n",
       "      <td>&gt;50K</td>\n",
       "    </tr>\n",
       "    <tr>\n",
       "      <th>19</th>\n",
       "      <td>43</td>\n",
       "      <td>Self-emp-not-inc</td>\n",
       "      <td>292175</td>\n",
       "      <td>Masters</td>\n",
       "      <td>14</td>\n",
       "      <td>Divorced</td>\n",
       "      <td>Exec-managerial</td>\n",
       "      <td>Unmarried</td>\n",
       "      <td>White</td>\n",
       "      <td>Female</td>\n",
       "      <td>0</td>\n",
       "      <td>0</td>\n",
       "      <td>45</td>\n",
       "      <td>United-States</td>\n",
       "      <td>&gt;50K</td>\n",
       "    </tr>\n",
       "    <tr>\n",
       "      <th>20</th>\n",
       "      <td>40</td>\n",
       "      <td>Private</td>\n",
       "      <td>193524</td>\n",
       "      <td>Doctorate</td>\n",
       "      <td>16</td>\n",
       "      <td>Married-civ-spouse</td>\n",
       "      <td>Prof-specialty</td>\n",
       "      <td>Husband</td>\n",
       "      <td>White</td>\n",
       "      <td>Male</td>\n",
       "      <td>0</td>\n",
       "      <td>0</td>\n",
       "      <td>60</td>\n",
       "      <td>United-States</td>\n",
       "      <td>&gt;50K</td>\n",
       "    </tr>\n",
       "    <tr>\n",
       "      <th>...</th>\n",
       "      <td>...</td>\n",
       "      <td>...</td>\n",
       "      <td>...</td>\n",
       "      <td>...</td>\n",
       "      <td>...</td>\n",
       "      <td>...</td>\n",
       "      <td>...</td>\n",
       "      <td>...</td>\n",
       "      <td>...</td>\n",
       "      <td>...</td>\n",
       "      <td>...</td>\n",
       "      <td>...</td>\n",
       "      <td>...</td>\n",
       "      <td>...</td>\n",
       "      <td>...</td>\n",
       "    </tr>\n",
       "    <tr>\n",
       "      <th>32533</th>\n",
       "      <td>54</td>\n",
       "      <td>Private</td>\n",
       "      <td>337992</td>\n",
       "      <td>Bachelors</td>\n",
       "      <td>13</td>\n",
       "      <td>Married-civ-spouse</td>\n",
       "      <td>Exec-managerial</td>\n",
       "      <td>Husband</td>\n",
       "      <td>Asian-Pac-Islander</td>\n",
       "      <td>Male</td>\n",
       "      <td>0</td>\n",
       "      <td>0</td>\n",
       "      <td>50</td>\n",
       "      <td>Japan</td>\n",
       "      <td>&gt;50K</td>\n",
       "    </tr>\n",
       "    <tr>\n",
       "      <th>32536</th>\n",
       "      <td>34</td>\n",
       "      <td>Private</td>\n",
       "      <td>160216</td>\n",
       "      <td>Bachelors</td>\n",
       "      <td>13</td>\n",
       "      <td>Never-married</td>\n",
       "      <td>Exec-managerial</td>\n",
       "      <td>Not-in-family</td>\n",
       "      <td>White</td>\n",
       "      <td>Female</td>\n",
       "      <td>0</td>\n",
       "      <td>0</td>\n",
       "      <td>55</td>\n",
       "      <td>United-States</td>\n",
       "      <td>&gt;50K</td>\n",
       "    </tr>\n",
       "    <tr>\n",
       "      <th>32538</th>\n",
       "      <td>38</td>\n",
       "      <td>Private</td>\n",
       "      <td>139180</td>\n",
       "      <td>Bachelors</td>\n",
       "      <td>13</td>\n",
       "      <td>Divorced</td>\n",
       "      <td>Prof-specialty</td>\n",
       "      <td>Unmarried</td>\n",
       "      <td>Black</td>\n",
       "      <td>Female</td>\n",
       "      <td>15020</td>\n",
       "      <td>0</td>\n",
       "      <td>45</td>\n",
       "      <td>United-States</td>\n",
       "      <td>&gt;50K</td>\n",
       "    </tr>\n",
       "    <tr>\n",
       "      <th>32539</th>\n",
       "      <td>71</td>\n",
       "      <td>?</td>\n",
       "      <td>287372</td>\n",
       "      <td>Doctorate</td>\n",
       "      <td>16</td>\n",
       "      <td>Married-civ-spouse</td>\n",
       "      <td>?</td>\n",
       "      <td>Husband</td>\n",
       "      <td>White</td>\n",
       "      <td>Male</td>\n",
       "      <td>0</td>\n",
       "      <td>0</td>\n",
       "      <td>10</td>\n",
       "      <td>United-States</td>\n",
       "      <td>&gt;50K</td>\n",
       "    </tr>\n",
       "    <tr>\n",
       "      <th>32554</th>\n",
       "      <td>53</td>\n",
       "      <td>Private</td>\n",
       "      <td>321865</td>\n",
       "      <td>Masters</td>\n",
       "      <td>14</td>\n",
       "      <td>Married-civ-spouse</td>\n",
       "      <td>Exec-managerial</td>\n",
       "      <td>Husband</td>\n",
       "      <td>White</td>\n",
       "      <td>Male</td>\n",
       "      <td>0</td>\n",
       "      <td>0</td>\n",
       "      <td>40</td>\n",
       "      <td>United-States</td>\n",
       "      <td>&gt;50K</td>\n",
       "    </tr>\n",
       "  </tbody>\n",
       "</table>\n",
       "<p>3486 rows × 15 columns</p>\n",
       "</div>"
      ],
      "text/plain": [
       "       age         workclass  fnlwgt  education  education-num  \\\n",
       "8       31           Private   45781    Masters             14   \n",
       "9       42           Private  159449  Bachelors             13   \n",
       "11      30         State-gov  141297  Bachelors             13   \n",
       "19      43  Self-emp-not-inc  292175    Masters             14   \n",
       "20      40           Private  193524  Doctorate             16   \n",
       "...    ...               ...     ...        ...            ...   \n",
       "32533   54           Private  337992  Bachelors             13   \n",
       "32536   34           Private  160216  Bachelors             13   \n",
       "32538   38           Private  139180  Bachelors             13   \n",
       "32539   71                 ?  287372  Doctorate             16   \n",
       "32554   53           Private  321865    Masters             14   \n",
       "\n",
       "           marital-status       occupation   relationship                race  \\\n",
       "8           Never-married   Prof-specialty  Not-in-family               White   \n",
       "9      Married-civ-spouse  Exec-managerial        Husband               White   \n",
       "11     Married-civ-spouse   Prof-specialty        Husband  Asian-Pac-Islander   \n",
       "19               Divorced  Exec-managerial      Unmarried               White   \n",
       "20     Married-civ-spouse   Prof-specialty        Husband               White   \n",
       "...                   ...              ...            ...                 ...   \n",
       "32533  Married-civ-spouse  Exec-managerial        Husband  Asian-Pac-Islander   \n",
       "32536       Never-married  Exec-managerial  Not-in-family               White   \n",
       "32538            Divorced   Prof-specialty      Unmarried               Black   \n",
       "32539  Married-civ-spouse                ?        Husband               White   \n",
       "32554  Married-civ-spouse  Exec-managerial        Husband               White   \n",
       "\n",
       "          sex  capital-gain  capital-loss  hours-per-week native-country  \\\n",
       "8      Female         14084             0              50  United-States   \n",
       "9        Male          5178             0              40  United-States   \n",
       "11       Male             0             0              40          India   \n",
       "19     Female             0             0              45  United-States   \n",
       "20       Male             0             0              60  United-States   \n",
       "...       ...           ...           ...             ...            ...   \n",
       "32533    Male             0             0              50          Japan   \n",
       "32536  Female             0             0              55  United-States   \n",
       "32538  Female         15020             0              45  United-States   \n",
       "32539    Male             0             0              10  United-States   \n",
       "32554    Male             0             0              40  United-States   \n",
       "\n",
       "      salary  \n",
       "8       >50K  \n",
       "9       >50K  \n",
       "11      >50K  \n",
       "19      >50K  \n",
       "20      >50K  \n",
       "...      ...  \n",
       "32533   >50K  \n",
       "32536   >50K  \n",
       "32538   >50K  \n",
       "32539   >50K  \n",
       "32554   >50K  \n",
       "\n",
       "[3486 rows x 15 columns]"
      ]
     },
     "execution_count": 6,
     "metadata": {},
     "output_type": "execute_result"
    }
   ],
   "source": [
    "higher_ed_Over_50 = df.loc[((df['education'] == 'Bachelors') & (df['salary'] == '>50K')) | ((df['education'] == 'Masters') & (df['salary'] == '>50K')) | ((df['education'] == 'Doctorate') & (df['salary'] == '>50K'))]\n",
    "higher_ed_Over_50"
   ]
  },
  {
   "cell_type": "code",
   "execution_count": 7,
   "id": "2f3a45f1-eaaa-442b-ab8a-44561b565d2e",
   "metadata": {},
   "outputs": [
    {
     "data": {
      "text/plain": [
       "education\n",
       "Bachelors       2221\n",
       "HS-grad         1675\n",
       "11th              60\n",
       "Masters          959\n",
       "9th               27\n",
       "Some-college    1387\n",
       "Assoc-acdm       265\n",
       "Assoc-voc        361\n",
       "7th-8th           40\n",
       "Doctorate        306\n",
       "Prof-school      423\n",
       "5th-6th           16\n",
       "10th              62\n",
       "1st-4th            6\n",
       "Preschool          0\n",
       "12th              33\n",
       "Name: salary, dtype: int64"
      ]
     },
     "execution_count": 7,
     "metadata": {},
     "output_type": "execute_result"
    }
   ],
   "source": [
    "df.groupby(\"education\", sort=False)[\"salary\"].apply(lambda ser: ser.str.contains(\">50K\").sum())\n"
   ]
  },
  {
   "cell_type": "code",
   "execution_count": 8,
   "id": "6914fb73-cf6c-4330-b3b7-e7558ffdb138",
   "metadata": {},
   "outputs": [
    {
     "data": {
      "text/plain": [
       "education\n",
       "Bachelors       3134\n",
       "HS-grad         8826\n",
       "11th            1115\n",
       "Masters          764\n",
       "9th              487\n",
       "Some-college    5904\n",
       "Assoc-acdm       802\n",
       "Assoc-voc       1021\n",
       "7th-8th          606\n",
       "Doctorate        107\n",
       "Prof-school      153\n",
       "5th-6th          317\n",
       "10th             871\n",
       "1st-4th          162\n",
       "Preschool         51\n",
       "12th             400\n",
       "Name: salary, dtype: int64"
      ]
     },
     "execution_count": 8,
     "metadata": {},
     "output_type": "execute_result"
    }
   ],
   "source": [
    "df.groupby(\"education\", sort=False)[\"salary\"].apply(lambda ser: ser.str.contains(\"<=50K\").sum()) # .values.sum()"
   ]
  },
  {
   "cell_type": "code",
   "execution_count": 9,
   "id": "4ef7a2dc-f150-4d8a-a01f-41c257b40920",
   "metadata": {},
   "outputs": [
    {
     "data": {
      "text/plain": [
       "7841"
      ]
     },
     "execution_count": 9,
     "metadata": {},
     "output_type": "execute_result"
    }
   ],
   "source": [
    "df.groupby(\"education\", sort=False)[\"salary\"].apply(lambda ser: ser.str.contains(\">50K\").sum()).values.sum()"
   ]
  },
  {
   "cell_type": "code",
   "execution_count": 10,
   "id": "c1745511-63ff-4c21-abc9-3d06c826442f",
   "metadata": {},
   "outputs": [
    {
     "data": {
      "text/plain": [
       "24720"
      ]
     },
     "execution_count": 10,
     "metadata": {},
     "output_type": "execute_result"
    }
   ],
   "source": [
    "df.groupby(\"education\", sort=False)[\"salary\"].apply(lambda ser: ser.str.contains(\"<=50K\").sum()).values.sum()"
   ]
  },
  {
   "cell_type": "code",
   "execution_count": 11,
   "id": "29274738-2494-4338-b63f-2d3a85859afa",
   "metadata": {},
   "outputs": [
    {
     "data": {
      "text/plain": [
       "(32561, 15)"
      ]
     },
     "execution_count": 11,
     "metadata": {},
     "output_type": "execute_result"
    }
   ],
   "source": [
    "# the 2 above lines do add up to 32,561\n",
    "df.shape\n",
    "\n"
   ]
  },
  {
   "cell_type": "code",
   "execution_count": 12,
   "id": "75cf87ba-f199-4a8b-9503-1985914ace3d",
   "metadata": {},
   "outputs": [
    {
     "data": {
      "text/html": [
       "<div>\n",
       "<style scoped>\n",
       "    .dataframe tbody tr th:only-of-type {\n",
       "        vertical-align: middle;\n",
       "    }\n",
       "\n",
       "    .dataframe tbody tr th {\n",
       "        vertical-align: top;\n",
       "    }\n",
       "\n",
       "    .dataframe thead th {\n",
       "        text-align: right;\n",
       "    }\n",
       "</style>\n",
       "<table border=\"1\" class=\"dataframe\">\n",
       "  <thead>\n",
       "    <tr style=\"text-align: right;\">\n",
       "      <th></th>\n",
       "      <th>salary</th>\n",
       "    </tr>\n",
       "  </thead>\n",
       "  <tbody>\n",
       "    <tr>\n",
       "      <th>31798</th>\n",
       "      <td>&lt;=50K</td>\n",
       "    </tr>\n",
       "    <tr>\n",
       "      <th>32008</th>\n",
       "      <td>&lt;=50K</td>\n",
       "    </tr>\n",
       "    <tr>\n",
       "      <th>32035</th>\n",
       "      <td>&lt;=50K</td>\n",
       "    </tr>\n",
       "    <tr>\n",
       "      <th>32044</th>\n",
       "      <td>&lt;=50K</td>\n",
       "    </tr>\n",
       "    <tr>\n",
       "      <th>32153</th>\n",
       "      <td>&lt;=50K</td>\n",
       "    </tr>\n",
       "    <tr>\n",
       "      <th>...</th>\n",
       "      <td>...</td>\n",
       "    </tr>\n",
       "    <tr>\n",
       "      <th>32556</th>\n",
       "      <td>&lt;=50K</td>\n",
       "    </tr>\n",
       "    <tr>\n",
       "      <th>32557</th>\n",
       "      <td>&gt;50K</td>\n",
       "    </tr>\n",
       "    <tr>\n",
       "      <th>32558</th>\n",
       "      <td>&lt;=50K</td>\n",
       "    </tr>\n",
       "    <tr>\n",
       "      <th>32559</th>\n",
       "      <td>&lt;=50K</td>\n",
       "    </tr>\n",
       "    <tr>\n",
       "      <th>32560</th>\n",
       "      <td>&gt;50K</td>\n",
       "    </tr>\n",
       "  </tbody>\n",
       "</table>\n",
       "<p>80 rows × 1 columns</p>\n",
       "</div>"
      ],
      "text/plain": [
       "      salary\n",
       "31798  <=50K\n",
       "32008  <=50K\n",
       "32035  <=50K\n",
       "32044  <=50K\n",
       "32153  <=50K\n",
       "...      ...\n",
       "32556  <=50K\n",
       "32557   >50K\n",
       "32558  <=50K\n",
       "32559  <=50K\n",
       "32560   >50K\n",
       "\n",
       "[80 rows x 1 columns]"
      ]
     },
     "execution_count": 12,
     "metadata": {},
     "output_type": "execute_result"
    }
   ],
   "source": [
    "df_groupby = df.groupby('education')\n",
    "df_column = df_groupby[['salary']]\n",
    "df_column.tail()"
   ]
  },
  {
   "cell_type": "markdown",
   "id": "dbf6f7a4-70a7-4e19-9fa0-0ff0165dac7b",
   "metadata": {},
   "source": [
    "# What percentage of the people who work the minimum number of hours per week have a salary of >50K?"
   ]
  },
  {
   "cell_type": "code",
   "execution_count": 13,
   "id": "d18a0bf8-b5a0-4197-a3a1-906d69bec7df",
   "metadata": {},
   "outputs": [
    {
     "data": {
      "text/plain": [
       "2.3"
      ]
     },
     "execution_count": 13,
     "metadata": {},
     "output_type": "execute_result"
    }
   ],
   "source": [
    "num_min_workers = df.loc[(df['hours-per-week'] < 40) & (df['salary'] == '>50K')]\n",
    "num_min_workers = round(len(num_min_workers)/len(df)*100, 1)\n",
    "num_min_workers\n",
    "# .size() might be an issue, it counts NA/null values that could be throwing off my percentages"
   ]
  },
  {
   "cell_type": "markdown",
   "id": "82125a0e-1ad8-4fab-b0a1-72f011dcd5b5",
   "metadata": {},
   "source": [
    "# What percentage of the people who work the minimum number of hours per week have a salary of >50K?"
   ]
  },
  {
   "cell_type": "code",
   "execution_count": 14,
   "id": "a8246e6e-15a1-4d82-bd7e-2c1050fbf547",
   "metadata": {},
   "outputs": [
    {
     "data": {
      "text/plain": [
       "2"
      ]
     },
     "execution_count": 14,
     "metadata": {},
     "output_type": "execute_result"
    }
   ],
   "source": [
    "num_min_hours_over_50 = df.loc[(df['hours-per-week'] == 1) & (df['salary'] == '>50K')] \n",
    "len(num_min_hours_over_50)\n"
   ]
  },
  {
   "cell_type": "code",
   "execution_count": 15,
   "id": "b8511b4f-16af-40fd-9fb1-6eb23bd5fa7d",
   "metadata": {},
   "outputs": [],
   "source": [
    "# Percentage of rich among those who work fewest hours"
   ]
  },
  {
   "cell_type": "code",
   "execution_count": 16,
   "id": "cfbdea13-5894-4294-8cc7-edb87fc01e37",
   "metadata": {},
   "outputs": [
    {
     "data": {
      "text/plain": [
       "10.0"
      ]
     },
     "execution_count": 16,
     "metadata": {},
     "output_type": "execute_result"
    }
   ],
   "source": [
    "sum_work_1hr = len(df.loc[(df['hours-per-week'] == 1)])\n",
    "len_num_min_hours_over_50 = len(df.loc[(df['hours-per-week'] == 1) & (df['salary'] == '>50K')])\n",
    "rich_percentage = round(len_num_min_hours_over_50/sum_work_1hr*100, 1)\n",
    "rich_percentage"
   ]
  },
  {
   "cell_type": "code",
   "execution_count": 17,
   "id": "7b6ed91c-2a1f-4ded-9333-fa52fe708d96",
   "metadata": {},
   "outputs": [
    {
     "data": {
      "text/plain": [
       "3486"
      ]
     },
     "execution_count": 17,
     "metadata": {},
     "output_type": "execute_result"
    }
   ],
   "source": [
    "len_higher_ed_Over_50 = len(df.loc[((df['education'] == 'Bachelors') & (df['salary'] == '>50K')) | ((df['education'] == 'Masters') & (df['salary'] == '>50K')) | ((df['education'] == 'Doctorate') & (df['salary'] == '>50K'))])\n",
    "len_higher_ed_Over_50"
   ]
  },
  {
   "cell_type": "code",
   "execution_count": 18,
   "id": "7d8a18ca-e6e8-4233-9c57-c3965e104650",
   "metadata": {},
   "outputs": [
    {
     "data": {
      "text/plain": [
       "7841"
      ]
     },
     "execution_count": 18,
     "metadata": {},
     "output_type": "execute_result"
    }
   ],
   "source": [
    "len_all_over_50 = len(df.loc[(df['salary'] == '>50K')])\n",
    "len_all_over_50"
   ]
  },
  {
   "cell_type": "markdown",
   "id": "72cfcea2-d96c-47d1-a6f0-7fdf2cf392a6",
   "metadata": {},
   "source": [
    "# What country has the highest percentage of people that earn >50K?"
   ]
  },
  {
   "cell_type": "code",
   "execution_count": 19,
   "id": "669a0c5a-8609-45a6-8142-d5dbd2fd60d2",
   "metadata": {},
   "outputs": [
    {
     "data": {
      "text/html": [
       "<div>\n",
       "<style scoped>\n",
       "    .dataframe tbody tr th:only-of-type {\n",
       "        vertical-align: middle;\n",
       "    }\n",
       "\n",
       "    .dataframe tbody tr th {\n",
       "        vertical-align: top;\n",
       "    }\n",
       "\n",
       "    .dataframe thead th {\n",
       "        text-align: right;\n",
       "    }\n",
       "</style>\n",
       "<table border=\"1\" class=\"dataframe\">\n",
       "  <thead>\n",
       "    <tr style=\"text-align: right;\">\n",
       "      <th></th>\n",
       "      <th>age</th>\n",
       "      <th>workclass</th>\n",
       "      <th>fnlwgt</th>\n",
       "      <th>education</th>\n",
       "      <th>education-num</th>\n",
       "      <th>marital-status</th>\n",
       "      <th>occupation</th>\n",
       "      <th>relationship</th>\n",
       "      <th>race</th>\n",
       "      <th>sex</th>\n",
       "      <th>capital-gain</th>\n",
       "      <th>capital-loss</th>\n",
       "      <th>hours-per-week</th>\n",
       "      <th>native-country</th>\n",
       "      <th>salary</th>\n",
       "    </tr>\n",
       "  </thead>\n",
       "  <tbody>\n",
       "    <tr>\n",
       "      <th>0</th>\n",
       "      <td>39</td>\n",
       "      <td>State-gov</td>\n",
       "      <td>77516</td>\n",
       "      <td>Bachelors</td>\n",
       "      <td>13</td>\n",
       "      <td>Never-married</td>\n",
       "      <td>Adm-clerical</td>\n",
       "      <td>Not-in-family</td>\n",
       "      <td>White</td>\n",
       "      <td>Male</td>\n",
       "      <td>2174</td>\n",
       "      <td>0</td>\n",
       "      <td>40</td>\n",
       "      <td>United-States</td>\n",
       "      <td>&lt;=50K</td>\n",
       "    </tr>\n",
       "    <tr>\n",
       "      <th>1</th>\n",
       "      <td>50</td>\n",
       "      <td>Self-emp-not-inc</td>\n",
       "      <td>83311</td>\n",
       "      <td>Bachelors</td>\n",
       "      <td>13</td>\n",
       "      <td>Married-civ-spouse</td>\n",
       "      <td>Exec-managerial</td>\n",
       "      <td>Husband</td>\n",
       "      <td>White</td>\n",
       "      <td>Male</td>\n",
       "      <td>0</td>\n",
       "      <td>0</td>\n",
       "      <td>13</td>\n",
       "      <td>United-States</td>\n",
       "      <td>&lt;=50K</td>\n",
       "    </tr>\n",
       "  </tbody>\n",
       "</table>\n",
       "</div>"
      ],
      "text/plain": [
       "   age         workclass  fnlwgt  education  education-num  \\\n",
       "0   39         State-gov   77516  Bachelors             13   \n",
       "1   50  Self-emp-not-inc   83311  Bachelors             13   \n",
       "\n",
       "       marital-status       occupation   relationship   race   sex  \\\n",
       "0       Never-married     Adm-clerical  Not-in-family  White  Male   \n",
       "1  Married-civ-spouse  Exec-managerial        Husband  White  Male   \n",
       "\n",
       "   capital-gain  capital-loss  hours-per-week native-country salary  \n",
       "0          2174             0              40  United-States  <=50K  \n",
       "1             0             0              13  United-States  <=50K  "
      ]
     },
     "execution_count": 19,
     "metadata": {},
     "output_type": "execute_result"
    }
   ],
   "source": [
    "df.head(2)"
   ]
  },
  {
   "cell_type": "code",
   "execution_count": 20,
   "id": "776c0aa6-f276-476a-bfb6-d611b5cf9b4c",
   "metadata": {},
   "outputs": [],
   "source": [
    "# How do I add all the countries?"
   ]
  },
  {
   "cell_type": "code",
   "execution_count": 21,
   "id": "0beb6ce5-369c-4282-8e24-4ebeedff36c9",
   "metadata": {},
   "outputs": [
    {
     "data": {
      "text/plain": [
       "native-country\n",
       "United-States    7171\n",
       "?                 146\n",
       "Philippines        61\n",
       "Germany            44\n",
       "India              40\n",
       "Name: salary, dtype: int64"
      ]
     },
     "execution_count": 21,
     "metadata": {},
     "output_type": "execute_result"
    }
   ],
   "source": [
    "over_50_con = df.groupby(\"native-country\", sort=False)[\"salary\"].apply(lambda ser: ser.str.contains(\">50K\").sort_index().sum()).nlargest()\n",
    "# returns country with highest number of rich\n",
    "over_50_con.head(10)"
   ]
  },
  {
   "cell_type": "code",
   "execution_count": 22,
   "id": "9b6ce959-df3d-4fea-ad15-2fde0c603e34",
   "metadata": {},
   "outputs": [],
   "source": [
    "# df.groupby(['sex']).get_group('Male').mean()\n",
    "# df.groupby(['native-country', 'salary'], sort=True).sum()\n",
    "under_50_con = df.groupby(\"native-country\", sort=False)[\"salary\"].apply(lambda ser: ser.str.contains(\"<=50K\").sort_index().sum()).nlargest()\n",
    "# ************************************************************************************************"
   ]
  },
  {
   "cell_type": "code",
   "execution_count": 23,
   "id": "a6ba4fee-44ea-49d5-9200-3910343f8528",
   "metadata": {},
   "outputs": [
    {
     "data": {
      "text/plain": [
       "native-country\n",
       "United-States    21999\n",
       "Mexico             610\n",
       "?                  437\n",
       "Philippines        137\n",
       "Puerto-Rico        102\n",
       "Name: salary, dtype: int64"
      ]
     },
     "execution_count": 23,
     "metadata": {},
     "output_type": "execute_result"
    }
   ],
   "source": [
    "under_50_con\n"
   ]
  },
  {
   "cell_type": "code",
   "execution_count": 24,
   "id": "fd866540-4f0d-4625-875a-53cda2a6023b",
   "metadata": {},
   "outputs": [],
   "source": [
    "  len_higher_ed_Over_50 = len(df.loc[((df['education'] == 'Bachelors') & (df['salary'] == '>50K')) | ((df['education'] == 'Masters') & (df['salary'] == '>50K')) | ((df['education'] == 'Doctorate') & (df['salary'] == '>50K'))])\n",
    "  len_higher_ed_un50 = len(df.loc[((df['education'] == 'Bachelors') & (df['salary'] == '<=50K')) | ((df['education'] == 'Masters') & (df['salary'] == '<=50K')) | ((df['education'] == 'Doctorate') & (df['salary'] == '<=50K'))])\n",
    "  len_all_higher_ed = len_higher_ed_un50 + len_higher_ed_Over_50\n",
    "  higher_education_rich = round(len_higher_ed_Over_50/len_all_higher_ed*100, 1)"
   ]
  },
  {
   "cell_type": "code",
   "execution_count": 25,
   "id": "06c2e840-f48c-4342-a6be-29373ead25eb",
   "metadata": {},
   "outputs": [
    {
     "data": {
      "text/plain": [
       "3486"
      ]
     },
     "execution_count": 25,
     "metadata": {},
     "output_type": "execute_result"
    }
   ],
   "source": [
    "len_higher_ed_Over_50"
   ]
  },
  {
   "cell_type": "code",
   "execution_count": 26,
   "id": "5011bc3c-06de-4043-b412-9acad351ae88",
   "metadata": {},
   "outputs": [],
   "source": [
    "  # What percentage of people without advanced education (Bachelors, Masters, or Doctorate) make more than 50K?\n",
    "  # **************************************************************************************************"
   ]
  },
  {
   "cell_type": "code",
   "execution_count": 27,
   "id": "225aae71-564a-42e9-888c-18624ec640a1",
   "metadata": {},
   "outputs": [
    {
     "data": {
      "text/plain": [
       "education\n",
       "10th              62\n",
       "11th              60\n",
       "12th              33\n",
       "1st-4th            6\n",
       "5th-6th           16\n",
       "7th-8th           40\n",
       "9th               27\n",
       "Assoc-acdm       265\n",
       "Assoc-voc        361\n",
       "Bachelors       2221\n",
       "Doctorate        306\n",
       "HS-grad         1675\n",
       "Masters          959\n",
       "Preschool          0\n",
       "Prof-school      423\n",
       "Some-college    1387\n",
       "Name: salary, dtype: int64"
      ]
     },
     "execution_count": 27,
     "metadata": {},
     "output_type": "execute_result"
    }
   ],
   "source": [
    "all_ed_over_50 = df.groupby('education')['salary'].apply(lambda x: x.str.contains('>50K').sort_index().sum())\n",
    "all_ed_over_50"
   ]
  },
  {
   "cell_type": "code",
   "execution_count": 28,
   "id": "bae04180-cc98-47b6-aaee-d5be304bd4d3",
   "metadata": {},
   "outputs": [
    {
     "data": {
      "text/html": [
       "<div>\n",
       "<style scoped>\n",
       "    .dataframe tbody tr th:only-of-type {\n",
       "        vertical-align: middle;\n",
       "    }\n",
       "\n",
       "    .dataframe tbody tr th {\n",
       "        vertical-align: top;\n",
       "    }\n",
       "\n",
       "    .dataframe thead th {\n",
       "        text-align: right;\n",
       "    }\n",
       "</style>\n",
       "<table border=\"1\" class=\"dataframe\">\n",
       "  <thead>\n",
       "    <tr style=\"text-align: right;\">\n",
       "      <th></th>\n",
       "      <th>education</th>\n",
       "      <th>salary</th>\n",
       "    </tr>\n",
       "  </thead>\n",
       "  <tbody>\n",
       "    <tr>\n",
       "      <th>7</th>\n",
       "      <td>HS-grad</td>\n",
       "      <td>&gt;50K</td>\n",
       "    </tr>\n",
       "    <tr>\n",
       "      <th>10</th>\n",
       "      <td>Some-college</td>\n",
       "      <td>&gt;50K</td>\n",
       "    </tr>\n",
       "    <tr>\n",
       "      <th>14</th>\n",
       "      <td>Assoc-voc</td>\n",
       "      <td>&gt;50K</td>\n",
       "    </tr>\n",
       "    <tr>\n",
       "      <th>27</th>\n",
       "      <td>Some-college</td>\n",
       "      <td>&gt;50K</td>\n",
       "    </tr>\n",
       "    <tr>\n",
       "      <th>38</th>\n",
       "      <td>Some-college</td>\n",
       "      <td>&gt;50K</td>\n",
       "    </tr>\n",
       "    <tr>\n",
       "      <th>...</th>\n",
       "      <td>...</td>\n",
       "      <td>...</td>\n",
       "    </tr>\n",
       "    <tr>\n",
       "      <th>32518</th>\n",
       "      <td>HS-grad</td>\n",
       "      <td>&gt;50K</td>\n",
       "    </tr>\n",
       "    <tr>\n",
       "      <th>32519</th>\n",
       "      <td>Some-college</td>\n",
       "      <td>&gt;50K</td>\n",
       "    </tr>\n",
       "    <tr>\n",
       "      <th>32545</th>\n",
       "      <td>Assoc-acdm</td>\n",
       "      <td>&gt;50K</td>\n",
       "    </tr>\n",
       "    <tr>\n",
       "      <th>32557</th>\n",
       "      <td>HS-grad</td>\n",
       "      <td>&gt;50K</td>\n",
       "    </tr>\n",
       "    <tr>\n",
       "      <th>32560</th>\n",
       "      <td>HS-grad</td>\n",
       "      <td>&gt;50K</td>\n",
       "    </tr>\n",
       "  </tbody>\n",
       "</table>\n",
       "<p>4355 rows × 2 columns</p>\n",
       "</div>"
      ],
      "text/plain": [
       "          education salary\n",
       "7           HS-grad   >50K\n",
       "10     Some-college   >50K\n",
       "14        Assoc-voc   >50K\n",
       "27     Some-college   >50K\n",
       "38     Some-college   >50K\n",
       "...             ...    ...\n",
       "32518       HS-grad   >50K\n",
       "32519  Some-college   >50K\n",
       "32545    Assoc-acdm   >50K\n",
       "32557       HS-grad   >50K\n",
       "32560       HS-grad   >50K\n",
       "\n",
       "[4355 rows x 2 columns]"
      ]
     },
     "execution_count": 28,
     "metadata": {},
     "output_type": "execute_result"
    }
   ],
   "source": [
    "mask_miss   = ~df.loc[:, 'education'].str.contains('Bachelors')\n",
    "mask_mrs    = ~df.loc[:, 'education'].str.contains('Doctorate')\n",
    "mask_master = ~df.loc[:, 'education'].str.contains('Masters')\n",
    "fifty_K = ~df.loc[:, 'salary'].str.contains('<=50K')\n",
    "len_df = len(df)\n",
    "total_o_50_bad_ed = len(df.loc[mask_miss & mask_mrs & mask_master & fifty_K, ('education', 'salary')])\n",
    "lower_education_rich = round(total_o_50_bad_ed/len_df*100, 1)\n",
    "df.loc[mask_miss & mask_mrs & mask_master & fifty_K, ('education', 'salary')]"
   ]
  },
  {
   "cell_type": "code",
   "execution_count": 29,
   "id": "ac15a2a7-eb4a-46b5-ab7f-d22f6a22821c",
   "metadata": {},
   "outputs": [
    {
     "data": {
      "text/html": [
       "<div>\n",
       "<style scoped>\n",
       "    .dataframe tbody tr th:only-of-type {\n",
       "        vertical-align: middle;\n",
       "    }\n",
       "\n",
       "    .dataframe tbody tr th {\n",
       "        vertical-align: top;\n",
       "    }\n",
       "\n",
       "    .dataframe thead th {\n",
       "        text-align: right;\n",
       "    }\n",
       "</style>\n",
       "<table border=\"1\" class=\"dataframe\">\n",
       "  <thead>\n",
       "    <tr style=\"text-align: right;\">\n",
       "      <th></th>\n",
       "      <th>education</th>\n",
       "      <th>salary</th>\n",
       "    </tr>\n",
       "  </thead>\n",
       "  <tbody>\n",
       "    <tr>\n",
       "      <th>7</th>\n",
       "      <td>HS-grad</td>\n",
       "      <td>&gt;50K</td>\n",
       "    </tr>\n",
       "    <tr>\n",
       "      <th>8</th>\n",
       "      <td>Masters</td>\n",
       "      <td>&gt;50K</td>\n",
       "    </tr>\n",
       "    <tr>\n",
       "      <th>9</th>\n",
       "      <td>Bachelors</td>\n",
       "      <td>&gt;50K</td>\n",
       "    </tr>\n",
       "    <tr>\n",
       "      <th>10</th>\n",
       "      <td>Some-college</td>\n",
       "      <td>&gt;50K</td>\n",
       "    </tr>\n",
       "    <tr>\n",
       "      <th>11</th>\n",
       "      <td>Bachelors</td>\n",
       "      <td>&gt;50K</td>\n",
       "    </tr>\n",
       "    <tr>\n",
       "      <th>...</th>\n",
       "      <td>...</td>\n",
       "      <td>...</td>\n",
       "    </tr>\n",
       "    <tr>\n",
       "      <th>32539</th>\n",
       "      <td>Doctorate</td>\n",
       "      <td>&gt;50K</td>\n",
       "    </tr>\n",
       "    <tr>\n",
       "      <th>32545</th>\n",
       "      <td>Assoc-acdm</td>\n",
       "      <td>&gt;50K</td>\n",
       "    </tr>\n",
       "    <tr>\n",
       "      <th>32554</th>\n",
       "      <td>Masters</td>\n",
       "      <td>&gt;50K</td>\n",
       "    </tr>\n",
       "    <tr>\n",
       "      <th>32557</th>\n",
       "      <td>HS-grad</td>\n",
       "      <td>&gt;50K</td>\n",
       "    </tr>\n",
       "    <tr>\n",
       "      <th>32560</th>\n",
       "      <td>HS-grad</td>\n",
       "      <td>&gt;50K</td>\n",
       "    </tr>\n",
       "  </tbody>\n",
       "</table>\n",
       "<p>7841 rows × 2 columns</p>\n",
       "</div>"
      ],
      "text/plain": [
       "          education salary\n",
       "7           HS-grad   >50K\n",
       "8           Masters   >50K\n",
       "9         Bachelors   >50K\n",
       "10     Some-college   >50K\n",
       "11        Bachelors   >50K\n",
       "...             ...    ...\n",
       "32539     Doctorate   >50K\n",
       "32545    Assoc-acdm   >50K\n",
       "32554       Masters   >50K\n",
       "32557       HS-grad   >50K\n",
       "32560       HS-grad   >50K\n",
       "\n",
       "[7841 rows x 2 columns]"
      ]
     },
     "execution_count": 29,
     "metadata": {},
     "output_type": "execute_result"
    }
   ],
   "source": [
    "education = df.loc[:, 'education']\n",
    "salary = df.loc[:, 'salary'].str.contains('>50K')\n",
    "both = df.loc[salary, ('education', 'salary')]\n",
    "both"
   ]
  },
  {
   "cell_type": "raw",
   "id": "2e44beba-75a0-4d01-a73b-ae74f995be80",
   "metadata": {},
   "source": [
    "total_o_50_bad_ed"
   ]
  },
  {
   "cell_type": "code",
   "execution_count": 30,
   "id": "ef0545df-c2b4-4491-bc36-1215de168f34",
   "metadata": {},
   "outputs": [
    {
     "data": {
      "text/plain": [
       "32561"
      ]
     },
     "execution_count": 30,
     "metadata": {},
     "output_type": "execute_result"
    }
   ],
   "source": [
    "len_df"
   ]
  },
  {
   "cell_type": "code",
   "execution_count": 31,
   "id": "69239faa-202c-4ed1-8a13-2f8f7b1fc253",
   "metadata": {},
   "outputs": [
    {
     "data": {
      "text/plain": [
       "education\n",
       "Bachelors       2221\n",
       "HS-grad         1675\n",
       "Some-college    1387\n",
       "Masters          959\n",
       "Prof-school      423\n",
       "Name: salary, dtype: int64"
      ]
     },
     "execution_count": 31,
     "metadata": {},
     "output_type": "execute_result"
    }
   ],
   "source": [
    "over_50_total = df.groupby(\"education\", sort=False)[\"salary\"].apply(lambda ser: ser.str.contains(\">50K\").sort_index().sum()).nlargest()\n",
    "over_50_total.head(20)"
   ]
  },
  {
   "cell_type": "code",
   "execution_count": 32,
   "id": "6f4da44f-0918-4ef1-850d-f1ca1086c908",
   "metadata": {},
   "outputs": [],
   "source": [
    "highest_earning_country = None\n",
    "highest_earning_country_percentage = None"
   ]
  },
  {
   "cell_type": "markdown",
   "id": "8f59e1f1-c80d-406a-bbb8-6ece92ce22d5",
   "metadata": {},
   "source": [
    "# Identify the most popular occupation for those who earn >50K in India."
   ]
  },
  {
   "cell_type": "code",
   "execution_count": 33,
   "id": "1c5f1a9c-f3a6-4bfe-bb63-d9fa837fa81c",
   "metadata": {},
   "outputs": [
    {
     "data": {
      "text/plain": [
       "'Prof-specialty'"
      ]
     },
     "execution_count": 33,
     "metadata": {},
     "output_type": "execute_result"
    }
   ],
   "source": [
    "finding_occupation_India = df[(df['native-country'] == 'India') & (df['salary'] == '>50K')]\n",
    "finding_max_occ = df['occupation'].value_counts()\n",
    "finding_max_occ.index[0]"
   ]
  },
  {
   "cell_type": "markdown",
   "id": "f6a40aaf-4df8-479f-abb9-5d1a3eadd15d",
   "metadata": {},
   "source": [
    "# Setting the index to be education the salary"
   ]
  },
  {
   "cell_type": "code",
   "execution_count": 34,
   "id": "b7e3e115-6375-468c-8769-4c50cfdfbff3",
   "metadata": {},
   "outputs": [],
   "source": [
    "si = df.set_index(['education', 'salary'])\n",
    "all_salary_over_50 = df.loc[lambda df: df['salary'] == '>50K']"
   ]
  },
  {
   "cell_type": "markdown",
   "id": "09708ddb-b7fd-4ae3-bf4b-a8be34782e88",
   "metadata": {},
   "source": [
    "# What country has the highest percentage of people that earn >50K?"
   ]
  },
  {
   "cell_type": "code",
   "execution_count": 36,
   "id": "82694d67-b203-4fe2-a274-d04b5d6054e1",
   "metadata": {},
   "outputs": [
    {
     "data": {
      "text/html": [
       "<div>\n",
       "<style scoped>\n",
       "    .dataframe tbody tr th:only-of-type {\n",
       "        vertical-align: middle;\n",
       "    }\n",
       "\n",
       "    .dataframe tbody tr th {\n",
       "        vertical-align: top;\n",
       "    }\n",
       "\n",
       "    .dataframe thead th {\n",
       "        text-align: right;\n",
       "    }\n",
       "</style>\n",
       "<table border=\"1\" class=\"dataframe\">\n",
       "  <thead>\n",
       "    <tr style=\"text-align: right;\">\n",
       "      <th></th>\n",
       "      <th>native-country</th>\n",
       "      <th>salary</th>\n",
       "    </tr>\n",
       "  </thead>\n",
       "  <tbody>\n",
       "    <tr>\n",
       "      <th>7</th>\n",
       "      <td>United-States</td>\n",
       "      <td>&gt;50K</td>\n",
       "    </tr>\n",
       "    <tr>\n",
       "      <th>8</th>\n",
       "      <td>United-States</td>\n",
       "      <td>&gt;50K</td>\n",
       "    </tr>\n",
       "    <tr>\n",
       "      <th>9</th>\n",
       "      <td>United-States</td>\n",
       "      <td>&gt;50K</td>\n",
       "    </tr>\n",
       "    <tr>\n",
       "      <th>10</th>\n",
       "      <td>United-States</td>\n",
       "      <td>&gt;50K</td>\n",
       "    </tr>\n",
       "    <tr>\n",
       "      <th>11</th>\n",
       "      <td>India</td>\n",
       "      <td>&gt;50K</td>\n",
       "    </tr>\n",
       "    <tr>\n",
       "      <th>...</th>\n",
       "      <td>...</td>\n",
       "      <td>...</td>\n",
       "    </tr>\n",
       "    <tr>\n",
       "      <th>32539</th>\n",
       "      <td>United-States</td>\n",
       "      <td>&gt;50K</td>\n",
       "    </tr>\n",
       "    <tr>\n",
       "      <th>32545</th>\n",
       "      <td>United-States</td>\n",
       "      <td>&gt;50K</td>\n",
       "    </tr>\n",
       "    <tr>\n",
       "      <th>32554</th>\n",
       "      <td>United-States</td>\n",
       "      <td>&gt;50K</td>\n",
       "    </tr>\n",
       "    <tr>\n",
       "      <th>32557</th>\n",
       "      <td>United-States</td>\n",
       "      <td>&gt;50K</td>\n",
       "    </tr>\n",
       "    <tr>\n",
       "      <th>32560</th>\n",
       "      <td>United-States</td>\n",
       "      <td>&gt;50K</td>\n",
       "    </tr>\n",
       "  </tbody>\n",
       "</table>\n",
       "<p>7841 rows × 2 columns</p>\n",
       "</div>"
      ],
      "text/plain": [
       "      native-country salary\n",
       "7      United-States   >50K\n",
       "8      United-States   >50K\n",
       "9      United-States   >50K\n",
       "10     United-States   >50K\n",
       "11             India   >50K\n",
       "...              ...    ...\n",
       "32539  United-States   >50K\n",
       "32545  United-States   >50K\n",
       "32554  United-States   >50K\n",
       "32557  United-States   >50K\n",
       "32560  United-States   >50K\n",
       "\n",
       "[7841 rows x 2 columns]"
      ]
     },
     "execution_count": 36,
     "metadata": {},
     "output_type": "execute_result"
    }
   ],
   "source": [
    "# getting all salaries over 50\n",
    "salaries_o50 = df[(df['salary'] == '>50K')]\n",
    "# getting all salaries under 50\n",
    "salaries_un50 = df[(df['salary'] == '<=50K')]\n",
    "\n",
    "o50c = salaries_o50[['native-country', 'salary']]\n",
    "un50c = salaries_un50[['native-country', 'salary']]\n",
    "o50c"
   ]
  },
  {
   "cell_type": "code",
   "execution_count": 74,
   "id": "f0e200fc-db21-4f19-be8c-dbf7d82df057",
   "metadata": {},
   "outputs": [
    {
     "name": "stdout",
     "output_type": "stream",
     "text": [
      "('?', '<=50K')\n",
      "('?', '>50K')\n",
      "('Cambodia', '<=50K')\n",
      "('Cambodia', '>50K')\n",
      "('Canada', '<=50K')\n",
      "('Canada', '>50K')\n",
      "('China', '<=50K')\n",
      "('China', '>50K')\n",
      "('Columbia', '<=50K')\n",
      "('Columbia', '>50K')\n",
      "('Cuba', '<=50K')\n",
      "('Cuba', '>50K')\n",
      "('Dominican-Republic', '<=50K')\n",
      "('Dominican-Republic', '>50K')\n",
      "('Ecuador', '<=50K')\n",
      "('Ecuador', '>50K')\n",
      "('El-Salvador', '<=50K')\n",
      "('El-Salvador', '>50K')\n",
      "('England', '<=50K')\n",
      "('England', '>50K')\n",
      "('France', '<=50K')\n",
      "('France', '>50K')\n",
      "('Germany', '<=50K')\n",
      "('Germany', '>50K')\n",
      "('Greece', '<=50K')\n",
      "('Greece', '>50K')\n",
      "('Guatemala', '<=50K')\n",
      "('Guatemala', '>50K')\n",
      "('Haiti', '<=50K')\n",
      "('Haiti', '>50K')\n",
      "('Holand-Netherlands', '<=50K')\n",
      "('Honduras', '<=50K')\n",
      "('Honduras', '>50K')\n",
      "('Hong', '<=50K')\n",
      "('Hong', '>50K')\n",
      "('Hungary', '<=50K')\n",
      "('Hungary', '>50K')\n",
      "('India', '<=50K')\n",
      "('India', '>50K')\n",
      "('Iran', '<=50K')\n",
      "('Iran', '>50K')\n",
      "('Ireland', '<=50K')\n",
      "('Ireland', '>50K')\n",
      "('Italy', '<=50K')\n",
      "('Italy', '>50K')\n",
      "('Jamaica', '<=50K')\n",
      "('Jamaica', '>50K')\n",
      "('Japan', '<=50K')\n",
      "('Japan', '>50K')\n",
      "('Laos', '<=50K')\n",
      "('Laos', '>50K')\n",
      "('Mexico', '<=50K')\n",
      "('Mexico', '>50K')\n",
      "('Nicaragua', '<=50K')\n",
      "('Nicaragua', '>50K')\n",
      "('Outlying-US(Guam-USVI-etc)', '<=50K')\n",
      "('Peru', '<=50K')\n",
      "('Peru', '>50K')\n",
      "('Philippines', '<=50K')\n",
      "('Philippines', '>50K')\n",
      "('Poland', '<=50K')\n",
      "('Poland', '>50K')\n",
      "('Portugal', '<=50K')\n",
      "('Portugal', '>50K')\n",
      "('Puerto-Rico', '<=50K')\n",
      "('Puerto-Rico', '>50K')\n",
      "('Scotland', '<=50K')\n",
      "('Scotland', '>50K')\n",
      "('South', '<=50K')\n",
      "('South', '>50K')\n",
      "('Taiwan', '<=50K')\n",
      "('Taiwan', '>50K')\n",
      "('Thailand', '<=50K')\n",
      "('Thailand', '>50K')\n",
      "('Trinadad&Tobago', '<=50K')\n",
      "('Trinadad&Tobago', '>50K')\n",
      "('United-States', '<=50K')\n",
      "('United-States', '>50K')\n",
      "('Vietnam', '<=50K')\n",
      "('Vietnam', '>50K')\n",
      "('Yugoslavia', '<=50K')\n",
      "('Yugoslavia', '>50K')\n"
     ]
    },
    {
     "data": {
      "text/plain": [
       "pandas.core.series.Series"
      ]
     },
     "execution_count": 74,
     "metadata": {},
     "output_type": "execute_result"
    }
   ],
   "source": [
    "salary_countries_sorted = df[['native-country', 'salary']].value_counts().sort_index()\n",
    "o=0\n",
    "n=1\n",
    "salary = df.groupby(['native-country', 'salary'])['salary'].count()\n",
    "salary\n",
    "for a in (salary.index):\n",
    "    print(a)\n",
    "# sorting and counting using groupbyfor a,b in zip(countries_o50.index, countries_un50.index):\n",
    "# missing \n",
    "# ('Outlying-US(Guam-USVI-etc)', '<=50K')\n",
    "# ('Holand-Netherlands', '<=50K')\n",
    "type(salary)"
   ]
  },
  {
   "cell_type": "markdown",
   "id": "986b2a78-8178-449e-b144-81a34777d851",
   "metadata": {},
   "source": [
    "# Finding Missing Data "
   ]
  },
  {
   "cell_type": "code",
   "execution_count": 75,
   "id": "179acee7-d7af-49b3-917d-a0b1a4cdebe4",
   "metadata": {},
   "outputs": [
    {
     "name": "stdout",
     "output_type": "stream",
     "text": [
      "0\n",
      "False    82\n",
      "Name: 0, dtype: int64\n",
      "\n"
     ]
    }
   ],
   "source": [
    "missing_data = pd.DataFrame(salary_countries_sorted).isnull()\n",
    "for column in missing_data.columns.values.tolist():\n",
    "    print(column)\n",
    "    print (missing_data[column].value_counts())\n",
    "    print(\"\")    "
   ]
  },
  {
   "cell_type": "code",
   "execution_count": 76,
   "id": "c3d57155-641a-400d-a97e-27da55fae7e0",
   "metadata": {},
   "outputs": [],
   "source": [
    "# Will try .get_groups\n"
   ]
  },
  {
   "cell_type": "code",
   "execution_count": 77,
   "id": "68318e84-5197-45f4-af4c-3dc7cfc96267",
   "metadata": {},
   "outputs": [
    {
     "data": {
      "text/plain": [
       "Index(['Yugoslavia', 'Vietnam', 'United-States', 'Trinadad&Tobago', 'Thailand',\n",
       "       'Taiwan', 'South', 'Scotland', 'Puerto-Rico', 'Portugal', 'Poland',\n",
       "       'Philippines', 'Peru', 'Outlying-US(Guam-USVI-etc)', 'Nicaragua',\n",
       "       'Mexico', 'Laos', 'Japan', 'Jamaica', 'Italy', 'Ireland', 'Iran',\n",
       "       'India', 'Hungary', 'Hong', 'Honduras', 'Holand-Netherlands', 'Haiti',\n",
       "       'Guatemala', 'Greece', 'Germany', 'France', 'England', 'El-Salvador',\n",
       "       'Ecuador', 'Dominican-Republic', 'Cuba', 'Columbia', 'China', 'Canada',\n",
       "       'Cambodia', '?'],\n",
       "      dtype='object')"
      ]
     },
     "execution_count": 77,
     "metadata": {},
     "output_type": "execute_result"
    }
   ],
   "source": [
    "sal_un_50 = ~df.loc[:, 'salary'].str.contains('<=50K') \n",
    "salun50countries = df.loc[sal_un_50, ('native-country')].value_counts(sort=False).sort_index(ascending=False)\n",
    "sal_o_50 = ~df.loc[:, 'salary'].str.contains('>50K') \n",
    "salo50countries = df.loc[sal_o_50, ('native-country')].value_counts(sort=False).sort_index(ascending=False)\n",
    "salo50countries.keys()"
   ]
  },
  {
   "cell_type": "code",
   "execution_count": null,
   "id": "c5a6c7bd-581d-412c-8ac2-c4c3ccebc225",
   "metadata": {},
   "outputs": [],
   "source": []
  },
  {
   "cell_type": "code",
   "execution_count": null,
   "id": "0ceade20-85f7-449e-ac5b-fa7a9a5c79ae",
   "metadata": {},
   "outputs": [],
   "source": []
  },
  {
   "cell_type": "markdown",
   "id": "b179ffce-611d-4494-9afd-7b2ac7489cf9",
   "metadata": {},
   "source": [
    "# Counting number of times you have a Masters and make over >50K"
   ]
  },
  {
   "cell_type": "markdown",
   "id": "823df089-ec22-4a5e-b093-7bba9f783941",
   "metadata": {},
   "source": [
    "select \"native-country\", education, salary \n",
    "\tfrom adult_data\n",
    "\twhere education = (select education from adult_data where education = \"Masters\");\n",
    "this is same as below code in SQL"
   ]
  },
  {
   "cell_type": "code",
   "execution_count": 39,
   "id": "4cf8d8ef-17bb-4794-b485-abf52136e206",
   "metadata": {},
   "outputs": [
    {
     "data": {
      "text/plain": [
       "salary\n",
       "False     1723\n",
       "dtype: int64"
      ]
     },
     "execution_count": 39,
     "metadata": {},
     "output_type": "execute_result"
    }
   ],
   "source": [
    "masters_ed_over50 = df.loc[df['education'] ==  'Masters', ['salary']] == '>50k'\n",
    "masters_ed_over50.salary.value_counts()\n",
    "masters_ed_over50.value_counts()"
   ]
  },
  {
   "cell_type": "code",
   "execution_count": 40,
   "id": "35e680bd-eadb-4397-8f27-9287edffbf93",
   "metadata": {},
   "outputs": [],
   "source": [
    "  # df.loc[lambda df: df['education'] == 'Bachelors']"
   ]
  },
  {
   "cell_type": "code",
   "execution_count": 66,
   "id": "5e07c8a2-7545-44c8-8e3c-3a87bf6d1fad",
   "metadata": {},
   "outputs": [
    {
     "data": {
      "text/plain": [
       "Index(['age', 'workclass', 'fnlwgt', 'education', 'education-num',\n",
       "       'marital-status', 'occupation', 'relationship', 'race', 'sex',\n",
       "       'capital-gain', 'capital-loss', 'hours-per-week', 'native-country',\n",
       "       'salary'],\n",
       "      dtype='object')"
      ]
     },
     "execution_count": 66,
     "metadata": {},
     "output_type": "execute_result"
    }
   ],
   "source": [
    "df.columns"
   ]
  },
  {
   "cell_type": "code",
   "execution_count": 141,
   "id": "44b11695-686c-4cd2-8fcc-e016432b2500",
   "metadata": {},
   "outputs": [
    {
     "name": "stdout",
     "output_type": "stream",
     "text": [
      "Unexpected exception formatting exception. Falling back to standard exception\n"
     ]
    },
    {
     "name": "stderr",
     "output_type": "stream",
     "text": [
      "Traceback (most recent call last):\n",
      "  File \"C:\\Users\\Woodzi\\AppData\\Local\\Packages\\PythonSoftwareFoundation.Python.3.9_qbz5n2kfra8p0\\LocalCache\\local-packages\\Python39\\site-packages\\IPython\\core\\interactiveshell.py\", line 3433, in run_code\n",
      "    exec(code_obj, self.user_global_ns, self.user_ns)\n",
      "  File \"C:\\Users\\Woodzi\\AppData\\Local\\Temp\\ipykernel_22404\\1120303245.py\", line 1, in <module>\n",
      "    df.loc[['native-country', 'salary']]\n",
      "  File \"C:\\Users\\Woodzi\\AppData\\Local\\Packages\\PythonSoftwareFoundation.Python.3.9_qbz5n2kfra8p0\\LocalCache\\local-packages\\Python39\\site-packages\\pandas\\core\\indexing.py\", line 1073, in __getitem__\n",
      "    return self._getitem_axis(maybe_callable, axis=axis)\n",
      "  File \"C:\\Users\\Woodzi\\AppData\\Local\\Packages\\PythonSoftwareFoundation.Python.3.9_qbz5n2kfra8p0\\LocalCache\\local-packages\\Python39\\site-packages\\pandas\\core\\indexing.py\", line 1301, in _getitem_axis\n",
      "    return self._getitem_iterable(key, axis=axis)\n",
      "  File \"C:\\Users\\Woodzi\\AppData\\Local\\Packages\\PythonSoftwareFoundation.Python.3.9_qbz5n2kfra8p0\\LocalCache\\local-packages\\Python39\\site-packages\\pandas\\core\\indexing.py\", line 1239, in _getitem_iterable\n",
      "    keyarr, indexer = self._get_listlike_indexer(key, axis)\n",
      "  File \"C:\\Users\\Woodzi\\AppData\\Local\\Packages\\PythonSoftwareFoundation.Python.3.9_qbz5n2kfra8p0\\LocalCache\\local-packages\\Python39\\site-packages\\pandas\\core\\indexing.py\", line 1432, in _get_listlike_indexer\n",
      "    keyarr, indexer = ax._get_indexer_strict(key, axis_name)\n",
      "  File \"C:\\Users\\Woodzi\\AppData\\Local\\Packages\\PythonSoftwareFoundation.Python.3.9_qbz5n2kfra8p0\\LocalCache\\local-packages\\Python39\\site-packages\\pandas\\core\\indexes\\base.py\", line 6113, in _get_indexer_strict\n",
      "    self._raise_if_missing(keyarr, indexer, axis_name)\n",
      "  File \"C:\\Users\\Woodzi\\AppData\\Local\\Packages\\PythonSoftwareFoundation.Python.3.9_qbz5n2kfra8p0\\LocalCache\\local-packages\\Python39\\site-packages\\pandas\\core\\indexes\\base.py\", line 6173, in _raise_if_missing\n",
      "    raise KeyError(f\"None of [{key}] are in the [{axis_name}]\")\n",
      "KeyError: \"None of [Index(['native-country', 'salary'], dtype='object')] are in the [index]\"\n",
      "\n",
      "During handling of the above exception, another exception occurred:\n",
      "\n",
      "Traceback (most recent call last):\n",
      "  File \"C:\\Users\\Woodzi\\AppData\\Local\\Packages\\PythonSoftwareFoundation.Python.3.9_qbz5n2kfra8p0\\LocalCache\\local-packages\\Python39\\site-packages\\IPython\\core\\interactiveshell.py\", line 2052, in showtraceback\n",
      "    stb = self.InteractiveTB.structured_traceback(\n",
      "  File \"C:\\Users\\Woodzi\\AppData\\Local\\Packages\\PythonSoftwareFoundation.Python.3.9_qbz5n2kfra8p0\\LocalCache\\local-packages\\Python39\\site-packages\\IPython\\core\\ultratb.py\", line 1118, in structured_traceback\n",
      "    return FormattedTB.structured_traceback(\n",
      "  File \"C:\\Users\\Woodzi\\AppData\\Local\\Packages\\PythonSoftwareFoundation.Python.3.9_qbz5n2kfra8p0\\LocalCache\\local-packages\\Python39\\site-packages\\IPython\\core\\ultratb.py\", line 1012, in structured_traceback\n",
      "    return VerboseTB.structured_traceback(\n",
      "  File \"C:\\Users\\Woodzi\\AppData\\Local\\Packages\\PythonSoftwareFoundation.Python.3.9_qbz5n2kfra8p0\\LocalCache\\local-packages\\Python39\\site-packages\\IPython\\core\\ultratb.py\", line 865, in structured_traceback\n",
      "    formatted_exception = self.format_exception_as_a_whole(etype, evalue, etb, number_of_lines_of_context,\n",
      "  File \"C:\\Users\\Woodzi\\AppData\\Local\\Packages\\PythonSoftwareFoundation.Python.3.9_qbz5n2kfra8p0\\LocalCache\\local-packages\\Python39\\site-packages\\IPython\\core\\ultratb.py\", line 818, in format_exception_as_a_whole\n",
      "    frames.append(self.format_record(r))\n",
      "  File \"C:\\Users\\Woodzi\\AppData\\Local\\Packages\\PythonSoftwareFoundation.Python.3.9_qbz5n2kfra8p0\\LocalCache\\local-packages\\Python39\\site-packages\\IPython\\core\\ultratb.py\", line 736, in format_record\n",
      "    result += ''.join(_format_traceback_lines(frame_info.lines, Colors, self.has_colors, lvals))\n",
      "  File \"C:\\Users\\Woodzi\\AppData\\Local\\Packages\\PythonSoftwareFoundation.Python.3.9_qbz5n2kfra8p0\\LocalCache\\local-packages\\Python39\\site-packages\\stack_data\\utils.py\", line 144, in cached_property_wrapper\n",
      "    value = obj.__dict__[self.func.__name__] = self.func(obj)\n",
      "  File \"C:\\Users\\Woodzi\\AppData\\Local\\Packages\\PythonSoftwareFoundation.Python.3.9_qbz5n2kfra8p0\\LocalCache\\local-packages\\Python39\\site-packages\\stack_data\\core.py\", line 734, in lines\n",
      "    pieces = self.included_pieces\n",
      "  File \"C:\\Users\\Woodzi\\AppData\\Local\\Packages\\PythonSoftwareFoundation.Python.3.9_qbz5n2kfra8p0\\LocalCache\\local-packages\\Python39\\site-packages\\stack_data\\utils.py\", line 144, in cached_property_wrapper\n",
      "    value = obj.__dict__[self.func.__name__] = self.func(obj)\n",
      "  File \"C:\\Users\\Woodzi\\AppData\\Local\\Packages\\PythonSoftwareFoundation.Python.3.9_qbz5n2kfra8p0\\LocalCache\\local-packages\\Python39\\site-packages\\stack_data\\core.py\", line 677, in included_pieces\n",
      "    scope_pieces = self.scope_pieces\n",
      "  File \"C:\\Users\\Woodzi\\AppData\\Local\\Packages\\PythonSoftwareFoundation.Python.3.9_qbz5n2kfra8p0\\LocalCache\\local-packages\\Python39\\site-packages\\stack_data\\utils.py\", line 144, in cached_property_wrapper\n",
      "    value = obj.__dict__[self.func.__name__] = self.func(obj)\n",
      "  File \"C:\\Users\\Woodzi\\AppData\\Local\\Packages\\PythonSoftwareFoundation.Python.3.9_qbz5n2kfra8p0\\LocalCache\\local-packages\\Python39\\site-packages\\stack_data\\core.py\", line 614, in scope_pieces\n",
      "    scope_start, scope_end = self.source.line_range(self.scope)\n",
      "  File \"C:\\Users\\Woodzi\\AppData\\Local\\Packages\\PythonSoftwareFoundation.Python.3.9_qbz5n2kfra8p0\\LocalCache\\local-packages\\Python39\\site-packages\\stack_data\\core.py\", line 178, in line_range\n",
      "    return line_range(self.asttext(), node)\n",
      "  File \"C:\\Users\\Woodzi\\AppData\\Local\\Packages\\PythonSoftwareFoundation.Python.3.9_qbz5n2kfra8p0\\LocalCache\\local-packages\\Python39\\site-packages\\executing\\executing.py\", line 428, in asttext\n",
      "    self._asttext = ASTText(self.text, tree=self.tree, filename=self.filename)\n",
      "  File \"C:\\Users\\Woodzi\\AppData\\Local\\Packages\\PythonSoftwareFoundation.Python.3.9_qbz5n2kfra8p0\\LocalCache\\local-packages\\Python39\\site-packages\\asttokens\\asttokens.py\", line 307, in __init__\n",
      "    super(ASTText, self).__init__(source_text, filename)\n",
      "  File \"C:\\Users\\Woodzi\\AppData\\Local\\Packages\\PythonSoftwareFoundation.Python.3.9_qbz5n2kfra8p0\\LocalCache\\local-packages\\Python39\\site-packages\\asttokens\\asttokens.py\", line 44, in __init__\n",
      "    source_text = six.ensure_text(source_text)\n",
      "AttributeError: module 'six' has no attribute 'ensure_text'\n"
     ]
    }
   ],
   "source": [
    "df.loc[['native-country', 'salary']]"
   ]
  },
  {
   "cell_type": "code",
   "execution_count": 139,
   "id": "9fe8b013-ded2-43cc-8664-bb1765f39068",
   "metadata": {},
   "outputs": [
    {
     "name": "stdout",
     "output_type": "stream",
     "text": [
      "('?', '<=50K')\n",
      "('?', '>50K')\n",
      "('Cambodia', '<=50K')\n",
      "('Cambodia', '>50K')\n",
      "('Canada', '<=50K')\n",
      "('Canada', '>50K')\n",
      "('China', '<=50K')\n",
      "('China', '>50K')\n",
      "('Columbia', '<=50K')\n",
      "('Columbia', '>50K')\n",
      "('Cuba', '<=50K')\n",
      "('Cuba', '>50K')\n",
      "('Dominican-Republic', '<=50K')\n",
      "('Dominican-Republic', '>50K')\n",
      "('Ecuador', '<=50K')\n",
      "('Ecuador', '>50K')\n",
      "('El-Salvador', '<=50K')\n",
      "('El-Salvador', '>50K')\n",
      "('England', '<=50K')\n",
      "('England', '>50K')\n",
      "('France', '<=50K')\n",
      "('France', '>50K')\n",
      "('Germany', '<=50K')\n",
      "('Germany', '>50K')\n",
      "('Greece', '<=50K')\n",
      "('Greece', '>50K')\n",
      "('Guatemala', '<=50K')\n",
      "('Guatemala', '>50K')\n",
      "('Haiti', '<=50K')\n",
      "('Haiti', '>50K')\n",
      "('Holand-Netherlands', '<=50K')\n",
      "('Honduras', '<=50K')\n",
      "('Honduras', '>50K')\n",
      "('Hong', '<=50K')\n",
      "('Hong', '>50K')\n",
      "('Hungary', '<=50K')\n",
      "('Hungary', '>50K')\n",
      "('India', '<=50K')\n",
      "('India', '>50K')\n",
      "('Iran', '<=50K')\n",
      "('Iran', '>50K')\n",
      "('Ireland', '<=50K')\n",
      "('Ireland', '>50K')\n",
      "('Italy', '<=50K')\n",
      "('Italy', '>50K')\n",
      "('Jamaica', '<=50K')\n",
      "('Jamaica', '>50K')\n",
      "('Japan', '<=50K')\n",
      "('Japan', '>50K')\n",
      "('Laos', '<=50K')\n",
      "('Laos', '>50K')\n",
      "('Mexico', '<=50K')\n",
      "('Mexico', '>50K')\n",
      "('Nicaragua', '<=50K')\n",
      "('Nicaragua', '>50K')\n",
      "('Outlying-US(Guam-USVI-etc)', '<=50K')\n",
      "('Peru', '<=50K')\n",
      "('Peru', '>50K')\n",
      "('Philippines', '<=50K')\n",
      "('Philippines', '>50K')\n",
      "('Poland', '<=50K')\n",
      "('Poland', '>50K')\n",
      "('Portugal', '<=50K')\n",
      "('Portugal', '>50K')\n",
      "('Puerto-Rico', '<=50K')\n",
      "('Puerto-Rico', '>50K')\n",
      "('Scotland', '<=50K')\n",
      "('Scotland', '>50K')\n",
      "('South', '<=50K')\n",
      "('South', '>50K')\n",
      "('Taiwan', '<=50K')\n",
      "('Taiwan', '>50K')\n",
      "('Thailand', '<=50K')\n",
      "('Thailand', '>50K')\n",
      "('Trinadad&Tobago', '<=50K')\n",
      "('Trinadad&Tobago', '>50K')\n",
      "('United-States', '<=50K')\n",
      "('United-States', '>50K')\n",
      "('Vietnam', '<=50K')\n",
      "('Vietnam', '>50K')\n",
      "('Yugoslavia', '<=50K')\n",
      "('Yugoslavia', '>50K')\n"
     ]
    },
    {
     "data": {
      "text/plain": [
       "native-country  salary\n",
       "?               <=50K      437\n",
       "                >50K       146\n",
       "Cambodia        <=50K       12\n",
       "                >50K         7\n",
       "Canada          <=50K       82\n",
       "                          ... \n",
       "United-States   >50K      7171\n",
       "Vietnam         <=50K       62\n",
       "                >50K         5\n",
       "Yugoslavia      <=50K       10\n",
       "                >50K         6\n",
       "Length: 82, dtype: int64"
      ]
     },
     "execution_count": 139,
     "metadata": {},
     "output_type": "execute_result"
    }
   ],
   "source": [
    "ed_country_salary = df.drop(columns=['age', 'workclass', 'fnlwgt', 'education-num',\n",
    "       'marital-status', 'occupation', 'relationship', 'race', 'sex',\n",
    "       'capital-gain', 'capital-loss', 'hours-per-week', 'education'])\n",
    "grouped = ed_country_salary.groupby([\"native-country\"]).value_counts().sort_index()\n",
    "\n",
    "country_salary_count = dict()\n",
    "for b in grouped.index:\n",
    "    print(b)\n",
    "    if b[0] in country_salary_count:\n",
    "        country_salary_count[b[0]] += 1\n",
    "    else:\n",
    "        country_salary_count[b[0]] = 1\n",
    "grouped"
   ]
  },
  {
   "cell_type": "code",
   "execution_count": null,
   "id": "b813c378-1502-4e42-8a88-32c09323c2f9",
   "metadata": {},
   "outputs": [],
   "source": []
  },
  {
   "cell_type": "code",
   "execution_count": null,
   "id": "9476f574-226b-4211-a107-ef1029510315",
   "metadata": {},
   "outputs": [],
   "source": []
  },
  {
   "cell_type": "code",
   "execution_count": null,
   "id": "f7982692-0773-481f-8425-f0708df956d0",
   "metadata": {},
   "outputs": [],
   "source": []
  },
  {
   "cell_type": "code",
   "execution_count": null,
   "id": "4546a36f-5ee1-44ce-b152-82259375ab85",
   "metadata": {},
   "outputs": [],
   "source": []
  },
  {
   "cell_type": "code",
   "execution_count": null,
   "id": "3d287e89-dba4-44dd-b716-24426a4e96b1",
   "metadata": {},
   "outputs": [],
   "source": []
  },
  {
   "cell_type": "code",
   "execution_count": null,
   "id": "24679ba6-2568-41e1-adcd-4b181bf26644",
   "metadata": {},
   "outputs": [],
   "source": []
  },
  {
   "cell_type": "code",
   "execution_count": null,
   "id": "f515bfda-bd43-47d8-860a-ba9d63b55b51",
   "metadata": {},
   "outputs": [],
   "source": []
  },
  {
   "cell_type": "code",
   "execution_count": null,
   "id": "2f30eb10-4022-4df5-890c-3be6055d0591",
   "metadata": {},
   "outputs": [],
   "source": []
  },
  {
   "cell_type": "code",
   "execution_count": null,
   "id": "f162cb8e-54b9-4539-a32d-b6fe49dca90b",
   "metadata": {},
   "outputs": [],
   "source": []
  },
  {
   "cell_type": "code",
   "execution_count": null,
   "id": "6c5813cf-baf1-4ec1-8850-40cf071af7f1",
   "metadata": {},
   "outputs": [],
   "source": []
  },
  {
   "cell_type": "code",
   "execution_count": null,
   "id": "f14944f3-0a9b-4e2c-8b60-1f517168d80c",
   "metadata": {},
   "outputs": [],
   "source": []
  },
  {
   "cell_type": "code",
   "execution_count": null,
   "id": "f51ac02b-13b7-49e5-a829-392404c8698b",
   "metadata": {},
   "outputs": [],
   "source": []
  },
  {
   "cell_type": "code",
   "execution_count": null,
   "id": "2be12d74-33c9-4d5b-a949-f983f8bf6a82",
   "metadata": {},
   "outputs": [],
   "source": []
  },
  {
   "cell_type": "code",
   "execution_count": null,
   "id": "6cc42616-3590-4b1e-8e70-44c458e4d5fe",
   "metadata": {},
   "outputs": [],
   "source": []
  },
  {
   "cell_type": "code",
   "execution_count": null,
   "id": "a41a555b-8279-4750-b2f3-8ba6b5ae78a0",
   "metadata": {},
   "outputs": [],
   "source": []
  },
  {
   "cell_type": "code",
   "execution_count": null,
   "id": "d5756d5c-bc5d-480b-91c4-9ce703eb8d23",
   "metadata": {},
   "outputs": [],
   "source": []
  },
  {
   "cell_type": "code",
   "execution_count": null,
   "id": "dcfe9d65-a568-46f8-94e2-e9230ddc6f93",
   "metadata": {},
   "outputs": [],
   "source": []
  },
  {
   "cell_type": "code",
   "execution_count": null,
   "id": "b7f98237-911f-4641-ad02-ed838778a96d",
   "metadata": {},
   "outputs": [],
   "source": []
  },
  {
   "cell_type": "code",
   "execution_count": null,
   "id": "eb25f8e7-b692-4a82-816c-5f2346070c4c",
   "metadata": {},
   "outputs": [],
   "source": []
  },
  {
   "cell_type": "code",
   "execution_count": null,
   "id": "6055d050-f20d-4721-b5d9-c4286e4a65a2",
   "metadata": {},
   "outputs": [],
   "source": []
  },
  {
   "cell_type": "code",
   "execution_count": null,
   "id": "d274dfbd-a62e-451c-af00-c14c27225466",
   "metadata": {},
   "outputs": [],
   "source": []
  },
  {
   "cell_type": "code",
   "execution_count": null,
   "id": "349bb47d-bed4-4f3b-a9cb-392c7613a096",
   "metadata": {},
   "outputs": [],
   "source": []
  },
  {
   "cell_type": "code",
   "execution_count": null,
   "id": "ad587517-abd8-4ff7-9ace-e6440eba519f",
   "metadata": {},
   "outputs": [],
   "source": []
  },
  {
   "cell_type": "code",
   "execution_count": null,
   "id": "a1c59440-a222-4d6b-af5f-9ee4e92f42b3",
   "metadata": {},
   "outputs": [],
   "source": []
  },
  {
   "cell_type": "code",
   "execution_count": null,
   "id": "0390cf89-1ed0-4e38-8e11-24c0a5d4681a",
   "metadata": {},
   "outputs": [],
   "source": []
  },
  {
   "cell_type": "code",
   "execution_count": null,
   "id": "c8431193-5e36-4512-844d-5f46bebb83f2",
   "metadata": {},
   "outputs": [],
   "source": []
  },
  {
   "cell_type": "code",
   "execution_count": null,
   "id": "0df4aa77-eef5-49e1-a0ea-dbe89743301d",
   "metadata": {},
   "outputs": [],
   "source": []
  },
  {
   "cell_type": "code",
   "execution_count": null,
   "id": "abd305f6-fc13-426b-873d-bb69ecd3396c",
   "metadata": {},
   "outputs": [],
   "source": []
  },
  {
   "cell_type": "code",
   "execution_count": null,
   "id": "b420199b-fbb4-43b8-9de8-dd5d208a63bf",
   "metadata": {},
   "outputs": [],
   "source": []
  },
  {
   "cell_type": "code",
   "execution_count": null,
   "id": "f757d62c-f7a6-458e-a39d-6c943422af07",
   "metadata": {},
   "outputs": [],
   "source": []
  },
  {
   "cell_type": "code",
   "execution_count": null,
   "id": "a490ea87-4e17-4f00-b2b9-10b0e944bba9",
   "metadata": {},
   "outputs": [],
   "source": []
  },
  {
   "cell_type": "code",
   "execution_count": null,
   "id": "d0f203ad-0b6d-4bb2-a149-02b82b493bfd",
   "metadata": {},
   "outputs": [],
   "source": []
  }
 ],
 "metadata": {
  "kernelspec": {
   "display_name": "Python 3 (ipykernel)",
   "language": "python",
   "name": "python3"
  },
  "language_info": {
   "codemirror_mode": {
    "name": "ipython",
    "version": 3
   },
   "file_extension": ".py",
   "mimetype": "text/x-python",
   "name": "python",
   "nbconvert_exporter": "python",
   "pygments_lexer": "ipython3",
   "version": "3.9.13"
  },
  "vscode": {
   "interpreter": {
    "hash": "abc5caab3553aeef64ee9d3330b25b6c0f15131998db8a466f8dc280a4fb99bc"
   }
  }
 },
 "nbformat": 4,
 "nbformat_minor": 5
}
