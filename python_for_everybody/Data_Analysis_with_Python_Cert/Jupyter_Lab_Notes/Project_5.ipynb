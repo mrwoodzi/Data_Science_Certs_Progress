{
 "cells": [
  {
   "cell_type": "markdown",
   "id": "e6ebcfc5-ff45-4e57-a4d9-e4331bc009c7",
   "metadata": {},
   "source": [
    "You will analyze a dataset of the global average sea level change since 1880. You will use the data to predict the sea level change through year 2050.\r\n",
    "\r\n",
    "Use the data to complete the following tasks:\r\n",
    "\r\n",
    "Use Pandas to import the data from epa-sea-level.csv.\r\n",
    "Use matplotlib to create a scatter plot using the Year column as the x-axis and the CSIRO Adjusted Sea Level column as the y-axis.\r\n",
    "Use the linregress function from scipy.stats to get the slope and y-intercept of the line of best fit. Plot the line of best fit over the top of the scatter plot. Make the line go through the year 2050 to predict the sea level rise in 2050.\r\n",
    "Plot a new line of best fit just using the data from year 2000 through the most recent year in the dataset. Make the line also go through the year 2050 to predict the sea level rise in 2050 if the rate of rise continues as it has since the year 2000.\r\n",
    "The x label should be Year, the y label should be Sea Level (inches), and the title should be Rise in Sea Level."
   ]
  }
 ],
 "metadata": {
  "kernelspec": {
   "display_name": "Python 3 (ipykernel)",
   "language": "python",
   "name": "python3"
  },
  "language_info": {
   "codemirror_mode": {
    "name": "ipython",
    "version": 3
   },
   "file_extension": ".py",
   "mimetype": "text/x-python",
   "name": "python",
   "nbconvert_exporter": "python",
   "pygments_lexer": "ipython3",
   "version": "3.11.3"
  }
 },
 "nbformat": 4,
 "nbformat_minor": 5
}
