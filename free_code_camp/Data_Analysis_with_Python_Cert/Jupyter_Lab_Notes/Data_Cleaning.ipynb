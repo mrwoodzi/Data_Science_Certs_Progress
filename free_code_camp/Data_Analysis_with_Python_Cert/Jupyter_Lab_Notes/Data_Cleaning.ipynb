{
 "cells": [
  {
   "cell_type": "code",
   "execution_count": 1,
   "id": "4818b2c8-985c-455a-add7-bd5e988a6780",
   "metadata": {},
   "outputs": [],
   "source": [
    "import numpy as np\n",
    "import pandas as pd"
   ]
  },
  {
   "cell_type": "markdown",
   "id": "ca751135-51be-4c16-a03b-3c8a8365c890",
   "metadata": {},
   "source": [
    "# Pandas Utility Functions\n",
    "Similarly to numpy, pandas also has a few utility functions and detect null values \n",
    "isnull and isna are same for pandas "
   ]
  },
  {
   "cell_type": "code",
   "execution_count": null,
   "id": "24e070fe-31a7-4400-9be4-40bd79eb1ee8",
   "metadata": {},
   "outputs": [],
   "source": [
    "pd.isnull(np.nan)"
   ]
  },
  {
   "cell_type": "code",
   "execution_count": null,
   "id": "b6404500-e3e0-4c61-a2ba-c1d3e89e667d",
   "metadata": {},
   "outputs": [],
   "source": [
    "pd.isnull(None)"
   ]
  },
  {
   "cell_type": "code",
   "execution_count": null,
   "id": "e650c444-c3f6-4103-b619-99a3b1f0e473",
   "metadata": {},
   "outputs": [],
   "source": [
    "pd.isna(np.na)"
   ]
  },
  {
   "cell_type": "code",
   "execution_count": null,
   "id": "36f3ab71-de98-44ba-a683-2b928aff3013",
   "metadata": {},
   "outputs": [],
   "source": [
    "pd.isna(None)"
   ]
  },
  {
   "cell_type": "markdown",
   "id": "5b9824dd-fea1-4fe9-b640-7aefdfe97a68",
   "metadata": {},
   "source": [
    "The opposite ones also exist:"
   ]
  },
  {
   "cell_type": "code",
   "execution_count": null,
   "id": "cda6bc66-6753-4c2b-98db-41ee858d3497",
   "metadata": {},
   "outputs": [],
   "source": [
    "pd.notnull(None)"
   ]
  },
  {
   "cell_type": "code",
   "execution_count": null,
   "id": "61d61f10-168d-4b10-92c9-c49ee19fdd3f",
   "metadata": {},
   "outputs": [],
   "source": [
    "pd.notnull(np.nan)"
   ]
  },
  {
   "cell_type": "code",
   "execution_count": null,
   "id": "7c9946fd-34b9-4db4-87e1-905d4ae3e202",
   "metadata": {},
   "outputs": [],
   "source": [
    "pd.notnull(3)"
   ]
  },
  {
   "cell_type": "markdown",
   "id": "c5b1f7da-562d-4b17-8a1f-b706b4d9fce8",
   "metadata": {},
   "source": [
    "These functions also work with Series and DataFrame's:"
   ]
  },
  {
   "cell_type": "code",
   "execution_count": 2,
   "id": "d073af72-5f74-48d4-9d6a-e270b264b54e",
   "metadata": {},
   "outputs": [
    {
     "data": {
      "text/plain": [
       "0    False\n",
       "1     True\n",
       "2    False\n",
       "dtype: bool"
      ]
     },
     "execution_count": 2,
     "metadata": {},
     "output_type": "execute_result"
    }
   ],
   "source": [
    "pd.isnull(pd.Series([1, np.nan, 7])) # Which Values in this Series are Null"
   ]
  },
  {
   "cell_type": "code",
   "execution_count": 3,
   "id": "9ecc01e3-89ac-459e-a38a-052ccba874e1",
   "metadata": {},
   "outputs": [
    {
     "data": {
      "text/plain": [
       "0     True\n",
       "1    False\n",
       "2     True\n",
       "dtype: bool"
      ]
     },
     "execution_count": 3,
     "metadata": {},
     "output_type": "execute_result"
    }
   ],
   "source": [
    "pd.notnull(pd.Series([1, np.nan, 7])) # Which Values in this Series are Not Null"
   ]
  },
  {
   "cell_type": "code",
   "execution_count": 4,
   "id": "eef027f5-4d68-4c1b-9b95-2dbe8555cdb8",
   "metadata": {},
   "outputs": [
    {
     "data": {
      "text/html": [
       "<div>\n",
       "<style scoped>\n",
       "    .dataframe tbody tr th:only-of-type {\n",
       "        vertical-align: middle;\n",
       "    }\n",
       "\n",
       "    .dataframe tbody tr th {\n",
       "        vertical-align: top;\n",
       "    }\n",
       "\n",
       "    .dataframe thead th {\n",
       "        text-align: right;\n",
       "    }\n",
       "</style>\n",
       "<table border=\"1\" class=\"dataframe\">\n",
       "  <thead>\n",
       "    <tr style=\"text-align: right;\">\n",
       "      <th></th>\n",
       "      <th>Column A</th>\n",
       "      <th>Column B</th>\n",
       "      <th>Column C</th>\n",
       "    </tr>\n",
       "  </thead>\n",
       "  <tbody>\n",
       "    <tr>\n",
       "      <th>0</th>\n",
       "      <td>False</td>\n",
       "      <td>True</td>\n",
       "      <td>True</td>\n",
       "    </tr>\n",
       "    <tr>\n",
       "      <th>1</th>\n",
       "      <td>True</td>\n",
       "      <td>False</td>\n",
       "      <td>False</td>\n",
       "    </tr>\n",
       "    <tr>\n",
       "      <th>2</th>\n",
       "      <td>False</td>\n",
       "      <td>False</td>\n",
       "      <td>True</td>\n",
       "    </tr>\n",
       "  </tbody>\n",
       "</table>\n",
       "</div>"
      ],
      "text/plain": [
       "   Column A  Column B  Column C\n",
       "0     False      True      True\n",
       "1      True     False     False\n",
       "2     False     False      True"
      ]
     },
     "execution_count": 4,
     "metadata": {},
     "output_type": "execute_result"
    }
   ],
   "source": [
    "pd.isnull(pd.DataFrame({\n",
    "    'Column A': [1, np.nan, 7],\n",
    "    'Column B': [np.nan, 2, 3],\n",
    "    'Column C': [np.nan, 2, np.nan]\n",
    "}))"
   ]
  },
  {
   "cell_type": "markdown",
   "id": "d91e49c2-c51a-486f-bb37-a5f94918e426",
   "metadata": {},
   "source": [
    "# Pandas Operations with Missing Values\n",
    "Pandas Manages missing values more gracefully than numpy. nan's will no longer behave as 'viruses', and operations will just ignore them completely."
   ]
  },
  {
   "cell_type": "code",
   "execution_count": 6,
   "id": "82f188d5-6d1b-41fc-b507-91842332d666",
   "metadata": {},
   "outputs": [],
   "source": [
    "s = pd.Series([1, 2, 3, 4, np.nan, np.nan, 4])"
   ]
  },
  {
   "cell_type": "code",
   "execution_count": 7,
   "id": "798c5819-2f54-4244-8093-97720af11d70",
   "metadata": {},
   "outputs": [
    {
     "data": {
      "text/plain": [
       "5"
      ]
     },
     "execution_count": 7,
     "metadata": {},
     "output_type": "execute_result"
    }
   ],
   "source": [
    "pd.notnull(s).sum()"
   ]
  },
  {
   "cell_type": "code",
   "execution_count": null,
   "id": "77efa639-490e-4b24-8b27-35b66a96dae4",
   "metadata": {},
   "outputs": [],
   "source": [
    "pd.notnull(s).count()"
   ]
  },
  {
   "cell_type": "code",
   "execution_count": null,
   "id": "b41b7eca-f563-445b-ab89-8eb1734ddb7a",
   "metadata": {},
   "outputs": [],
   "source": [
    "s[pd.notnull(s)] # Giving all the Values that are not null"
   ]
  },
  {
   "cell_type": "markdown",
   "id": "e4062436-2d32-4ec0-be95-d46048dfe2d2",
   "metadata": {},
   "source": [
    "But both notnull and isnull are also methods of series and dataframes so we could use it that way"
   ]
  },
  {
   "cell_type": "code",
   "execution_count": null,
   "id": "118f022e-5e82-4732-b567-9458375392ed",
   "metadata": {},
   "outputs": [],
   "source": [
    "s.isnull()"
   ]
  },
  {
   "cell_type": "code",
   "execution_count": null,
   "id": "3f76dc16-4142-47f3-a595-ba8f159469c9",
   "metadata": {},
   "outputs": [],
   "source": [
    "s.notnull()"
   ]
  },
  {
   "cell_type": "code",
   "execution_count": null,
   "id": "4e9d5310-5a35-4d45-ad7a-3cdf0aa39bfe",
   "metadata": {},
   "outputs": [],
   "source": [
    "s[s.notnull()] # selecting only values that are not null and returning index and count?"
   ]
  },
  {
   "cell_type": "markdown",
   "id": "de504747-5b82-4ed3-a0a4-ce17797e805c",
   "metadata": {},
   "source": [
    "# Dropping Null Values\n",
    "Boolean selection + nonull() seems a little bit verbose and repetitive. And as we said before: any repetitive\n",
    "task will probably have a better, more DRY way. In this case, we can use the dropna method:"
   ]
  },
  {
   "cell_type": "code",
   "execution_count": null,
   "id": "ce970814-1c6b-44b0-bf05-de76d8ae042e",
   "metadata": {},
   "outputs": [],
   "source": [
    "s.dropna()"
   ]
  },
  {
   "cell_type": "markdown",
   "id": "59fd7cad-48bf-4641-a47b-00255a3c73c5",
   "metadata": {},
   "source": [
    "# Dropping null Values on DataFrames\n",
    "DataFrames will not allow you to drop single values you can only drop entire columns or rows."
   ]
  },
  {
   "cell_type": "code",
   "execution_count": null,
   "id": "91e94534-009a-4f85-8e09-5cce22e3297f",
   "metadata": {},
   "outputs": [],
   "source": []
  },
  {
   "cell_type": "code",
   "execution_count": null,
   "id": "e9f47a1b-625f-4776-9922-629875b0df28",
   "metadata": {},
   "outputs": [],
   "source": []
  },
  {
   "cell_type": "code",
   "execution_count": null,
   "id": "0494617d-5378-4e60-b4d1-cef920a34c2c",
   "metadata": {},
   "outputs": [],
   "source": []
  },
  {
   "cell_type": "code",
   "execution_count": null,
   "id": "e5b2ea81-4c5a-42f4-a828-2e29d6102e4b",
   "metadata": {},
   "outputs": [],
   "source": []
  },
  {
   "cell_type": "code",
   "execution_count": null,
   "id": "6d51ff19-e53a-4577-9151-d07513422b99",
   "metadata": {},
   "outputs": [],
   "source": []
  },
  {
   "cell_type": "code",
   "execution_count": null,
   "id": "25c7c47c-cfc1-43f4-ac9b-4f987c1955ab",
   "metadata": {},
   "outputs": [],
   "source": []
  },
  {
   "cell_type": "code",
   "execution_count": null,
   "id": "bc5211cd-e1d1-4d64-a340-9ec75fe62d46",
   "metadata": {},
   "outputs": [],
   "source": []
  },
  {
   "cell_type": "code",
   "execution_count": null,
   "id": "c8b0453c-4c97-48e1-830b-1d69677ac345",
   "metadata": {},
   "outputs": [],
   "source": []
  },
  {
   "cell_type": "code",
   "execution_count": null,
   "id": "e594bd45-e783-45f4-a21a-8914b9c4dd09",
   "metadata": {},
   "outputs": [],
   "source": []
  },
  {
   "cell_type": "code",
   "execution_count": null,
   "id": "926a6bf7-aa9a-49df-a33b-ee6df37ac54b",
   "metadata": {},
   "outputs": [],
   "source": []
  },
  {
   "cell_type": "code",
   "execution_count": null,
   "id": "7bab57f5-9bf8-4827-96d8-d7ae4c616ee3",
   "metadata": {},
   "outputs": [],
   "source": []
  }
 ],
 "metadata": {
  "kernelspec": {
   "display_name": "Python 3 (ipykernel)",
   "language": "python",
   "name": "python3"
  },
  "language_info": {
   "codemirror_mode": {
    "name": "ipython",
    "version": 3
   },
   "file_extension": ".py",
   "mimetype": "text/x-python",
   "name": "python",
   "nbconvert_exporter": "python",
   "pygments_lexer": "ipython3",
   "version": "3.9.13"
  }
 },
 "nbformat": 4,
 "nbformat_minor": 5
}
