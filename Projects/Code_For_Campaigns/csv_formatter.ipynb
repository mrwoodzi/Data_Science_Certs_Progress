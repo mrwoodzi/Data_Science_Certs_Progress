{
 "cells": [
  {
   "cell_type": "code",
   "execution_count": 19,
   "metadata": {},
   "outputs": [
    {
     "data": {
      "text/html": [
       "<div>\n",
       "<style scoped>\n",
       "    .dataframe tbody tr th:only-of-type {\n",
       "        vertical-align: middle;\n",
       "    }\n",
       "\n",
       "    .dataframe tbody tr th {\n",
       "        vertical-align: top;\n",
       "    }\n",
       "\n",
       "    .dataframe thead th {\n",
       "        text-align: right;\n",
       "    }\n",
       "</style>\n",
       "<table border=\"1\" class=\"dataframe\">\n",
       "  <thead>\n",
       "    <tr style=\"text-align: right;\">\n",
       "      <th></th>\n",
       "      <th>Precinct</th>\n",
       "      <th>Jarrett Lipman Votes</th>\n",
       "      <th>Jarrett Lipman Percentage</th>\n",
       "      <th>David Allan Lara Votes</th>\n",
       "      <th>David Allan Lara Percentage</th>\n",
       "      <th>John Courage Votes</th>\n",
       "      <th>John Courage Percentage</th>\n",
       "      <th>Dominque Lui Votes</th>\n",
       "      <th>Dominque Lui Percentage</th>\n",
       "      <th>Total Votes Cast</th>\n",
       "    </tr>\n",
       "  </thead>\n",
       "  <tbody>\n",
       "    <tr>\n",
       "      <th>0</th>\n",
       "      <td>3001</td>\n",
       "      <td>159</td>\n",
       "      <td>21.96</td>\n",
       "      <td>38</td>\n",
       "      <td>5.25</td>\n",
       "      <td>492</td>\n",
       "      <td>67.96</td>\n",
       "      <td>35</td>\n",
       "      <td>4.83</td>\n",
       "      <td>724</td>\n",
       "    </tr>\n",
       "    <tr>\n",
       "      <th>1</th>\n",
       "      <td>3007</td>\n",
       "      <td>245</td>\n",
       "      <td>39.71</td>\n",
       "      <td>28</td>\n",
       "      <td>4.54</td>\n",
       "      <td>319</td>\n",
       "      <td>51.70</td>\n",
       "      <td>25</td>\n",
       "      <td>4.05</td>\n",
       "      <td>617</td>\n",
       "    </tr>\n",
       "    <tr>\n",
       "      <th>2</th>\n",
       "      <td>3030</td>\n",
       "      <td>200</td>\n",
       "      <td>27.62</td>\n",
       "      <td>33</td>\n",
       "      <td>4.56</td>\n",
       "      <td>475</td>\n",
       "      <td>65.61</td>\n",
       "      <td>16</td>\n",
       "      <td>2.21</td>\n",
       "      <td>724</td>\n",
       "    </tr>\n",
       "    <tr>\n",
       "      <th>3</th>\n",
       "      <td>3033</td>\n",
       "      <td>136</td>\n",
       "      <td>26.41</td>\n",
       "      <td>34</td>\n",
       "      <td>6.60</td>\n",
       "      <td>333</td>\n",
       "      <td>64.66</td>\n",
       "      <td>12</td>\n",
       "      <td>2.33</td>\n",
       "      <td>515</td>\n",
       "    </tr>\n",
       "    <tr>\n",
       "      <th>4</th>\n",
       "      <td>3037</td>\n",
       "      <td>32</td>\n",
       "      <td>7.27</td>\n",
       "      <td>21</td>\n",
       "      <td>8.18</td>\n",
       "      <td>65</td>\n",
       "      <td>4.55</td>\n",
       "      <td>0</td>\n",
       "      <td>0.00</td>\n",
       "      <td>11</td>\n",
       "    </tr>\n",
       "    <tr>\n",
       "      <th>5</th>\n",
       "      <td>3042</td>\n",
       "      <td>152</td>\n",
       "      <td>28.20</td>\n",
       "      <td>24</td>\n",
       "      <td>4.45</td>\n",
       "      <td>339</td>\n",
       "      <td>62.89</td>\n",
       "      <td>24</td>\n",
       "      <td>4.45</td>\n",
       "      <td>539</td>\n",
       "    </tr>\n",
       "    <tr>\n",
       "      <th>6</th>\n",
       "      <td>3044</td>\n",
       "      <td>88</td>\n",
       "      <td>22.86</td>\n",
       "      <td>23</td>\n",
       "      <td>5.97</td>\n",
       "      <td>251</td>\n",
       "      <td>65.19</td>\n",
       "      <td>23</td>\n",
       "      <td>5.97</td>\n",
       "      <td>385</td>\n",
       "    </tr>\n",
       "    <tr>\n",
       "      <th>7</th>\n",
       "      <td>3045</td>\n",
       "      <td>113</td>\n",
       "      <td>24.78</td>\n",
       "      <td>14</td>\n",
       "      <td>3.07</td>\n",
       "      <td>307</td>\n",
       "      <td>67.32</td>\n",
       "      <td>22</td>\n",
       "      <td>4.82</td>\n",
       "      <td>456</td>\n",
       "    </tr>\n",
       "    <tr>\n",
       "      <th>8</th>\n",
       "      <td>3052</td>\n",
       "      <td>66</td>\n",
       "      <td>26.19</td>\n",
       "      <td>16</td>\n",
       "      <td>6.35</td>\n",
       "      <td>160</td>\n",
       "      <td>63.49</td>\n",
       "      <td>10</td>\n",
       "      <td>3.97</td>\n",
       "      <td>252</td>\n",
       "    </tr>\n",
       "    <tr>\n",
       "      <th>9</th>\n",
       "      <td>3059</td>\n",
       "      <td>122</td>\n",
       "      <td>34.37</td>\n",
       "      <td>24</td>\n",
       "      <td>6.76</td>\n",
       "      <td>185</td>\n",
       "      <td>52.11</td>\n",
       "      <td>24</td>\n",
       "      <td>6.76</td>\n",
       "      <td>355</td>\n",
       "    </tr>\n",
       "    <tr>\n",
       "      <th>10</th>\n",
       "      <td>3062</td>\n",
       "      <td>2</td>\n",
       "      <td>40.00</td>\n",
       "      <td>0</td>\n",
       "      <td>0.00</td>\n",
       "      <td>3</td>\n",
       "      <td>60.00</td>\n",
       "      <td>0</td>\n",
       "      <td>0.00</td>\n",
       "      <td>5</td>\n",
       "    </tr>\n",
       "    <tr>\n",
       "      <th>11</th>\n",
       "      <td>3065</td>\n",
       "      <td>196</td>\n",
       "      <td>31.77</td>\n",
       "      <td>31</td>\n",
       "      <td>5.02</td>\n",
       "      <td>362</td>\n",
       "      <td>58.67</td>\n",
       "      <td>28</td>\n",
       "      <td>4.54</td>\n",
       "      <td>617</td>\n",
       "    </tr>\n",
       "    <tr>\n",
       "      <th>12</th>\n",
       "      <td>3068</td>\n",
       "      <td>40</td>\n",
       "      <td>14.55</td>\n",
       "      <td>38</td>\n",
       "      <td>13.82</td>\n",
       "      <td>175</td>\n",
       "      <td>63.64</td>\n",
       "      <td>22</td>\n",
       "      <td>8.00</td>\n",
       "      <td>275</td>\n",
       "    </tr>\n",
       "    <tr>\n",
       "      <th>13</th>\n",
       "      <td>3069</td>\n",
       "      <td>130</td>\n",
       "      <td>13.66</td>\n",
       "      <td>61</td>\n",
       "      <td>6.41</td>\n",
       "      <td>722</td>\n",
       "      <td>75.84</td>\n",
       "      <td>39</td>\n",
       "      <td>4.10</td>\n",
       "      <td>952</td>\n",
       "    </tr>\n",
       "    <tr>\n",
       "      <th>14</th>\n",
       "      <td>3076</td>\n",
       "      <td>128</td>\n",
       "      <td>28.07</td>\n",
       "      <td>24</td>\n",
       "      <td>5.26</td>\n",
       "      <td>291</td>\n",
       "      <td>63.82</td>\n",
       "      <td>13</td>\n",
       "      <td>2.85</td>\n",
       "      <td>456</td>\n",
       "    </tr>\n",
       "    <tr>\n",
       "      <th>15</th>\n",
       "      <td>3078</td>\n",
       "      <td>184</td>\n",
       "      <td>23.32</td>\n",
       "      <td>52</td>\n",
       "      <td>6.59</td>\n",
       "      <td>519</td>\n",
       "      <td>65.78</td>\n",
       "      <td>34</td>\n",
       "      <td>4.31</td>\n",
       "      <td>789</td>\n",
       "    </tr>\n",
       "    <tr>\n",
       "      <th>16</th>\n",
       "      <td>3079</td>\n",
       "      <td>251</td>\n",
       "      <td>26.23</td>\n",
       "      <td>46</td>\n",
       "      <td>4.81</td>\n",
       "      <td>633</td>\n",
       "      <td>66.14</td>\n",
       "      <td>27</td>\n",
       "      <td>2.82</td>\n",
       "      <td>957</td>\n",
       "    </tr>\n",
       "    <tr>\n",
       "      <th>17</th>\n",
       "      <td>3080</td>\n",
       "      <td>57</td>\n",
       "      <td>17.27</td>\n",
       "      <td>25</td>\n",
       "      <td>7.58</td>\n",
       "      <td>239</td>\n",
       "      <td>72.42</td>\n",
       "      <td>9</td>\n",
       "      <td>2.73</td>\n",
       "      <td>330</td>\n",
       "    </tr>\n",
       "    <tr>\n",
       "      <th>18</th>\n",
       "      <td>3081</td>\n",
       "      <td>115</td>\n",
       "      <td>20.76</td>\n",
       "      <td>44</td>\n",
       "      <td>7.94</td>\n",
       "      <td>352</td>\n",
       "      <td>63.54</td>\n",
       "      <td>43</td>\n",
       "      <td>7.76</td>\n",
       "      <td>554</td>\n",
       "    </tr>\n",
       "    <tr>\n",
       "      <th>19</th>\n",
       "      <td>3083</td>\n",
       "      <td>112</td>\n",
       "      <td>26.54</td>\n",
       "      <td>20</td>\n",
       "      <td>4.74</td>\n",
       "      <td>277</td>\n",
       "      <td>65.64</td>\n",
       "      <td>13</td>\n",
       "      <td>3.08</td>\n",
       "      <td>422</td>\n",
       "    </tr>\n",
       "    <tr>\n",
       "      <th>20</th>\n",
       "      <td>3085</td>\n",
       "      <td>85</td>\n",
       "      <td>26.32</td>\n",
       "      <td>20</td>\n",
       "      <td>6.19</td>\n",
       "      <td>205</td>\n",
       "      <td>63.47</td>\n",
       "      <td>13</td>\n",
       "      <td>4.02</td>\n",
       "      <td>323</td>\n",
       "    </tr>\n",
       "    <tr>\n",
       "      <th>21</th>\n",
       "      <td>3093</td>\n",
       "      <td>218</td>\n",
       "      <td>33.44</td>\n",
       "      <td>26</td>\n",
       "      <td>3.99</td>\n",
       "      <td>382</td>\n",
       "      <td>58.59</td>\n",
       "      <td>26</td>\n",
       "      <td>3.99</td>\n",
       "      <td>652</td>\n",
       "    </tr>\n",
       "    <tr>\n",
       "      <th>22</th>\n",
       "      <td>3102</td>\n",
       "      <td>264</td>\n",
       "      <td>29.97</td>\n",
       "      <td>40</td>\n",
       "      <td>4.54</td>\n",
       "      <td>543</td>\n",
       "      <td>61.63</td>\n",
       "      <td>34</td>\n",
       "      <td>3.86</td>\n",
       "      <td>881</td>\n",
       "    </tr>\n",
       "    <tr>\n",
       "      <th>23</th>\n",
       "      <td>3104</td>\n",
       "      <td>214</td>\n",
       "      <td>25.75</td>\n",
       "      <td>57</td>\n",
       "      <td>6.86</td>\n",
       "      <td>532</td>\n",
       "      <td>64.02</td>\n",
       "      <td>28</td>\n",
       "      <td>3.37</td>\n",
       "      <td>831</td>\n",
       "    </tr>\n",
       "    <tr>\n",
       "      <th>24</th>\n",
       "      <td>3114</td>\n",
       "      <td>279</td>\n",
       "      <td>36.90</td>\n",
       "      <td>19</td>\n",
       "      <td>2.51</td>\n",
       "      <td>450</td>\n",
       "      <td>59.52</td>\n",
       "      <td>8</td>\n",
       "      <td>1.06</td>\n",
       "      <td>756</td>\n",
       "    </tr>\n",
       "    <tr>\n",
       "      <th>25</th>\n",
       "      <td>3116</td>\n",
       "      <td>2</td>\n",
       "      <td>20.00</td>\n",
       "      <td>1</td>\n",
       "      <td>10.00</td>\n",
       "      <td>6</td>\n",
       "      <td>60.00</td>\n",
       "      <td>1</td>\n",
       "      <td>10.00</td>\n",
       "      <td>10</td>\n",
       "    </tr>\n",
       "    <tr>\n",
       "      <th>26</th>\n",
       "      <td>3117</td>\n",
       "      <td>240</td>\n",
       "      <td>22.56</td>\n",
       "      <td>80</td>\n",
       "      <td>7.52</td>\n",
       "      <td>709</td>\n",
       "      <td>66.64</td>\n",
       "      <td>35</td>\n",
       "      <td>3.29</td>\n",
       "      <td>1064</td>\n",
       "    </tr>\n",
       "    <tr>\n",
       "      <th>27</th>\n",
       "      <td>3119</td>\n",
       "      <td>167</td>\n",
       "      <td>23.93</td>\n",
       "      <td>28</td>\n",
       "      <td>4.01</td>\n",
       "      <td>466</td>\n",
       "      <td>66.76</td>\n",
       "      <td>37</td>\n",
       "      <td>5.30</td>\n",
       "      <td>698</td>\n",
       "    </tr>\n",
       "    <tr>\n",
       "      <th>28</th>\n",
       "      <td>3121</td>\n",
       "      <td>166</td>\n",
       "      <td>28.52</td>\n",
       "      <td>30</td>\n",
       "      <td>5.15</td>\n",
       "      <td>356</td>\n",
       "      <td>61.17</td>\n",
       "      <td>30</td>\n",
       "      <td>5.15</td>\n",
       "      <td>582</td>\n",
       "    </tr>\n",
       "    <tr>\n",
       "      <th>29</th>\n",
       "      <td>3122</td>\n",
       "      <td>122</td>\n",
       "      <td>21.75</td>\n",
       "      <td>28</td>\n",
       "      <td>4.99</td>\n",
       "      <td>390</td>\n",
       "      <td>69.52</td>\n",
       "      <td>21</td>\n",
       "      <td>3.74</td>\n",
       "      <td>561</td>\n",
       "    </tr>\n",
       "    <tr>\n",
       "      <th>30</th>\n",
       "      <td>3127</td>\n",
       "      <td>121</td>\n",
       "      <td>28.01</td>\n",
       "      <td>27</td>\n",
       "      <td>6.25</td>\n",
       "      <td>267</td>\n",
       "      <td>61.81</td>\n",
       "      <td>17</td>\n",
       "      <td>3.94</td>\n",
       "      <td>432</td>\n",
       "    </tr>\n",
       "    <tr>\n",
       "      <th>31</th>\n",
       "      <td>3130</td>\n",
       "      <td>22</td>\n",
       "      <td>137.08</td>\n",
       "      <td>19</td>\n",
       "      <td>3.19</td>\n",
       "      <td>347</td>\n",
       "      <td>58.22</td>\n",
       "      <td>9</td>\n",
       "      <td>1.51</td>\n",
       "      <td>596</td>\n",
       "    </tr>\n",
       "    <tr>\n",
       "      <th>32</th>\n",
       "      <td>3132</td>\n",
       "      <td>21</td>\n",
       "      <td>14.38</td>\n",
       "      <td>18</td>\n",
       "      <td>12.33</td>\n",
       "      <td>91</td>\n",
       "      <td>62.33</td>\n",
       "      <td>16</td>\n",
       "      <td>10.96</td>\n",
       "      <td>146</td>\n",
       "    </tr>\n",
       "    <tr>\n",
       "      <th>33</th>\n",
       "      <td>3136</td>\n",
       "      <td>33</td>\n",
       "      <td>23.91</td>\n",
       "      <td>15</td>\n",
       "      <td>10.87</td>\n",
       "      <td>77</td>\n",
       "      <td>55.80</td>\n",
       "      <td>13</td>\n",
       "      <td>9.42</td>\n",
       "      <td>138</td>\n",
       "    </tr>\n",
       "    <tr>\n",
       "      <th>34</th>\n",
       "      <td>3138</td>\n",
       "      <td>3</td>\n",
       "      <td>21.43</td>\n",
       "      <td>2</td>\n",
       "      <td>14.29</td>\n",
       "      <td>9</td>\n",
       "      <td>64.29</td>\n",
       "      <td>0</td>\n",
       "      <td>0.00</td>\n",
       "      <td>14</td>\n",
       "    </tr>\n",
       "    <tr>\n",
       "      <th>35</th>\n",
       "      <td>3139</td>\n",
       "      <td>65</td>\n",
       "      <td>25.59</td>\n",
       "      <td>17</td>\n",
       "      <td>6.69</td>\n",
       "      <td>162</td>\n",
       "      <td>63.78</td>\n",
       "      <td>10</td>\n",
       "      <td>3.94</td>\n",
       "      <td>254</td>\n",
       "    </tr>\n",
       "    <tr>\n",
       "      <th>36</th>\n",
       "      <td>3145</td>\n",
       "      <td>188</td>\n",
       "      <td>24.48</td>\n",
       "      <td>62</td>\n",
       "      <td>8.07</td>\n",
       "      <td>478</td>\n",
       "      <td>62.24</td>\n",
       "      <td>40</td>\n",
       "      <td>5.21</td>\n",
       "      <td>768</td>\n",
       "    </tr>\n",
       "    <tr>\n",
       "      <th>37</th>\n",
       "      <td>3154</td>\n",
       "      <td>132</td>\n",
       "      <td>21.82</td>\n",
       "      <td>40</td>\n",
       "      <td>6.61</td>\n",
       "      <td>408</td>\n",
       "      <td>67.44</td>\n",
       "      <td>25</td>\n",
       "      <td>4.13</td>\n",
       "      <td>605</td>\n",
       "    </tr>\n",
       "    <tr>\n",
       "      <th>38</th>\n",
       "      <td>3155</td>\n",
       "      <td>169</td>\n",
       "      <td>28.64</td>\n",
       "      <td>35</td>\n",
       "      <td>5.93</td>\n",
       "      <td>363</td>\n",
       "      <td>61.53</td>\n",
       "      <td>23</td>\n",
       "      <td>3.90</td>\n",
       "      <td>590</td>\n",
       "    </tr>\n",
       "    <tr>\n",
       "      <th>39</th>\n",
       "      <td>3161</td>\n",
       "      <td>86</td>\n",
       "      <td>22.69</td>\n",
       "      <td>29</td>\n",
       "      <td>7.65</td>\n",
       "      <td>241</td>\n",
       "      <td>63.59</td>\n",
       "      <td>23</td>\n",
       "      <td>6.07</td>\n",
       "      <td>379</td>\n",
       "    </tr>\n",
       "    <tr>\n",
       "      <th>40</th>\n",
       "      <td>3163</td>\n",
       "      <td>202</td>\n",
       "      <td>32.42</td>\n",
       "      <td>30</td>\n",
       "      <td>4.82</td>\n",
       "      <td>356</td>\n",
       "      <td>57.14</td>\n",
       "      <td>35</td>\n",
       "      <td>5.62</td>\n",
       "      <td>623</td>\n",
       "    </tr>\n",
       "    <tr>\n",
       "      <th>41</th>\n",
       "      <td>3165</td>\n",
       "      <td>531</td>\n",
       "      <td>48.99</td>\n",
       "      <td>45</td>\n",
       "      <td>4.15</td>\n",
       "      <td>468</td>\n",
       "      <td>43.17</td>\n",
       "      <td>40</td>\n",
       "      <td>3.69</td>\n",
       "      <td>1084</td>\n",
       "    </tr>\n",
       "    <tr>\n",
       "      <th>42</th>\n",
       "      <td>3173</td>\n",
       "      <td>220</td>\n",
       "      <td>31.25</td>\n",
       "      <td>46</td>\n",
       "      <td>6.53</td>\n",
       "      <td>397</td>\n",
       "      <td>56.39</td>\n",
       "      <td>41</td>\n",
       "      <td>5.82</td>\n",
       "      <td>704</td>\n",
       "    </tr>\n",
       "    <tr>\n",
       "      <th>43</th>\n",
       "      <td>3180</td>\n",
       "      <td>36</td>\n",
       "      <td>14.29</td>\n",
       "      <td>16</td>\n",
       "      <td>6.35</td>\n",
       "      <td>191</td>\n",
       "      <td>75.79</td>\n",
       "      <td>9</td>\n",
       "      <td>3.57</td>\n",
       "      <td>252</td>\n",
       "    </tr>\n",
       "    <tr>\n",
       "      <th>44</th>\n",
       "      <td>3181</td>\n",
       "      <td>249</td>\n",
       "      <td>32.85</td>\n",
       "      <td>33</td>\n",
       "      <td>4.35</td>\n",
       "      <td>436</td>\n",
       "      <td>57.52</td>\n",
       "      <td>40</td>\n",
       "      <td>5.28</td>\n",
       "      <td>758</td>\n",
       "    </tr>\n",
       "    <tr>\n",
       "      <th>45</th>\n",
       "      <td>3193</td>\n",
       "      <td>12</td>\n",
       "      <td>23.08</td>\n",
       "      <td>5</td>\n",
       "      <td>9.62</td>\n",
       "      <td>31</td>\n",
       "      <td>59.62</td>\n",
       "      <td>4</td>\n",
       "      <td>7.69</td>\n",
       "      <td>52</td>\n",
       "    </tr>\n",
       "  </tbody>\n",
       "</table>\n",
       "</div>"
      ],
      "text/plain": [
       "    Precinct  Jarrett Lipman Votes  Jarrett Lipman Percentage   \n",
       "0       3001                   159                      21.96  \\\n",
       "1       3007                   245                      39.71   \n",
       "2       3030                   200                      27.62   \n",
       "3       3033                   136                      26.41   \n",
       "4       3037                    32                       7.27   \n",
       "5       3042                   152                      28.20   \n",
       "6       3044                    88                      22.86   \n",
       "7       3045                   113                      24.78   \n",
       "8       3052                    66                      26.19   \n",
       "9       3059                   122                      34.37   \n",
       "10      3062                     2                      40.00   \n",
       "11      3065                   196                      31.77   \n",
       "12      3068                    40                      14.55   \n",
       "13      3069                   130                      13.66   \n",
       "14      3076                   128                      28.07   \n",
       "15      3078                   184                      23.32   \n",
       "16      3079                   251                      26.23   \n",
       "17      3080                    57                      17.27   \n",
       "18      3081                   115                      20.76   \n",
       "19      3083                   112                      26.54   \n",
       "20      3085                    85                      26.32   \n",
       "21      3093                   218                      33.44   \n",
       "22      3102                   264                      29.97   \n",
       "23      3104                   214                      25.75   \n",
       "24      3114                   279                      36.90   \n",
       "25      3116                     2                      20.00   \n",
       "26      3117                   240                      22.56   \n",
       "27      3119                   167                      23.93   \n",
       "28      3121                   166                      28.52   \n",
       "29      3122                   122                      21.75   \n",
       "30      3127                   121                      28.01   \n",
       "31      3130                    22                     137.08   \n",
       "32      3132                    21                      14.38   \n",
       "33      3136                    33                      23.91   \n",
       "34      3138                     3                      21.43   \n",
       "35      3139                    65                      25.59   \n",
       "36      3145                   188                      24.48   \n",
       "37      3154                   132                      21.82   \n",
       "38      3155                   169                      28.64   \n",
       "39      3161                    86                      22.69   \n",
       "40      3163                   202                      32.42   \n",
       "41      3165                   531                      48.99   \n",
       "42      3173                   220                      31.25   \n",
       "43      3180                    36                      14.29   \n",
       "44      3181                   249                      32.85   \n",
       "45      3193                    12                      23.08   \n",
       "\n",
       "    David Allan Lara Votes  David Allan Lara Percentage  John Courage Votes   \n",
       "0                       38                         5.25                 492  \\\n",
       "1                       28                         4.54                 319   \n",
       "2                       33                         4.56                 475   \n",
       "3                       34                         6.60                 333   \n",
       "4                       21                         8.18                  65   \n",
       "5                       24                         4.45                 339   \n",
       "6                       23                         5.97                 251   \n",
       "7                       14                         3.07                 307   \n",
       "8                       16                         6.35                 160   \n",
       "9                       24                         6.76                 185   \n",
       "10                       0                         0.00                   3   \n",
       "11                      31                         5.02                 362   \n",
       "12                      38                        13.82                 175   \n",
       "13                      61                         6.41                 722   \n",
       "14                      24                         5.26                 291   \n",
       "15                      52                         6.59                 519   \n",
       "16                      46                         4.81                 633   \n",
       "17                      25                         7.58                 239   \n",
       "18                      44                         7.94                 352   \n",
       "19                      20                         4.74                 277   \n",
       "20                      20                         6.19                 205   \n",
       "21                      26                         3.99                 382   \n",
       "22                      40                         4.54                 543   \n",
       "23                      57                         6.86                 532   \n",
       "24                      19                         2.51                 450   \n",
       "25                       1                        10.00                   6   \n",
       "26                      80                         7.52                 709   \n",
       "27                      28                         4.01                 466   \n",
       "28                      30                         5.15                 356   \n",
       "29                      28                         4.99                 390   \n",
       "30                      27                         6.25                 267   \n",
       "31                      19                         3.19                 347   \n",
       "32                      18                        12.33                  91   \n",
       "33                      15                        10.87                  77   \n",
       "34                       2                        14.29                   9   \n",
       "35                      17                         6.69                 162   \n",
       "36                      62                         8.07                 478   \n",
       "37                      40                         6.61                 408   \n",
       "38                      35                         5.93                 363   \n",
       "39                      29                         7.65                 241   \n",
       "40                      30                         4.82                 356   \n",
       "41                      45                         4.15                 468   \n",
       "42                      46                         6.53                 397   \n",
       "43                      16                         6.35                 191   \n",
       "44                      33                         4.35                 436   \n",
       "45                       5                         9.62                  31   \n",
       "\n",
       "    John Courage Percentage  Dominque Lui Votes  Dominque Lui Percentage   \n",
       "0                     67.96                  35                     4.83  \\\n",
       "1                     51.70                  25                     4.05   \n",
       "2                     65.61                  16                     2.21   \n",
       "3                     64.66                  12                     2.33   \n",
       "4                      4.55                   0                     0.00   \n",
       "5                     62.89                  24                     4.45   \n",
       "6                     65.19                  23                     5.97   \n",
       "7                     67.32                  22                     4.82   \n",
       "8                     63.49                  10                     3.97   \n",
       "9                     52.11                  24                     6.76   \n",
       "10                    60.00                   0                     0.00   \n",
       "11                    58.67                  28                     4.54   \n",
       "12                    63.64                  22                     8.00   \n",
       "13                    75.84                  39                     4.10   \n",
       "14                    63.82                  13                     2.85   \n",
       "15                    65.78                  34                     4.31   \n",
       "16                    66.14                  27                     2.82   \n",
       "17                    72.42                   9                     2.73   \n",
       "18                    63.54                  43                     7.76   \n",
       "19                    65.64                  13                     3.08   \n",
       "20                    63.47                  13                     4.02   \n",
       "21                    58.59                  26                     3.99   \n",
       "22                    61.63                  34                     3.86   \n",
       "23                    64.02                  28                     3.37   \n",
       "24                    59.52                   8                     1.06   \n",
       "25                    60.00                   1                    10.00   \n",
       "26                    66.64                  35                     3.29   \n",
       "27                    66.76                  37                     5.30   \n",
       "28                    61.17                  30                     5.15   \n",
       "29                    69.52                  21                     3.74   \n",
       "30                    61.81                  17                     3.94   \n",
       "31                    58.22                   9                     1.51   \n",
       "32                    62.33                  16                    10.96   \n",
       "33                    55.80                  13                     9.42   \n",
       "34                    64.29                   0                     0.00   \n",
       "35                    63.78                  10                     3.94   \n",
       "36                    62.24                  40                     5.21   \n",
       "37                    67.44                  25                     4.13   \n",
       "38                    61.53                  23                     3.90   \n",
       "39                    63.59                  23                     6.07   \n",
       "40                    57.14                  35                     5.62   \n",
       "41                    43.17                  40                     3.69   \n",
       "42                    56.39                  41                     5.82   \n",
       "43                    75.79                   9                     3.57   \n",
       "44                    57.52                  40                     5.28   \n",
       "45                    59.62                   4                     7.69   \n",
       "\n",
       "    Total Votes Cast  \n",
       "0                724  \n",
       "1                617  \n",
       "2                724  \n",
       "3                515  \n",
       "4                 11  \n",
       "5                539  \n",
       "6                385  \n",
       "7                456  \n",
       "8                252  \n",
       "9                355  \n",
       "10                 5  \n",
       "11               617  \n",
       "12               275  \n",
       "13               952  \n",
       "14               456  \n",
       "15               789  \n",
       "16               957  \n",
       "17               330  \n",
       "18               554  \n",
       "19               422  \n",
       "20               323  \n",
       "21               652  \n",
       "22               881  \n",
       "23               831  \n",
       "24               756  \n",
       "25                10  \n",
       "26              1064  \n",
       "27               698  \n",
       "28               582  \n",
       "29               561  \n",
       "30               432  \n",
       "31               596  \n",
       "32               146  \n",
       "33               138  \n",
       "34                14  \n",
       "35               254  \n",
       "36               768  \n",
       "37               605  \n",
       "38               590  \n",
       "39               379  \n",
       "40               623  \n",
       "41              1084  \n",
       "42               704  \n",
       "43               252  \n",
       "44               758  \n",
       "45                52  "
      ]
     },
     "execution_count": 19,
     "metadata": {},
     "output_type": "execute_result"
    }
   ],
   "source": [
    "import csv\n",
    "\n",
    "# Initialize variables to store data\n",
    "data = []\n",
    "current_precinct = None\n",
    "\n",
    "# Read the text file line by line\n",
    "with open('formatted_text_update2.txt', 'r') as file:\n",
    "    for line in file:\n",
    "        line = line.strip()  # Remove leading/trailing whitespaces\n",
    "        if line.startswith(\"Precinct \"):\n",
    "            # A new precinct, save the current precinct\n",
    "            if current_precinct is not None:\n",
    "                data.append(current_precinct)\n",
    "            current_precinct = {\"Precinct\": line.split(\"Precinct \")[1]}\n",
    "        elif line.startswith((\"Jarrett\", \"David\", \"John\", \"Dominque\")):\n",
    "            # Candidate data\n",
    "            parts = line.split()\n",
    "            candidate_name = \" \".join(parts[:-2])\n",
    "            try:\n",
    "                # Remove commas from the numbers before converting\n",
    "                votes = int(parts[-2].replace(',', ''))\n",
    "                percentage = float(parts[-1][:-1])  # Remove the '%' sign\n",
    "                # Add separate \"Votes\" and \"Percentage\" columns for each candidate\n",
    "                current_precinct[f\"{candidate_name} Votes\"] = votes\n",
    "                current_precinct[f\"{candidate_name} Percentage\"] = percentage\n",
    "            except ValueError:\n",
    "                # Handle the case where the last part doesn't contain a valid integer for votes\n",
    "                pass\n",
    "        elif line.startswith(\"Total Votes Cast\"):\n",
    "            # Total Votes Cast\n",
    "            parts = line.split()\n",
    "            try:\n",
    "                # Remove commas from the numbers before converting\n",
    "                total_votes = int(parts[-2].replace(',', ''))\n",
    "                current_precinct[\"Total Votes Cast\"] = total_votes\n",
    "            except ValueError:\n",
    "                # Handle the case where the last part doesn't contain a valid integer\n",
    "                pass\n",
    "\n",
    "# Append the last precinct\n",
    "if current_precinct is not None:\n",
    "    data.append(current_precinct)\n",
    "\n",
    "# Define the CSV file name\n",
    "csv_file = 'formatted_df.csv'\n",
    "\n",
    "# Write the data to a CSV file\n",
    "with open(csv_file, 'w', newline='') as csvfile:\n",
    "    fieldnames = [\"Precinct\", \"Jarrett Lipman Votes\", \"Jarrett Lipman Percentage\", \n",
    "                  \"David Allan Lara Votes\", \"David Allan Lara Percentage\", \n",
    "                  \"John Courage Votes\", \"John Courage Percentage\", \n",
    "                  \"Dominque Lui Votes\", \"Dominque Lui Percentage\", \n",
    "                  \"Total Votes Cast\"]\n",
    "    writer = csv.DictWriter(csvfile, fieldnames=fieldnames)\n",
    "    \n",
    "    writer.writeheader()  # Write the CSV header\n",
    "    for precinct in data:\n",
    "        writer.writerow(precinct)\n",
    "\n",
    "# Read the CSV file into a DataFrame\n",
    "import pandas as pd\n",
    "\n",
    "df = pd.read_csv(csv_file)\n",
    "\n",
    "# Display the DataFramed\n",
    "df"
   ]
  },
  {
   "cell_type": "code",
   "execution_count": 20,
   "metadata": {},
   "outputs": [
    {
     "data": {
      "text/plain": [
       "23688"
      ]
     },
     "execution_count": 20,
     "metadata": {},
     "output_type": "execute_result"
    }
   ],
   "source": [
    "total_votes = df[\"Total Votes Cast\"].sum()\n",
    "total_votes"
   ]
  },
  {
   "cell_type": "code",
   "execution_count": 26,
   "metadata": {},
   "outputs": [
    {
     "data": {
      "text/plain": [
       "6375"
      ]
     },
     "execution_count": 26,
     "metadata": {},
     "output_type": "execute_result"
    }
   ],
   "source": [
    "lipman_votes = df[\"Jarrett Lipman Votes\"].sum()\n",
    "lipman_votes"
   ]
  },
  {
   "cell_type": "code",
   "execution_count": 21,
   "metadata": {},
   "outputs": [
    {
     "data": {
      "text/plain": [
       "138.58695652173913"
      ]
     },
     "execution_count": 21,
     "metadata": {},
     "output_type": "execute_result"
    }
   ],
   "source": [
    "lipman_avg_votes = df[\"Jarrett Lipman Votes\"].mean()\n",
    "lipman_avg_votes"
   ]
  },
  {
   "cell_type": "code",
   "execution_count": 23,
   "metadata": {},
   "outputs": [
    {
     "data": {
      "text/plain": [
       "28.295434782608694"
      ]
     },
     "execution_count": 23,
     "metadata": {},
     "output_type": "execute_result"
    }
   ],
   "source": [
    "lipman_avg_percentage = df[\"Jarrett Lipman Percentage\"].mean()\n",
    "lipman_avg_percentage"
   ]
  },
  {
   "cell_type": "code",
   "execution_count": 24,
   "metadata": {},
   "outputs": [
    {
     "data": {
      "text/plain": [
       "Precinct                       3165.00\n",
       "Jarrett Lipman Votes            531.00\n",
       "Jarrett Lipman Percentage        48.99\n",
       "David Allan Lara Votes           45.00\n",
       "David Allan Lara Percentage       4.15\n",
       "John Courage Votes              468.00\n",
       "John Courage Percentage          43.17\n",
       "Dominque Lui Votes               40.00\n",
       "Dominque Lui Percentage           3.69\n",
       "Total Votes Cast               1084.00\n",
       "Name: 41, dtype: float64"
      ]
     },
     "execution_count": 24,
     "metadata": {},
     "output_type": "execute_result"
    }
   ],
   "source": [
    "lipman_top_precinct = df.loc[df[\"Jarrett Lipman Votes\"].idxmax()]\n",
    "lipman_top_precinct"
   ]
  },
  {
   "cell_type": "code",
   "execution_count": 25,
   "metadata": {},
   "outputs": [
    {
     "data": {
      "text/plain": [
       "Precinct                       3062.0\n",
       "Jarrett Lipman Votes              2.0\n",
       "Jarrett Lipman Percentage        40.0\n",
       "David Allan Lara Votes            0.0\n",
       "David Allan Lara Percentage       0.0\n",
       "John Courage Votes                3.0\n",
       "John Courage Percentage          60.0\n",
       "Dominque Lui Votes                0.0\n",
       "Dominque Lui Percentage           0.0\n",
       "Total Votes Cast                  5.0\n",
       "Name: 10, dtype: float64"
      ]
     },
     "execution_count": 25,
     "metadata": {},
     "output_type": "execute_result"
    }
   ],
   "source": [
    "lipman_lowest_precinct = df.loc[df[\"Jarrett Lipman Votes\"].idxmin()]\n",
    "lipman_lowest_precinct"
   ]
  },
  {
   "cell_type": "code",
   "execution_count": 36,
   "metadata": {},
   "outputs": [
    {
     "data": {
      "image/png": "[encoded data removed]",
      "text/plain": [
       "<Figure size 800x800 with 1 Axes>"
      ]
     },
     "metadata": {},
     "output_type": "display_data"
    },
    {
     "ename": "",
     "evalue": "",
     "output_type": "error",
     "traceback": [
      "\u001b[1;31mThe Kernel crashed while executing code in the the current cell or a previous cell. Please review the code in the cell(s) to identify a possible cause of the failure. Click <a href='https://aka.ms/vscodeJupyterKernelCrash'>here</a> for more info. View Jupyter <a href='command:jupyter.viewOutput'>log</a> for further details."
     ]
    }
   ],
   "source": [
    "import matplotlib.pyplot as plt\n",
    "\n",
    "# Candidate names and corresponding column names\n",
    "candidates = ['Jarrett Lipman', 'David Allan Lara', 'John Courage', 'Dominque Lui']\n",
    "vote_columns = ['Jarrett Lipman Votes', 'David Allan Lara Votes', 'John Courage Votes', 'Dominque Lui Votes']\n",
    "\n",
    "# Calculate the total votes for each candidate\n",
    "total_votes = [df[column].sum() for column in vote_columns]\n",
    "\n",
    "# Create a pie chart\n",
    "plt.figure(figsize=(8, 8))\n",
    "plt.pie(total_votes, labels=candidates, autopct='%1.1f%%', startangle=140)\n",
    "plt.title('Total Votes Cast for Each Candidate for City Council District 9')\n",
    "plt.show()\n"
   ]
  },
  {
   "cell_type": "code",
   "execution_count": 35,
   "metadata": {},
   "outputs": [
    {
     "data": {
      "application/vnd.plotly.v1+json": {
       "config": {
        "plotlyServerURL": "https://plot.ly"
       },
       "data": [
        {
         "marker": {
          "color": "#1f77b4"
         },
         "showlegend": false,
         "text": [
          "6375"
         ],
         "textposition": "outside",
         "type": "bar",
         "x": [
          "Jarrett Lipman"
         ],
         "y": [
          6375
         ]
        },
        {
         "marker": {
          "color": "#ff7f0e"
         },
         "showlegend": false,
         "text": [
          "1364"
         ],
         "textposition": "outside",
         "type": "bar",
         "x": [
          "David Allan Lara"
         ],
         "y": [
          1364
         ]
        },
        {
         "marker": {
          "color": "#2ca02c"
         },
         "showlegend": false,
         "text": [
          "14860"
         ],
         "textposition": "outside",
         "type": "bar",
         "x": [
          "John Courage"
         ],
         "y": [
          14860
         ]
        },
        {
         "marker": {
          "color": "#d62728"
         },
         "showlegend": false,
         "text": [
          "997"
         ],
         "textposition": "outside",
         "type": "bar",
         "x": [
          "Dominque Lui"
         ],
         "y": [
          997
         ]
        }
       ],
       "layout": {
        "height": 600,
        "template": {
         "data": {
          "bar": [
           {
            "error_x": {
             "color": "#2a3f5f"
            },
            "error_y": {
             "color": "#2a3f5f"
            },
            "marker": {
             "line": {
              "color": "#E5ECF6",
              "width": 0.5
             },
             "pattern": {
              "fillmode": "overlay",
              "size": 10,
              "solidity": 0.2
             }
            },
            "type": "bar"
           }
          ],
          "barpolar": [
           {
            "marker": {
             "line": {
              "color": "#E5ECF6",
              "width": 0.5
             },
             "pattern": {
              "fillmode": "overlay",
              "size": 10,
              "solidity": 0.2
             }
            },
            "type": "barpolar"
           }
          ],
          "carpet": [
           {
            "aaxis": {
             "endlinecolor": "#2a3f5f",
             "gridcolor": "white",
             "linecolor": "white",
             "minorgridcolor": "white",
             "startlinecolor": "#2a3f5f"
            },
            "baxis": {
             "endlinecolor": "#2a3f5f",
             "gridcolor": "white",
             "linecolor": "white",
             "minorgridcolor": "white",
             "startlinecolor": "#2a3f5f"
            },
            "type": "carpet"
           }
          ],
          "choropleth": [
           {
            "colorbar": {
             "outlinewidth": 0,
             "ticks": ""
            },
            "type": "choropleth"
           }
          ],
          "contour": [
           {
            "colorbar": {
             "outlinewidth": 0,
             "ticks": ""
            },
            "colorscale": [
             [
              0,
              "#0d0887"
             ],
             [
              0.1111111111111111,
              "#46039f"
             ],
             [
              0.2222222222222222,
              "#7201a8"
             ],
             [
              0.3333333333333333,
              "#9c179e"
             ],
             [
              0.4444444444444444,
              "#bd3786"
             ],
             [
              0.5555555555555556,
              "#d8576b"
             ],
             [
              0.6666666666666666,
              "#ed7953"
             ],
             [
              0.7777777777777778,
              "#fb9f3a"
             ],
             [
              0.8888888888888888,
              "#fdca26"
             ],
             [
              1,
              "#f0f921"
             ]
            ],
            "type": "contour"
           }
          ],
          "contourcarpet": [
           {
            "colorbar": {
             "outlinewidth": 0,
             "ticks": ""
            },
            "type": "contourcarpet"
           }
          ],
          "heatmap": [
           {
            "colorbar": {
             "outlinewidth": 0,
             "ticks": ""
            },
            "colorscale": [
             [
              0,
              "#0d0887"
             ],
             [
              0.1111111111111111,
              "#46039f"
             ],
             [
              0.2222222222222222,
              "#7201a8"
             ],
             [
              0.3333333333333333,
              "#9c179e"
             ],
             [
              0.4444444444444444,
              "#bd3786"
             ],
             [
              0.5555555555555556,
              "#d8576b"
             ],
             [
              0.6666666666666666,
              "#ed7953"
             ],
             [
              0.7777777777777778,
              "#fb9f3a"
             ],
             [
              0.8888888888888888,
              "#fdca26"
             ],
             [
              1,
              "#f0f921"
             ]
            ],
            "type": "heatmap"
           }
          ],
          "heatmapgl": [
           {
            "colorbar": {
             "outlinewidth": 0,
             "ticks": ""
            },
            "colorscale": [
             [
              0,
              "#0d0887"
             ],
             [
              0.1111111111111111,
              "#46039f"
             ],
             [
              0.2222222222222222,
              "#7201a8"
             ],
             [
              0.3333333333333333,
              "#9c179e"
             ],
             [
              0.4444444444444444,
              "#bd3786"
             ],
             [
              0.5555555555555556,
              "#d8576b"
             ],
             [
              0.6666666666666666,
              "#ed7953"
             ],
             [
              0.7777777777777778,
              "#fb9f3a"
             ],
             [
              0.8888888888888888,
              "#fdca26"
             ],
             [
              1,
              "#f0f921"
             ]
            ],
            "type": "heatmapgl"
           }
          ],
          "histogram": [
           {
            "marker": {
             "pattern": {
              "fillmode": "overlay",
              "size": 10,
              "solidity": 0.2
             }
            },
            "type": "histogram"
           }
          ],
          "histogram2d": [
           {
            "colorbar": {
             "outlinewidth": 0,
             "ticks": ""
            },
            "colorscale": [
             [
              0,
              "#0d0887"
             ],
             [
              0.1111111111111111,
              "#46039f"
             ],
             [
              0.2222222222222222,
              "#7201a8"
             ],
             [
              0.3333333333333333,
              "#9c179e"
             ],
             [
              0.4444444444444444,
              "#bd3786"
             ],
             [
              0.5555555555555556,
              "#d8576b"
             ],
             [
              0.6666666666666666,
              "#ed7953"
             ],
             [
              0.7777777777777778,
              "#fb9f3a"
             ],
             [
              0.8888888888888888,
              "#fdca26"
             ],
             [
              1,
              "#f0f921"
             ]
            ],
            "type": "histogram2d"
           }
          ],
          "histogram2dcontour": [
           {
            "colorbar": {
             "outlinewidth": 0,
             "ticks": ""
            },
            "colorscale": [
             [
              0,
              "#0d0887"
             ],
             [
              0.1111111111111111,
              "#46039f"
             ],
             [
              0.2222222222222222,
              "#7201a8"
             ],
             [
              0.3333333333333333,
              "#9c179e"
             ],
             [
              0.4444444444444444,
              "#bd3786"
             ],
             [
              0.5555555555555556,
              "#d8576b"
             ],
             [
              0.6666666666666666,
              "#ed7953"
             ],
             [
              0.7777777777777778,
              "#fb9f3a"
             ],
             [
              0.8888888888888888,
              "#fdca26"
             ],
             [
              1,
              "#f0f921"
             ]
            ],
            "type": "histogram2dcontour"
           }
          ],
          "mesh3d": [
           {
            "colorbar": {
             "outlinewidth": 0,
             "ticks": ""
            },
            "type": "mesh3d"
           }
          ],
          "parcoords": [
           {
            "line": {
             "colorbar": {
              "outlinewidth": 0,
              "ticks": ""
             }
            },
            "type": "parcoords"
           }
          ],
          "pie": [
           {
            "automargin": true,
            "type": "pie"
           }
          ],
          "scatter": [
           {
            "fillpattern": {
             "fillmode": "overlay",
             "size": 10,
             "solidity": 0.2
            },
            "type": "scatter"
           }
          ],
          "scatter3d": [
           {
            "line": {
             "colorbar": {
              "outlinewidth": 0,
              "ticks": ""
             }
            },
            "marker": {
             "colorbar": {
              "outlinewidth": 0,
              "ticks": ""
             }
            },
            "type": "scatter3d"
           }
          ],
          "scattercarpet": [
           {
            "marker": {
             "colorbar": {
              "outlinewidth": 0,
              "ticks": ""
             }
            },
            "type": "scattercarpet"
           }
          ],
          "scattergeo": [
           {
            "marker": {
             "colorbar": {
              "outlinewidth": 0,
              "ticks": ""
             }
            },
            "type": "scattergeo"
           }
          ],
          "scattergl": [
           {
            "marker": {
             "colorbar": {
              "outlinewidth": 0,
              "ticks": ""
             }
            },
            "type": "scattergl"
           }
          ],
          "scattermapbox": [
           {
            "marker": {
             "colorbar": {
              "outlinewidth": 0,
              "ticks": ""
             }
            },
            "type": "scattermapbox"
           }
          ],
          "scatterpolar": [
           {
            "marker": {
             "colorbar": {
              "outlinewidth": 0,
              "ticks": ""
             }
            },
            "type": "scatterpolar"
           }
          ],
          "scatterpolargl": [
           {
            "marker": {
             "colorbar": {
              "outlinewidth": 0,
              "ticks": ""
             }
            },
            "type": "scatterpolargl"
           }
          ],
          "scatterternary": [
           {
            "marker": {
             "colorbar": {
              "outlinewidth": 0,
              "ticks": ""
             }
            },
            "type": "scatterternary"
           }
          ],
          "surface": [
           {
            "colorbar": {
             "outlinewidth": 0,
             "ticks": ""
            },
            "colorscale": [
             [
              0,
              "#0d0887"
             ],
             [
              0.1111111111111111,
              "#46039f"
             ],
             [
              0.2222222222222222,
              "#7201a8"
             ],
             [
              0.3333333333333333,
              "#9c179e"
             ],
             [
              0.4444444444444444,
              "#bd3786"
             ],
             [
              0.5555555555555556,
              "#d8576b"
             ],
             [
              0.6666666666666666,
              "#ed7953"
             ],
             [
              0.7777777777777778,
              "#fb9f3a"
             ],
             [
              0.8888888888888888,
              "#fdca26"
             ],
             [
              1,
              "#f0f921"
             ]
            ],
            "type": "surface"
           }
          ],
          "table": [
           {
            "cells": {
             "fill": {
              "color": "#EBF0F8"
             },
             "line": {
              "color": "white"
             }
            },
            "header": {
             "fill": {
              "color": "#C8D4E3"
             },
             "line": {
              "color": "white"
             }
            },
            "type": "table"
           }
          ]
         },
         "layout": {
          "annotationdefaults": {
           "arrowcolor": "#2a3f5f",
           "arrowhead": 0,
           "arrowwidth": 1
          },
          "autotypenumbers": "strict",
          "coloraxis": {
           "colorbar": {
            "outlinewidth": 0,
            "ticks": ""
           }
          },
          "colorscale": {
           "diverging": [
            [
             0,
             "#8e0152"
            ],
            [
             0.1,
             "#c51b7d"
            ],
            [
             0.2,
             "#de77ae"
            ],
            [
             0.3,
             "#f1b6da"
            ],
            [
             0.4,
             "#fde0ef"
            ],
            [
             0.5,
             "#f7f7f7"
            ],
            [
             0.6,
             "#e6f5d0"
            ],
            [
             0.7,
             "#b8e186"
            ],
            [
             0.8,
             "#7fbc41"
            ],
            [
             0.9,
             "#4d9221"
            ],
            [
             1,
             "#276419"
            ]
           ],
           "sequential": [
            [
             0,
             "#0d0887"
            ],
            [
             0.1111111111111111,
             "#46039f"
            ],
            [
             0.2222222222222222,
             "#7201a8"
            ],
            [
             0.3333333333333333,
             "#9c179e"
            ],
            [
             0.4444444444444444,
             "#bd3786"
            ],
            [
             0.5555555555555556,
             "#d8576b"
            ],
            [
             0.6666666666666666,
             "#ed7953"
            ],
            [
             0.7777777777777778,
             "#fb9f3a"
            ],
            [
             0.8888888888888888,
             "#fdca26"
            ],
            [
             1,
             "#f0f921"
            ]
           ],
           "sequentialminus": [
            [
             0,
             "#0d0887"
            ],
            [
             0.1111111111111111,
             "#46039f"
            ],
            [
             0.2222222222222222,
             "#7201a8"
            ],
            [
             0.3333333333333333,
             "#9c179e"
            ],
            [
             0.4444444444444444,
             "#bd3786"
            ],
            [
             0.5555555555555556,
             "#d8576b"
            ],
            [
             0.6666666666666666,
             "#ed7953"
            ],
            [
             0.7777777777777778,
             "#fb9f3a"
            ],
            [
             0.8888888888888888,
             "#fdca26"
            ],
            [
             1,
             "#f0f921"
            ]
           ]
          },
          "colorway": [
           "#636efa",
           "#EF553B",
           "#00cc96",
           "#ab63fa",
           "#FFA15A",
           "#19d3f3",
           "#FF6692",
           "#B6E880",
           "#FF97FF",
           "#FECB52"
          ],
          "font": {
           "color": "#2a3f5f"
          },
          "geo": {
           "bgcolor": "white",
           "lakecolor": "white",
           "landcolor": "#E5ECF6",
           "showlakes": true,
           "showland": true,
           "subunitcolor": "white"
          },
          "hoverlabel": {
           "align": "left"
          },
          "hovermode": "closest",
          "mapbox": {
           "style": "light"
          },
          "paper_bgcolor": "white",
          "plot_bgcolor": "#E5ECF6",
          "polar": {
           "angularaxis": {
            "gridcolor": "white",
            "linecolor": "white",
            "ticks": ""
           },
           "bgcolor": "#E5ECF6",
           "radialaxis": {
            "gridcolor": "white",
            "linecolor": "white",
            "ticks": ""
           }
          },
          "scene": {
           "xaxis": {
            "backgroundcolor": "#E5ECF6",
            "gridcolor": "white",
            "gridwidth": 2,
            "linecolor": "white",
            "showbackground": true,
            "ticks": "",
            "zerolinecolor": "white"
           },
           "yaxis": {
            "backgroundcolor": "#E5ECF6",
            "gridcolor": "white",
            "gridwidth": 2,
            "linecolor": "white",
            "showbackground": true,
            "ticks": "",
            "zerolinecolor": "white"
           },
           "zaxis": {
            "backgroundcolor": "#E5ECF6",
            "gridcolor": "white",
            "gridwidth": 2,
            "linecolor": "white",
            "showbackground": true,
            "ticks": "",
            "zerolinecolor": "white"
           }
          },
          "shapedefaults": {
           "line": {
            "color": "#2a3f5f"
           }
          },
          "ternary": {
           "aaxis": {
            "gridcolor": "white",
            "linecolor": "white",
            "ticks": ""
           },
           "baxis": {
            "gridcolor": "white",
            "linecolor": "white",
            "ticks": ""
           },
           "bgcolor": "#E5ECF6",
           "caxis": {
            "gridcolor": "white",
            "linecolor": "white",
            "ticks": ""
           }
          },
          "title": {
           "x": 0.05
          },
          "xaxis": {
           "automargin": true,
           "gridcolor": "white",
           "linecolor": "white",
           "ticks": "",
           "title": {
            "standoff": 15
           },
           "zerolinecolor": "white",
           "zerolinewidth": 2
          },
          "yaxis": {
           "automargin": true,
           "gridcolor": "white",
           "linecolor": "white",
           "ticks": "",
           "title": {
            "standoff": 15
           },
           "zerolinecolor": "white",
           "zerolinewidth": 2
          }
         }
        },
        "title": {
         "text": "Total Votes Cast for Each Candidate"
        },
        "xaxis": {
         "tickangle": -45
        }
       }
      }
     },
     "metadata": {},
     "output_type": "display_data"
    }
   ],
   "source": [
    "import plotly.graph_objects as go\n",
    "\n",
    "# Candidate names and corresponding column names\n",
    "candidates = ['Jarrett Lipman', 'David Allan Lara', 'John Courage', 'Dominque Lui']\n",
    "vote_columns = ['Jarrett Lipman Votes', 'David Allan Lara Votes', 'John Courage Votes', 'Dominque Lui Votes']\n",
    "\n",
    "# Calculate the total votes for each candidate\n",
    "total_votes = [df[column].sum() for column in vote_columns]\n",
    "\n",
    "# Define custom colors for each candidate\n",
    "colors = ['#1f77b4', '#ff7f0e', '#2ca02c', '#d62728']\n",
    "\n",
    "# Create a Plotly bar chart\n",
    "fig = go.Figure()\n",
    "\n",
    "for candidate, votes, color in zip(candidates, total_votes, colors):\n",
    "    fig.add_trace(go.Bar(x=[candidate], y=[votes], text=[votes], textposition='outside', marker_color=color, showlegend=False))\n",
    "\n",
    "fig.update_layout(title='Total Votes Cast for Each Candidate', xaxis_tickangle=-45)\n",
    "\n",
    "# Adjust the height of the graph\n",
    "fig.update_layout(height=600)\n",
    "\n",
    "# Show the interactive chart\n",
    "fig.show()"
   ]
  },
  {
   "cell_type": "code",
   "execution_count": null,
   "metadata": {},
   "outputs": [],
   "source": []
  }
 ],
 "metadata": {
  "kernelspec": {
   "display_name": "Python 3",
   "language": "python",
   "name": "python3"
  },
  "language_info": {
   "codemirror_mode": {
    "name": "ipython",
    "version": 3
   },
   "file_extension": ".py",
   "mimetype": "text/x-python",
   "name": "python",
   "nbconvert_exporter": "python",
   "pygments_lexer": "ipython3",
   "version": "3.11.5"
  },
  "orig_nbformat": 4
 },
 "nbformat": 4,
 "nbformat_minor": 2
}
